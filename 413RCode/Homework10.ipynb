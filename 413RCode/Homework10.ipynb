{
  "nbformat": 4,
  "nbformat_minor": 0,
  "metadata": {
    "colab": {
      "provenance": [],
      "authorship_tag": "ABX9TyPQyFeSEz/slHy4Q2TBhut3",
      "include_colab_link": true
    },
    "kernelspec": {
      "name": "ir",
      "display_name": "R"
    },
    "language_info": {
      "name": "R"
    }
  },
  "cells": [
    {
      "cell_type": "markdown",
      "metadata": {
        "id": "view-in-github",
        "colab_type": "text"
      },
      "source": [
        "<a href=\"https://colab.research.google.com/github/aniusoro/Uni/blob/main/Homework10.ipynb\" target=\"_parent\"><img src=\"https://colab.research.google.com/assets/colab-badge.svg\" alt=\"Open In Colab\"/></a>"
      ]
    },
    {
      "cell_type": "code",
      "source": [
        "install.packages(\"car\")\n",
        "library(car)"
      ],
      "metadata": {
        "colab": {
          "base_uri": "https://localhost:8080/"
        },
        "id": "XApLT1f1TU1Q",
        "outputId": "25bc9dc1-703a-4354-843c-424cc87b2849"
      },
      "execution_count": 1,
      "outputs": [
        {
          "output_type": "stream",
          "name": "stderr",
          "text": [
            "Installing package into ‘/usr/local/lib/R/site-library’\n",
            "(as ‘lib’ is unspecified)\n",
            "\n",
            "also installing the dependencies ‘numDeriv’, ‘SparseM’, ‘MatrixModels’, ‘minqa’, ‘nloptr’, ‘Rcpp’, ‘RcppEigen’, ‘carData’, ‘abind’, ‘pbkrtest’, ‘quantreg’, ‘lme4’\n",
            "\n",
            "\n",
            "Loading required package: carData\n",
            "\n"
          ]
        }
      ]
    },
    {
      "cell_type": "code",
      "source": [
        "install.packages(\"plyr\")"
      ],
      "metadata": {
        "colab": {
          "base_uri": "https://localhost:8080/"
        },
        "id": "qIw4owhw5Jwq",
        "outputId": "e3341c08-df8e-4fcf-ceb6-79b8a182439d"
      },
      "execution_count": 2,
      "outputs": [
        {
          "output_type": "stream",
          "name": "stderr",
          "text": [
            "Installing package into ‘/usr/local/lib/R/site-library’\n",
            "(as ‘lib’ is unspecified)\n",
            "\n"
          ]
        }
      ]
    },
    {
      "cell_type": "code",
      "source": [
        "install.packages(\"dplyr\")"
      ],
      "metadata": {
        "colab": {
          "base_uri": "https://localhost:8080/"
        },
        "id": "nJCqquR36XIb",
        "outputId": "e289c7e1-21d6-46d2-8b6a-5a98dc97bf90"
      },
      "execution_count": 3,
      "outputs": [
        {
          "output_type": "stream",
          "name": "stderr",
          "text": [
            "Installing package into ‘/usr/local/lib/R/site-library’\n",
            "(as ‘lib’ is unspecified)\n",
            "\n"
          ]
        }
      ]
    },
    {
      "cell_type": "markdown",
      "source": [
        "Question 1:"
      ],
      "metadata": {
        "id": "budJvW7K4r6s"
      }
    },
    {
      "cell_type": "code",
      "source": [
        "smokers = read.csv(\"smokers.csv\")\n",
        "library(ggplot2)\n",
        "library(plyr)\n",
        "library(dplyr)\n",
        "plotdata = ddply(smokers, c(\"Condition\"), summarise,\n",
        "                n = length(Latency),\n",
        "                mean = mean(Latency),\n",
        "                s = sd(Latency),\n",
        "                se = s/sqrt(n),\n",
        "                df = n - 1,\n",
        "                alpha = 0.05,\n",
        "                t_crit = qt(alpha/2, df = df, lower.tail = FALSE),\n",
        "                MOE = t_crit * se,\n",
        "                CI_bottom = mean - MOE,\n",
        "                CI_upper = mean + MOE\n",
        ")\n",
        "plotdata\n",
        "ggplot(plotdata, aes(x = Condition, y = mean)) +\n",
        "  geom_bar(stat = \"identity\", colour = \"black\",aes(fill = Condition )) + \n",
        "  geom_errorbar(aes(ymin = CI_bottom,\n",
        "                  ymax = CI_upper),\n",
        "                  width = .25) + \n",
        "  xlab(\"Condition\") + \n",
        "  ylab(\"Latency\") + \n",
        "  theme(legend.position=\"none\")"
      ],
      "metadata": {
        "colab": {
          "base_uri": "https://localhost:8080/",
          "height": 1000
        },
        "id": "v19YVo1I40BO",
        "outputId": "304ac08f-c1b4-44a1-8db5-0d72684ca568"
      },
      "execution_count": 4,
      "outputs": [
        {
          "output_type": "stream",
          "name": "stderr",
          "text": [
            "\n",
            "Attaching package: ‘dplyr’\n",
            "\n",
            "\n",
            "The following objects are masked from ‘package:plyr’:\n",
            "\n",
            "    arrange, count, desc, failwith, id, mutate, rename, summarise,\n",
            "    summarize\n",
            "\n",
            "\n",
            "The following object is masked from ‘package:car’:\n",
            "\n",
            "    recode\n",
            "\n",
            "\n",
            "The following objects are masked from ‘package:stats’:\n",
            "\n",
            "    filter, lag\n",
            "\n",
            "\n",
            "The following objects are masked from ‘package:base’:\n",
            "\n",
            "    intersect, setdiff, setequal, union\n",
            "\n",
            "\n"
          ]
        },
        {
          "output_type": "display_data",
          "data": {
            "text/html": [
              "<table class=\"dataframe\">\n",
              "<caption>A data.frame: 3 × 11</caption>\n",
              "<thead>\n",
              "\t<tr><th scope=col>Condition</th><th scope=col>n</th><th scope=col>mean</th><th scope=col>s</th><th scope=col>se</th><th scope=col>df</th><th scope=col>alpha</th><th scope=col>t_crit</th><th scope=col>MOE</th><th scope=col>CI_bottom</th><th scope=col>CI_upper</th></tr>\n",
              "\t<tr><th scope=col>&lt;chr&gt;</th><th scope=col>&lt;int&gt;</th><th scope=col>&lt;dbl&gt;</th><th scope=col>&lt;dbl&gt;</th><th scope=col>&lt;dbl&gt;</th><th scope=col>&lt;dbl&gt;</th><th scope=col>&lt;dbl&gt;</th><th scope=col>&lt;dbl&gt;</th><th scope=col>&lt;dbl&gt;</th><th scope=col>&lt;dbl&gt;</th><th scope=col>&lt;dbl&gt;</th></tr>\n",
              "</thead>\n",
              "<tbody>\n",
              "\t<tr><td>AS</td><td>15</td><td>9.933333</td><td>6.518837</td><td>1.6831565</td><td>14</td><td>0.05</td><td>2.144787</td><td>3.6100117</td><td>6.323322</td><td>13.54335</td></tr>\n",
              "\t<tr><td>DS</td><td>15</td><td>9.600000</td><td>4.404543</td><td>1.1372481</td><td>14</td><td>0.05</td><td>2.144787</td><td>2.4391547</td><td>7.160845</td><td>12.03915</td></tr>\n",
              "\t<tr><td>NS</td><td>15</td><td>9.400000</td><td>1.404076</td><td>0.3625308</td><td>14</td><td>0.05</td><td>2.144787</td><td>0.7775512</td><td>8.622449</td><td>10.17755</td></tr>\n",
              "</tbody>\n",
              "</table>\n"
            ],
            "text/markdown": "\nA data.frame: 3 × 11\n\n| Condition &lt;chr&gt; | n &lt;int&gt; | mean &lt;dbl&gt; | s &lt;dbl&gt; | se &lt;dbl&gt; | df &lt;dbl&gt; | alpha &lt;dbl&gt; | t_crit &lt;dbl&gt; | MOE &lt;dbl&gt; | CI_bottom &lt;dbl&gt; | CI_upper &lt;dbl&gt; |\n|---|---|---|---|---|---|---|---|---|---|---|\n| AS | 15 | 9.933333 | 6.518837 | 1.6831565 | 14 | 0.05 | 2.144787 | 3.6100117 | 6.323322 | 13.54335 |\n| DS | 15 | 9.600000 | 4.404543 | 1.1372481 | 14 | 0.05 | 2.144787 | 2.4391547 | 7.160845 | 12.03915 |\n| NS | 15 | 9.400000 | 1.404076 | 0.3625308 | 14 | 0.05 | 2.144787 | 0.7775512 | 8.622449 | 10.17755 |\n\n",
            "text/latex": "A data.frame: 3 × 11\n\\begin{tabular}{lllllllllll}\n Condition & n & mean & s & se & df & alpha & t\\_crit & MOE & CI\\_bottom & CI\\_upper\\\\\n <chr> & <int> & <dbl> & <dbl> & <dbl> & <dbl> & <dbl> & <dbl> & <dbl> & <dbl> & <dbl>\\\\\n\\hline\n\t AS & 15 & 9.933333 & 6.518837 & 1.6831565 & 14 & 0.05 & 2.144787 & 3.6100117 & 6.323322 & 13.54335\\\\\n\t DS & 15 & 9.600000 & 4.404543 & 1.1372481 & 14 & 0.05 & 2.144787 & 2.4391547 & 7.160845 & 12.03915\\\\\n\t NS & 15 & 9.400000 & 1.404076 & 0.3625308 & 14 & 0.05 & 2.144787 & 0.7775512 & 8.622449 & 10.17755\\\\\n\\end{tabular}\n",
            "text/plain": [
              "  Condition n  mean     s        se        df alpha t_crit   MOE      \n",
              "1 AS        15 9.933333 6.518837 1.6831565 14 0.05  2.144787 3.6100117\n",
              "2 DS        15 9.600000 4.404543 1.1372481 14 0.05  2.144787 2.4391547\n",
              "3 NS        15 9.400000 1.404076 0.3625308 14 0.05  2.144787 0.7775512\n",
              "  CI_bottom CI_upper\n",
              "1 6.323322  13.54335\n",
              "2 7.160845  12.03915\n",
              "3 8.622449  10.17755"
            ]
          },
          "metadata": {}
        },
        {
          "output_type": "display_data",
          "data": {
            "text/plain": [
              "plot without title"
            ],
            "image/png": "[encoded data removed]"
          },
          "metadata": {
            "image/png": {
              "width": 420,
              "height": 420
            }
          }
        }
      ]
    },
    {
      "cell_type": "markdown",
      "source": [
        "Question 2:"
      ],
      "metadata": {
        "id": "7zhTuiLz7xbr"
      }
    },
    {
      "cell_type": "markdown",
      "source": [
        "The problem with the data is that there is too much variation in intervals between the three Conditions."
      ],
      "metadata": {
        "id": "GMXFgdYD7zXv"
      }
    },
    {
      "cell_type": "markdown",
      "source": [
        "Question 3:"
      ],
      "metadata": {
        "id": "RMF-Zbtu77IP"
      }
    },
    {
      "cell_type": "code",
      "source": [
        "latency = smokers$Latency\n",
        "# Grand Mean\n",
        "gm = mean(latency)\n",
        "\n",
        "# sum of squares total (sst)\n",
        "sst = sum((latency - gm)^2)\n",
        "\n",
        "# model sum of squares (ssm)\n",
        "ssm = sum(plotdata$n * (plotdata$mean - gm)^2)\n",
        "\n",
        "# residual sum of squares (ssr)\n",
        "ssr = sst - ssm\n",
        "\n",
        "# degree of freedom (total)\n",
        "dftotal = 45 - 1\n",
        "dftotal\n",
        "\n",
        "# degree of freedom (model)\n",
        "dfmodel = 3 - 1\n",
        "dfmodel\n",
        "\n",
        "# model sum of squares (msm)\n",
        "msm = ssm / dfmodel\n",
        "\n",
        "# degrees of freedom (residuals)\n",
        "dfres = dftotal - dfmodel\n",
        "\n",
        "# residual mean squares\n",
        "msr = ssr / dfres\n",
        "\n",
        "# multiple rsquared\n",
        "msq = ssm / sst\n",
        "\n",
        "# fstat\n",
        "fstat = msm / msr\n",
        "round(fstat, 6)\n",
        "\n",
        "# pvalue\n",
        "q3pval = pf(fstat, df1 = 2, df2 = 42, lower.tail = FALSE)\n",
        "round(q3pval, 6)"
      ],
      "metadata": {
        "colab": {
          "base_uri": "https://localhost:8080/",
          "height": 86
        },
        "id": "Woij5uQm79A1",
        "outputId": "f32cfd09-379f-4b41-fa8f-baeb20bb0cb4"
      },
      "execution_count": 5,
      "outputs": [
        {
          "output_type": "display_data",
          "data": {
            "text/html": [
              "44"
            ],
            "text/markdown": "44",
            "text/latex": "44",
            "text/plain": [
              "[1] 44"
            ]
          },
          "metadata": {}
        },
        {
          "output_type": "display_data",
          "data": {
            "text/html": [
              "2"
            ],
            "text/markdown": "2",
            "text/latex": "2",
            "text/plain": [
              "[1] 2"
            ]
          },
          "metadata": {}
        },
        {
          "output_type": "display_data",
          "data": {
            "text/html": [
              "0.051148"
            ],
            "text/markdown": "0.051148",
            "text/latex": "0.051148",
            "text/plain": [
              "[1] 0.051148"
            ]
          },
          "metadata": {}
        },
        {
          "output_type": "display_data",
          "data": {
            "text/html": [
              "0.950197"
            ],
            "text/markdown": "0.950197",
            "text/latex": "0.950197",
            "text/plain": [
              "[1] 0.950197"
            ]
          },
          "metadata": {}
        }
      ]
    },
    {
      "cell_type": "markdown",
      "source": [
        "Question 4:"
      ],
      "metadata": {
        "id": "nctLRzij9lFI"
      }
    },
    {
      "cell_type": "code",
      "source": [
        "a = ssm - dfmodel * msr\n",
        "b = (ssm + ssr ) + msr\n",
        "w_sq = a/b\n",
        "round(w_sq, 3)\n",
        "# *******WHAT DOES IT MEAN**********"
      ],
      "metadata": {
        "colab": {
          "base_uri": "https://localhost:8080/",
          "height": 34
        },
        "id": "5mZo-zDg-tFb",
        "outputId": "45363633-0f4d-464b-8a93-ad753ba3de71"
      },
      "execution_count": 6,
      "outputs": [
        {
          "output_type": "display_data",
          "data": {
            "text/html": [
              "-0.044"
            ],
            "text/markdown": "-0.044",
            "text/latex": "-0.044",
            "text/plain": [
              "[1] -0.044"
            ]
          },
          "metadata": {}
        }
      ]
    },
    {
      "cell_type": "markdown",
      "source": [
        "this may mean that the data does not account for any variance\n"
      ],
      "metadata": {
        "id": "9JkKdP5ZCBlP"
      }
    },
    {
      "cell_type": "markdown",
      "source": [
        "Question 5:\n",
        "\n"
      ],
      "metadata": {
        "id": "DnH2fVclAZvF"
      }
    },
    {
      "cell_type": "code",
      "source": [
        "# factor our predictor\n",
        "smokers$Condition = factor(smokers$Condition)\n",
        "\n",
        "cont1 = c(1, 1, -2)\n",
        "cont2 = c(1, -1, 0)\n",
        "\n",
        "contrasts(smokers$Condition) = cbind(cont1, cont2)\n",
        "\n",
        "q5model = lm(Latency ~ Condition, data = smokers)\n",
        "\n",
        "summary(q5model)\n",
        " # ******** MIGHT NEED TO STATE THEM OUT INDIVIDUALLY ********"
      ],
      "metadata": {
        "colab": {
          "base_uri": "https://localhost:8080/",
          "height": 356
        },
        "id": "9tacoVpXCbsX",
        "outputId": "e0c728f7-5a0e-491e-8f01-681dfb3cf840"
      },
      "execution_count": 7,
      "outputs": [
        {
          "output_type": "display_data",
          "data": {
            "text/plain": [
              "\n",
              "Call:\n",
              "lm(formula = Latency ~ Condition, data = smokers)\n",
              "\n",
              "Residuals:\n",
              "   Min     1Q Median     3Q    Max \n",
              "-8.933 -2.400 -0.600  1.600 12.067 \n",
              "\n",
              "Coefficients:\n",
              "               Estimate Std. Error t value Pr(>|t|)    \n",
              "(Intercept)      9.6444     0.6878  14.022   <2e-16 ***\n",
              "Conditioncont1   0.1222     0.4864   0.251    0.803    \n",
              "Conditioncont2   0.1667     0.8424   0.198    0.844    \n",
              "---\n",
              "Signif. codes:  0 ‘***’ 0.001 ‘**’ 0.01 ‘*’ 0.05 ‘.’ 0.1 ‘ ’ 1\n",
              "\n",
              "Residual standard error: 4.614 on 42 degrees of freedom\n",
              "Multiple R-squared:  0.00243,\tAdjusted R-squared:  -0.04507 \n",
              "F-statistic: 0.05115 on 2 and 42 DF,  p-value: 0.9502\n"
            ]
          },
          "metadata": {}
        }
      ]
    },
    {
      "cell_type": "markdown",
      "source": [
        "Question 6:"
      ],
      "metadata": {
        "id": "rIO9M6XeFVjg"
      }
    },
    {
      "cell_type": "code",
      "source": [
        "Rcont1 = ((0.251)^2) / ((0.251)^ 2 + 42)\n",
        "round(Rcont1, 3)\n",
        "\n",
        "Rcont2 = ((0.198)^2) / ((0.198)^ 2 + 42)\n",
        "round(Rcont2, 3)\n"
      ],
      "metadata": {
        "colab": {
          "base_uri": "https://localhost:8080/",
          "height": 52
        },
        "id": "uvkXZnY9Iwkt",
        "outputId": "cba5cf16-cba0-4b4e-d4bb-2d0ee4974bdf"
      },
      "execution_count": 8,
      "outputs": [
        {
          "output_type": "display_data",
          "data": {
            "text/html": [
              "0.001"
            ],
            "text/markdown": "0.001",
            "text/latex": "0.001",
            "text/plain": [
              "[1] 0.001"
            ]
          },
          "metadata": {}
        },
        {
          "output_type": "display_data",
          "data": {
            "text/html": [
              "0.001"
            ],
            "text/markdown": "0.001",
            "text/latex": "0.001",
            "text/plain": [
              "[1] 0.001"
            ]
          },
          "metadata": {}
        }
      ]
    },
    {
      "cell_type": "markdown",
      "source": [
        "Question 7:"
      ],
      "metadata": {
        "id": "sChQxdGrRX3e"
      }
    },
    {
      "cell_type": "code",
      "source": [
        "# levene test\n",
        "leveneTest(Latency ~ Condition, data = smokers)"
      ],
      "metadata": {
        "colab": {
          "base_uri": "https://localhost:8080/",
          "height": 161
        },
        "id": "afeBpn11aw_2",
        "outputId": "98e45252-7e81-4d9f-bfb6-d06e7d04df60"
      },
      "execution_count": 9,
      "outputs": [
        {
          "output_type": "display_data",
          "data": {
            "text/html": [
              "<table class=\"dataframe\">\n",
              "<caption>A anova: 2 × 3</caption>\n",
              "<thead>\n",
              "\t<tr><th></th><th scope=col>Df</th><th scope=col>F value</th><th scope=col>Pr(&gt;F)</th></tr>\n",
              "\t<tr><th></th><th scope=col>&lt;int&gt;</th><th scope=col>&lt;dbl&gt;</th><th scope=col>&lt;dbl&gt;</th></tr>\n",
              "</thead>\n",
              "<tbody>\n",
              "\t<tr><th scope=row>group</th><td> 2</td><td>5.62049</td><td>0.006871763</td></tr>\n",
              "\t<tr><th scope=row> </th><td>42</td><td>     NA</td><td>         NA</td></tr>\n",
              "</tbody>\n",
              "</table>\n"
            ],
            "text/markdown": "\nA anova: 2 × 3\n\n| <!--/--> | Df &lt;int&gt; | F value &lt;dbl&gt; | Pr(&gt;F) &lt;dbl&gt; |\n|---|---|---|---|\n| group |  2 | 5.62049 | 0.006871763 |\n| <!----> | 42 |      NA |          NA |\n\n",
            "text/latex": "A anova: 2 × 3\n\\begin{tabular}{r|lll}\n  & Df & F value & Pr(>F)\\\\\n  & <int> & <dbl> & <dbl>\\\\\n\\hline\n\tgroup &  2 & 5.62049 & 0.006871763\\\\\n\t  & 42 &      NA &          NA\\\\\n\\end{tabular}\n",
            "text/plain": [
              "      Df F value Pr(>F)     \n",
              "group  2 5.62049 0.006871763\n",
              "      42      NA          NA"
            ]
          },
          "metadata": {}
        }
      ]
    },
    {
      "cell_type": "markdown",
      "source": [
        "The p-value of the test is 0.006871763, which is less than our significance level of 0.05.\n",
        "\n",
        "Thus, we conclude that the variance among the three groups is not equal."
      ],
      "metadata": {
        "id": "coYzAwwncYs4"
      }
    },
    {
      "cell_type": "markdown",
      "source": [
        "Question 8:"
      ],
      "metadata": {
        "id": "dVCzsQNHdNRA"
      }
    },
    {
      "cell_type": "code",
      "source": [
        "# perform Welch's ANOVA\n",
        "oneway.test(Latency ~ Condition, data = smokers, var.equal = FALSE)"
      ],
      "metadata": {
        "colab": {
          "base_uri": "https://localhost:8080/",
          "height": 106
        },
        "id": "xFQKJlb9dSF6",
        "outputId": "22697fcd-7275-41ea-a976-26e6bac5df87"
      },
      "execution_count": 10,
      "outputs": [
        {
          "output_type": "display_data",
          "data": {
            "text/plain": [
              "\n",
              "\tOne-way analysis of means (not assuming equal variances)\n",
              "\n",
              "data:  Latency and Condition\n",
              "F = 0.057131, num df = 2.000, denom df = 21.113, p-value = 0.9446\n"
            ]
          },
          "metadata": {}
        }
      ]
    },
    {
      "cell_type": "markdown",
      "source": [
        "The overall p-value here is 0.9446 which is less than 0.05, this means that we fail to reject that the Latency scores are equal between the three groups. So yes, the interpretation of this ANOVA changes from the first one I ran."
      ],
      "metadata": {
        "id": "dl8Qi5MAeIGT"
      }
    },
    {
      "cell_type": "markdown",
      "source": [
        "Question 9:"
      ],
      "metadata": {
        "id": "MBQd4ZyLetma"
      }
    },
    {
      "cell_type": "code",
      "source": [
        "install.packages(\"pwr\")\n",
        "library(pwr)\n",
        "pwr.anova.test(k = 3, f=0.05, sig.level = 0.05, power = 0.85)"
      ],
      "metadata": {
        "colab": {
          "base_uri": "https://localhost:8080/",
          "height": 249
        },
        "id": "sd4THnvHfCVz",
        "outputId": "1911224e-3dad-448a-a377-467d8e581131"
      },
      "execution_count": 36,
      "outputs": [
        {
          "output_type": "stream",
          "name": "stderr",
          "text": [
            "Installing package into ‘/usr/local/lib/R/site-library’\n",
            "(as ‘lib’ is unspecified)\n",
            "\n"
          ]
        },
        {
          "output_type": "display_data",
          "data": {
            "text/plain": [
              "\n",
              "     Balanced one-way analysis of variance power calculation \n",
              "\n",
              "              k = 3\n",
              "              n = 1457.426\n",
              "              f = 0.05\n",
              "      sig.level = 0.05\n",
              "          power = 0.85\n",
              "\n",
              "NOTE: n is number in each group\n"
            ]
          },
          "metadata": {}
        }
      ]
    },
    {
      "cell_type": "markdown",
      "source": [
        "Question 10:"
      ],
      "metadata": {
        "id": "7qX1OmmCiPMP"
      }
    },
    {
      "cell_type": "code",
      "source": [
        "memory = read.csv(\"memory.csv\")\n",
        "memory = memory[order(memory$Strategy,memory$Subject), ]\n"
      ],
      "metadata": {
        "id": "U1LJHcTJiRg8"
      },
      "execution_count": 12,
      "outputs": []
    },
    {
      "cell_type": "markdown",
      "source": [
        "The data is balanced because there is equal number of sample size for each of the experimental groups. "
      ],
      "metadata": {
        "id": "7zebYeJjjN75"
      }
    },
    {
      "cell_type": "markdown",
      "source": [
        "Question 11:"
      ],
      "metadata": {
        "id": "Rl-iD7I4lgh_"
      }
    },
    {
      "cell_type": "markdown",
      "source": [
        "I expect the generated group to have a higher mean recall vallu when compared to the others, but also expected the provided to be the lowest"
      ],
      "metadata": {
        "id": "f32Ug-5WpomR"
      }
    },
    {
      "cell_type": "markdown",
      "source": [
        "Question 12:"
      ],
      "metadata": {
        "id": "lhsoT6hmqr1n"
      }
    },
    {
      "cell_type": "code",
      "source": [
        "plotdata2 = ddply(memory, c(\"Strategy\", \"Delay\"), summarise,\n",
        "                n = length(Recall),\n",
        "                mean = mean(Recall),\n",
        "                s = sd(Recall),\n",
        "                se = s/sqrt(n),\n",
        "                df = n - 1,\n",
        "                alpha = 0.05,\n",
        "                t_crit = qt(alpha/2, df = df, lower.tail = FALSE),\n",
        "                MOE = t_crit * se,\n",
        "                CI_bottom = mean - MOE,\n",
        "                CI_upper = mean + MOE\n",
        ")\n",
        "plotdata2\n"
      ],
      "metadata": {
        "colab": {
          "base_uri": "https://localhost:8080/",
          "height": 306
        },
        "id": "e_alExvhquyY",
        "outputId": "811068ef-963a-4d4c-e525-4f302871c7ff"
      },
      "execution_count": 13,
      "outputs": [
        {
          "output_type": "display_data",
          "data": {
            "text/html": [
              "<table class=\"dataframe\">\n",
              "<caption>A data.frame: 6 × 12</caption>\n",
              "<thead>\n",
              "\t<tr><th scope=col>Strategy</th><th scope=col>Delay</th><th scope=col>n</th><th scope=col>mean</th><th scope=col>s</th><th scope=col>se</th><th scope=col>df</th><th scope=col>alpha</th><th scope=col>t_crit</th><th scope=col>MOE</th><th scope=col>CI_bottom</th><th scope=col>CI_upper</th></tr>\n",
              "\t<tr><th scope=col>&lt;chr&gt;</th><th scope=col>&lt;chr&gt;</th><th scope=col>&lt;int&gt;</th><th scope=col>&lt;dbl&gt;</th><th scope=col>&lt;dbl&gt;</th><th scope=col>&lt;dbl&gt;</th><th scope=col>&lt;dbl&gt;</th><th scope=col>&lt;dbl&gt;</th><th scope=col>&lt;dbl&gt;</th><th scope=col>&lt;dbl&gt;</th><th scope=col>&lt;dbl&gt;</th><th scope=col>&lt;dbl&gt;</th></tr>\n",
              "</thead>\n",
              "<tbody>\n",
              "\t<tr><td>Generated</td><td>2d</td><td>13</td><td> 4.00000</td><td>2.516611</td><td>0.6979824</td><td>12</td><td>0.05</td><td>2.178813</td><td>1.5207731</td><td> 2.479227</td><td> 5.520773</td></tr>\n",
              "\t<tr><td>Generated</td><td>5m</td><td>13</td><td>14.92308</td><td>5.330127</td><td>1.4783113</td><td>12</td><td>0.05</td><td>2.178813</td><td>3.2209637</td><td>11.702113</td><td>18.144041</td></tr>\n",
              "\t<tr><td>Provided </td><td>2d</td><td>13</td><td> 2.00000</td><td>1.471960</td><td>0.4082483</td><td>12</td><td>0.05</td><td>2.178813</td><td>0.8894966</td><td> 1.110503</td><td> 2.889497</td></tr>\n",
              "\t<tr><td>Provided </td><td>5m</td><td>13</td><td>20.53846</td><td>1.983910</td><td>0.5502375</td><td>12</td><td>0.05</td><td>2.178813</td><td>1.1988646</td><td>19.339597</td><td>21.737326</td></tr>\n",
              "\t<tr><td>Rote     </td><td>2d</td><td>13</td><td>12.76923</td><td>6.796492</td><td>1.8850078</td><td>12</td><td>0.05</td><td>2.178813</td><td>4.1070792</td><td> 8.662152</td><td>16.876310</td></tr>\n",
              "\t<tr><td>Rote     </td><td>5m</td><td>13</td><td>15.38462</td><td>5.454944</td><td>1.5129292</td><td>12</td><td>0.05</td><td>2.178813</td><td>3.2963895</td><td>12.088226</td><td>18.681005</td></tr>\n",
              "</tbody>\n",
              "</table>\n"
            ],
            "text/markdown": "\nA data.frame: 6 × 12\n\n| Strategy &lt;chr&gt; | Delay &lt;chr&gt; | n &lt;int&gt; | mean &lt;dbl&gt; | s &lt;dbl&gt; | se &lt;dbl&gt; | df &lt;dbl&gt; | alpha &lt;dbl&gt; | t_crit &lt;dbl&gt; | MOE &lt;dbl&gt; | CI_bottom &lt;dbl&gt; | CI_upper &lt;dbl&gt; |\n|---|---|---|---|---|---|---|---|---|---|---|---|\n| Generated | 2d | 13 |  4.00000 | 2.516611 | 0.6979824 | 12 | 0.05 | 2.178813 | 1.5207731 |  2.479227 |  5.520773 |\n| Generated | 5m | 13 | 14.92308 | 5.330127 | 1.4783113 | 12 | 0.05 | 2.178813 | 3.2209637 | 11.702113 | 18.144041 |\n| Provided  | 2d | 13 |  2.00000 | 1.471960 | 0.4082483 | 12 | 0.05 | 2.178813 | 0.8894966 |  1.110503 |  2.889497 |\n| Provided  | 5m | 13 | 20.53846 | 1.983910 | 0.5502375 | 12 | 0.05 | 2.178813 | 1.1988646 | 19.339597 | 21.737326 |\n| Rote      | 2d | 13 | 12.76923 | 6.796492 | 1.8850078 | 12 | 0.05 | 2.178813 | 4.1070792 |  8.662152 | 16.876310 |\n| Rote      | 5m | 13 | 15.38462 | 5.454944 | 1.5129292 | 12 | 0.05 | 2.178813 | 3.2963895 | 12.088226 | 18.681005 |\n\n",
            "text/latex": "A data.frame: 6 × 12\n\\begin{tabular}{llllllllllll}\n Strategy & Delay & n & mean & s & se & df & alpha & t\\_crit & MOE & CI\\_bottom & CI\\_upper\\\\\n <chr> & <chr> & <int> & <dbl> & <dbl> & <dbl> & <dbl> & <dbl> & <dbl> & <dbl> & <dbl> & <dbl>\\\\\n\\hline\n\t Generated & 2d & 13 &  4.00000 & 2.516611 & 0.6979824 & 12 & 0.05 & 2.178813 & 1.5207731 &  2.479227 &  5.520773\\\\\n\t Generated & 5m & 13 & 14.92308 & 5.330127 & 1.4783113 & 12 & 0.05 & 2.178813 & 3.2209637 & 11.702113 & 18.144041\\\\\n\t Provided  & 2d & 13 &  2.00000 & 1.471960 & 0.4082483 & 12 & 0.05 & 2.178813 & 0.8894966 &  1.110503 &  2.889497\\\\\n\t Provided  & 5m & 13 & 20.53846 & 1.983910 & 0.5502375 & 12 & 0.05 & 2.178813 & 1.1988646 & 19.339597 & 21.737326\\\\\n\t Rote      & 2d & 13 & 12.76923 & 6.796492 & 1.8850078 & 12 & 0.05 & 2.178813 & 4.1070792 &  8.662152 & 16.876310\\\\\n\t Rote      & 5m & 13 & 15.38462 & 5.454944 & 1.5129292 & 12 & 0.05 & 2.178813 & 3.2963895 & 12.088226 & 18.681005\\\\\n\\end{tabular}\n",
            "text/plain": [
              "  Strategy  Delay n  mean     s        se        df alpha t_crit   MOE      \n",
              "1 Generated 2d    13  4.00000 2.516611 0.6979824 12 0.05  2.178813 1.5207731\n",
              "2 Generated 5m    13 14.92308 5.330127 1.4783113 12 0.05  2.178813 3.2209637\n",
              "3 Provided  2d    13  2.00000 1.471960 0.4082483 12 0.05  2.178813 0.8894966\n",
              "4 Provided  5m    13 20.53846 1.983910 0.5502375 12 0.05  2.178813 1.1988646\n",
              "5 Rote      2d    13 12.76923 6.796492 1.8850078 12 0.05  2.178813 4.1070792\n",
              "6 Rote      5m    13 15.38462 5.454944 1.5129292 12 0.05  2.178813 3.2963895\n",
              "  CI_bottom CI_upper \n",
              "1  2.479227  5.520773\n",
              "2 11.702113 18.144041\n",
              "3  1.110503  2.889497\n",
              "4 19.339597 21.737326\n",
              "5  8.662152 16.876310\n",
              "6 12.088226 18.681005"
            ]
          },
          "metadata": {}
        }
      ]
    },
    {
      "cell_type": "code",
      "source": [
        "ggplot(plotdata2, aes(x = Strategy, y = mean)) +\n",
        "  geom_line(aes(colour = Delay, group = Delay)) + \n",
        "  geom_point(aes(colour = Delay, group = Delay)) + \n",
        "  geom_errorbar(aes(ymin = CI_bottom,\n",
        "                  ymax = CI_upper,\n",
        "                  colour = Delay),\n",
        "                  width = .25) + \n",
        "  xlab(\"Strategy\") + \n",
        "  ylab(\"Recall\")"
      ],
      "metadata": {
        "colab": {
          "base_uri": "https://localhost:8080/",
          "height": 437
        },
        "id": "qpda--I73ykq",
        "outputId": "06ec3c32-bb28-4f20-dcc9-4095d4200742"
      },
      "execution_count": 14,
      "outputs": [
        {
          "output_type": "display_data",
          "data": {
            "text/plain": [
              "plot without title"
            ],
            "image/png": "[encoded data removed]"
          },
          "metadata": {
            "image/png": {
              "width": 420,
              "height": 420
            }
          }
        }
      ]
    },
    {
      "cell_type": "markdown",
      "source": [
        "I believe there is an interaction between stratergy and delay\n"
      ],
      "metadata": {
        "id": "2qWVwEkmsVNJ"
      }
    },
    {
      "cell_type": "markdown",
      "source": [
        "Question 13:"
      ],
      "metadata": {
        "id": "J-MO79F2rZYS"
      }
    },
    {
      "cell_type": "code",
      "source": [
        "recall = memory$Recall\n",
        "# Grand Mean\n",
        "gm2 = mean(recall)\n",
        "\n",
        "# total sum of squares (sst)\n",
        "sst2 = sum((recall - gm2)^2)\n",
        "round(sst2, 3)\n",
        "\n",
        "q13df = nrow(memory) - 1\n",
        "q13df"
      ],
      "metadata": {
        "colab": {
          "base_uri": "https://localhost:8080/",
          "height": 52
        },
        "id": "4sLj64k2zhbQ",
        "outputId": "cdb9f8a6-5ed6-4408-c863-357b692295b2"
      },
      "execution_count": 26,
      "outputs": [
        {
          "output_type": "display_data",
          "data": {
            "text/html": [
              "4736.679"
            ],
            "text/markdown": "4736.679",
            "text/latex": "4736.679",
            "text/plain": [
              "[1] 4736.679"
            ]
          },
          "metadata": {}
        },
        {
          "output_type": "display_data",
          "data": {
            "text/html": [
              "77"
            ],
            "text/markdown": "77",
            "text/latex": "77",
            "text/plain": [
              "[1] 77"
            ]
          },
          "metadata": {}
        }
      ]
    },
    {
      "cell_type": "markdown",
      "source": [
        "Question 14:"
      ],
      "metadata": {
        "id": "vm6DXx7C0beG"
      }
    },
    {
      "cell_type": "code",
      "source": [
        "# model sum of squares (ssm)\n",
        "ssm2 = sum(plotdata2$n * (plotdata2$mean - gm2)^2)\n",
        "round(ssm2, 3)\n",
        "\n",
        "# degree of freedom (model)\n",
        "dfmodel2 = 6 - 1\n",
        "dfmodel2"
      ],
      "metadata": {
        "colab": {
          "base_uri": "https://localhost:8080/",
          "height": 52
        },
        "id": "W1PH8Ftt0zjE",
        "outputId": "09e73422-9678-4ab2-84c4-7c8c6e969c14"
      },
      "execution_count": 16,
      "outputs": [
        {
          "output_type": "display_data",
          "data": {
            "text/html": [
              "3335.141"
            ],
            "text/markdown": "3335.141",
            "text/latex": "3335.141",
            "text/plain": [
              "[1] 3335.141"
            ]
          },
          "metadata": {}
        },
        {
          "output_type": "display_data",
          "data": {
            "text/html": [
              "5"
            ],
            "text/markdown": "5",
            "text/latex": "5",
            "text/plain": [
              "[1] 5"
            ]
          },
          "metadata": {}
        }
      ]
    },
    {
      "cell_type": "markdown",
      "source": [
        "Question 15:"
      ],
      "metadata": {
        "id": "egV0Oahb1UQG"
      }
    },
    {
      "cell_type": "code",
      "source": [
        "# Main Effect of Strategy\n",
        "q15plotdata = ddply(memory, c(\"Strategy\"), summarise,\n",
        "                    n = length(Recall),\n",
        "                    mean = mean(Recall)\n",
        "                    )\n",
        "\n",
        "q15plotdata\n",
        "ssa15 = sum(q15plotdata$n * (q15plotdata$mean - gm2)^2)\n",
        "round(ssa15, 3)\n",
        "\n",
        "q15df = 3 - 1\n",
        "q15df"
      ],
      "metadata": {
        "colab": {
          "base_uri": "https://localhost:8080/",
          "height": 227
        },
        "id": "E3xXqAN32AVC",
        "outputId": "829a436a-c66e-48ea-dbc9-3831fa018347"
      },
      "execution_count": 17,
      "outputs": [
        {
          "output_type": "display_data",
          "data": {
            "text/html": [
              "<table class=\"dataframe\">\n",
              "<caption>A data.frame: 3 × 3</caption>\n",
              "<thead>\n",
              "\t<tr><th scope=col>Strategy</th><th scope=col>n</th><th scope=col>mean</th></tr>\n",
              "\t<tr><th scope=col>&lt;chr&gt;</th><th scope=col>&lt;int&gt;</th><th scope=col>&lt;dbl&gt;</th></tr>\n",
              "</thead>\n",
              "<tbody>\n",
              "\t<tr><td>Generated</td><td>26</td><td> 9.461538</td></tr>\n",
              "\t<tr><td>Provided </td><td>26</td><td>11.269231</td></tr>\n",
              "\t<tr><td>Rote     </td><td>26</td><td>14.076923</td></tr>\n",
              "</tbody>\n",
              "</table>\n"
            ],
            "text/markdown": "\nA data.frame: 3 × 3\n\n| Strategy &lt;chr&gt; | n &lt;int&gt; | mean &lt;dbl&gt; |\n|---|---|---|\n| Generated | 26 |  9.461538 |\n| Provided  | 26 | 11.269231 |\n| Rote      | 26 | 14.076923 |\n\n",
            "text/latex": "A data.frame: 3 × 3\n\\begin{tabular}{lll}\n Strategy & n & mean\\\\\n <chr> & <int> & <dbl>\\\\\n\\hline\n\t Generated & 26 &  9.461538\\\\\n\t Provided  & 26 & 11.269231\\\\\n\t Rote      & 26 & 14.076923\\\\\n\\end{tabular}\n",
            "text/plain": [
              "  Strategy  n  mean     \n",
              "1 Generated 26  9.461538\n",
              "2 Provided  26 11.269231\n",
              "3 Rote      26 14.076923"
            ]
          },
          "metadata": {}
        },
        {
          "output_type": "display_data",
          "data": {
            "text/html": [
              "281.256"
            ],
            "text/markdown": "281.256",
            "text/latex": "281.256",
            "text/plain": [
              "[1] 281.256"
            ]
          },
          "metadata": {}
        },
        {
          "output_type": "display_data",
          "data": {
            "text/html": [
              "2"
            ],
            "text/markdown": "2",
            "text/latex": "2",
            "text/plain": [
              "[1] 2"
            ]
          },
          "metadata": {}
        }
      ]
    },
    {
      "cell_type": "markdown",
      "source": [
        "Question 16:"
      ],
      "metadata": {
        "id": "Tod2JTgD95WM"
      }
    },
    {
      "cell_type": "code",
      "source": [
        "# Main Effect of Delay\n",
        "q16plotdata = ddply(memory, c(\"Delay\"), summarise,\n",
        "                    n = length(Recall),\n",
        "                    mean = mean(Recall)\n",
        "                    )\n",
        "q16plotdata\n",
        "ssb16 = sum(q16plotdata$n * (q16plotdata$mean - gm2)^2)\n",
        "round(ssb16, 3)\n",
        "q16df = 2 - 1\n",
        "q16df"
      ],
      "metadata": {
        "colab": {
          "base_uri": "https://localhost:8080/",
          "height": 196
        },
        "id": "06GXFkaW-w75",
        "outputId": "f7cf92da-1b9a-40c3-8f52-f3b548372da4"
      },
      "execution_count": 18,
      "outputs": [
        {
          "output_type": "display_data",
          "data": {
            "text/html": [
              "<table class=\"dataframe\">\n",
              "<caption>A data.frame: 2 × 3</caption>\n",
              "<thead>\n",
              "\t<tr><th scope=col>Delay</th><th scope=col>n</th><th scope=col>mean</th></tr>\n",
              "\t<tr><th scope=col>&lt;chr&gt;</th><th scope=col>&lt;int&gt;</th><th scope=col>&lt;dbl&gt;</th></tr>\n",
              "</thead>\n",
              "<tbody>\n",
              "\t<tr><td>2d</td><td>39</td><td> 6.25641</td></tr>\n",
              "\t<tr><td>5m</td><td>39</td><td>16.94872</td></tr>\n",
              "</tbody>\n",
              "</table>\n"
            ],
            "text/markdown": "\nA data.frame: 2 × 3\n\n| Delay &lt;chr&gt; | n &lt;int&gt; | mean &lt;dbl&gt; |\n|---|---|---|\n| 2d | 39 |  6.25641 |\n| 5m | 39 | 16.94872 |\n\n",
            "text/latex": "A data.frame: 2 × 3\n\\begin{tabular}{lll}\n Delay & n & mean\\\\\n <chr> & <int> & <dbl>\\\\\n\\hline\n\t 2d & 39 &  6.25641\\\\\n\t 5m & 39 & 16.94872\\\\\n\\end{tabular}\n",
            "text/plain": [
              "  Delay n  mean    \n",
              "1 2d    39  6.25641\n",
              "2 5m    39 16.94872"
            ]
          },
          "metadata": {}
        },
        {
          "output_type": "display_data",
          "data": {
            "text/html": [
              "2229.346"
            ],
            "text/markdown": "2229.346",
            "text/latex": "2229.346",
            "text/plain": [
              "[1] 2229.346"
            ]
          },
          "metadata": {}
        },
        {
          "output_type": "display_data",
          "data": {
            "text/html": [
              "1"
            ],
            "text/markdown": "1",
            "text/latex": "1",
            "text/plain": [
              "[1] 1"
            ]
          },
          "metadata": {}
        }
      ]
    },
    {
      "cell_type": "markdown",
      "source": [
        "Question 17:"
      ],
      "metadata": {
        "id": "-2I4SJu2_JkR"
      }
    },
    {
      "cell_type": "code",
      "source": [
        "ssinterac = ssm2 - ssa15 - ssb16\n",
        "round(ssinterac, 3)\n",
        "\n",
        "dfinterac = q15df * q16df\n",
        "dfinterac"
      ],
      "metadata": {
        "colab": {
          "base_uri": "https://localhost:8080/",
          "height": 52
        },
        "id": "sYHFpXHaANCs",
        "outputId": "f55d0ce2-867b-4ccc-9f42-d7e9ef43dc7f"
      },
      "execution_count": 19,
      "outputs": [
        {
          "output_type": "display_data",
          "data": {
            "text/html": [
              "824.538"
            ],
            "text/markdown": "824.538",
            "text/latex": "824.538",
            "text/plain": [
              "[1] 824.538"
            ]
          },
          "metadata": {}
        },
        {
          "output_type": "display_data",
          "data": {
            "text/html": [
              "2"
            ],
            "text/markdown": "2",
            "text/latex": "2",
            "text/plain": [
              "[1] 2"
            ]
          },
          "metadata": {}
        }
      ]
    },
    {
      "cell_type": "markdown",
      "source": [
        "Question 18:"
      ],
      "metadata": {
        "id": "tf2wAomdA8vu"
      }
    },
    {
      "cell_type": "code",
      "source": [
        "ssR = sst2 - ssm2\n",
        "round(ssR, 3) \n",
        "\n",
        "q18df = 77 - 2 - 1 - 2\n",
        "q18df"
      ],
      "metadata": {
        "colab": {
          "base_uri": "https://localhost:8080/",
          "height": 52
        },
        "id": "G5G_9DLfBU8O",
        "outputId": "f84c900d-f98c-4757-9f8e-5ce27016fa53"
      },
      "execution_count": 20,
      "outputs": [
        {
          "output_type": "display_data",
          "data": {
            "text/html": [
              "1401.538"
            ],
            "text/markdown": "1401.538",
            "text/latex": "1401.538",
            "text/plain": [
              "[1] 1401.538"
            ]
          },
          "metadata": {}
        },
        {
          "output_type": "display_data",
          "data": {
            "text/html": [
              "72"
            ],
            "text/markdown": "72",
            "text/latex": "72",
            "text/plain": [
              "[1] 72"
            ]
          },
          "metadata": {}
        }
      ]
    },
    {
      "cell_type": "markdown",
      "source": [
        "Question 19:"
      ],
      "metadata": {
        "id": "U8xUN4NWBlx9"
      }
    },
    {
      "cell_type": "code",
      "source": [
        "# mean square of stratergy\n",
        "msstrat = ssa15 / q15df\n",
        "round(msstrat, 3)\n",
        "\n",
        "# mean square of delay\n",
        "msdelay = ssb16 / q16df\n",
        "round(msdelay, 3)\n",
        "\n",
        "# mean square of interaction\n",
        "msinterac = ssinterac / dfinterac\n",
        "round(msinterac, 3)\n",
        "\n",
        "# mean square of residuals\n",
        "msresid = ssR / q18df\n",
        "round(msresid, 3)\n",
        "\n"
      ],
      "metadata": {
        "colab": {
          "base_uri": "https://localhost:8080/",
          "height": 86
        },
        "id": "gS7pzRL6CxDN",
        "outputId": "5106c5ab-bd52-4622-d945-bb8aa4a48775"
      },
      "execution_count": 21,
      "outputs": [
        {
          "output_type": "display_data",
          "data": {
            "text/html": [
              "140.628"
            ],
            "text/markdown": "140.628",
            "text/latex": "140.628",
            "text/plain": [
              "[1] 140.628"
            ]
          },
          "metadata": {}
        },
        {
          "output_type": "display_data",
          "data": {
            "text/html": [
              "2229.346"
            ],
            "text/markdown": "2229.346",
            "text/latex": "2229.346",
            "text/plain": [
              "[1] 2229.346"
            ]
          },
          "metadata": {}
        },
        {
          "output_type": "display_data",
          "data": {
            "text/html": [
              "412.269"
            ],
            "text/markdown": "412.269",
            "text/latex": "412.269",
            "text/plain": [
              "[1] 412.269"
            ]
          },
          "metadata": {}
        },
        {
          "output_type": "display_data",
          "data": {
            "text/html": [
              "19.466"
            ],
            "text/markdown": "19.466",
            "text/latex": "19.466",
            "text/plain": [
              "[1] 19.466"
            ]
          },
          "metadata": {}
        }
      ]
    },
    {
      "cell_type": "markdown",
      "source": [
        "Question 20:"
      ],
      "metadata": {
        "id": "KxXjHu4-E7QG"
      }
    },
    {
      "cell_type": "code",
      "source": [
        "Fstrat = msstrat / msresid\n",
        "round(Fstrat, 3)\n",
        "\n",
        "Fdelay = msdelay / msresid\n",
        "round(Fdelay, 3)\n",
        "\n",
        "Finterac = msinterac / msresid\n",
        "round(Finterac, 3)"
      ],
      "metadata": {
        "colab": {
          "base_uri": "https://localhost:8080/",
          "height": 69
        },
        "id": "Bg3_nGPTF3dB",
        "outputId": "c3fdaf91-b31d-4599-f74e-5df13d7ee189"
      },
      "execution_count": 22,
      "outputs": [
        {
          "output_type": "display_data",
          "data": {
            "text/html": [
              "7.224"
            ],
            "text/markdown": "7.224",
            "text/latex": "7.224",
            "text/plain": [
              "[1] 7.224"
            ]
          },
          "metadata": {}
        },
        {
          "output_type": "display_data",
          "data": {
            "text/html": [
              "114.526"
            ],
            "text/markdown": "114.526",
            "text/latex": "114.526",
            "text/plain": [
              "[1] 114.526"
            ]
          },
          "metadata": {}
        },
        {
          "output_type": "display_data",
          "data": {
            "text/html": [
              "21.179"
            ],
            "text/markdown": "21.179",
            "text/latex": "21.179",
            "text/plain": [
              "[1] 21.179"
            ]
          },
          "metadata": {}
        }
      ]
    },
    {
      "cell_type": "markdown",
      "source": [
        "Question 21:"
      ],
      "metadata": {
        "id": "mcKXKHiRHKH4"
      }
    },
    {
      "cell_type": "code",
      "source": [
        "q21cheat = aov(Recall ~ Strategy * Delay, data = memory)\n",
        "summary(q21cheat)"
      ],
      "metadata": {
        "colab": {
          "base_uri": "https://localhost:8080/",
          "height": 142
        },
        "id": "7hN6-BwUHuA1",
        "outputId": "26957884-da16-4190-e968-9f88e2110e52"
      },
      "execution_count": 23,
      "outputs": [
        {
          "output_type": "display_data",
          "data": {
            "text/plain": [
              "               Df Sum Sq Mean Sq F value   Pr(>F)    \n",
              "Strategy        2  281.3   140.6   7.224  0.00138 ** \n",
              "Delay           1 2229.3  2229.3 114.526  < 2e-16 ***\n",
              "Strategy:Delay  2  824.5   412.3  21.179 5.84e-08 ***\n",
              "Residuals      72 1401.5    19.5                     \n",
              "---\n",
              "Signif. codes:  0 ‘***’ 0.001 ‘**’ 0.01 ‘*’ 0.05 ‘.’ 0.1 ‘ ’ 1"
            ]
          },
          "metadata": {}
        }
      ]
    },
    {
      "cell_type": "markdown",
      "source": [
        "Question 22:"
      ],
      "metadata": {
        "id": "AK0f7VL9Jyn_"
      }
    },
    {
      "cell_type": "markdown",
      "source": [
        "It can be seen that the two main effects, the strategy and delay are statistically significant. As well as their interaction."
      ],
      "metadata": {
        "id": "-QtfQ-eALak2"
      }
    },
    {
      "cell_type": "markdown",
      "source": [
        "Question 23:"
      ],
      "metadata": {
        "id": "lEuEcPPsLtEF"
      }
    },
    {
      "cell_type": "code",
      "source": [
        "memory$All_levels = paste(memory$Strategy, memory$Delay, sep = \"\")\n",
        "memory$All_levels = factor(memory$All_levels)\n",
        "levels(memory$All_levels)"
      ],
      "metadata": {
        "colab": {
          "base_uri": "https://localhost:8080/",
          "height": 34
        },
        "id": "YbJq7kdVRrH7",
        "outputId": "f7040468-545d-40c5-fc53-1677931f213a"
      },
      "execution_count": 45,
      "outputs": [
        {
          "output_type": "display_data",
          "data": {
            "text/html": [
              "<style>\n",
              ".list-inline {list-style: none; margin:0; padding: 0}\n",
              ".list-inline>li {display: inline-block}\n",
              ".list-inline>li:not(:last-child)::after {content: \"\\00b7\"; padding: 0 .5ex}\n",
              "</style>\n",
              "<ol class=list-inline><li>'Generated2d'</li><li>'Generated5m'</li><li>'Provided2d'</li><li>'Provided5m'</li><li>'Rote2d'</li><li>'Rote5m'</li></ol>\n"
            ],
            "text/markdown": "1. 'Generated2d'\n2. 'Generated5m'\n3. 'Provided2d'\n4. 'Provided5m'\n5. 'Rote2d'\n6. 'Rote5m'\n\n\n",
            "text/latex": "\\begin{enumerate*}\n\\item 'Generated2d'\n\\item 'Generated5m'\n\\item 'Provided2d'\n\\item 'Provided5m'\n\\item 'Rote2d'\n\\item 'Rote5m'\n\\end{enumerate*}\n",
            "text/plain": [
              "[1] \"Generated2d\" \"Generated5m\" \"Provided2d\"  \"Provided5m\"  \"Rote2d\"     \n",
              "[6] \"Rote5m\"     "
            ]
          },
          "metadata": {}
        }
      ]
    },
    {
      "cell_type": "code",
      "source": [
        "contrast1 = c(1, 1, 1, 1, -2, -2)\n",
        "contrast2 = c(1, -1, 1, -1, 0, 0)\n",
        "contrast3 = c(1, -1, 0, 0, 0, 0)\n",
        "contrast4 = c(0, 0, 1, -1, 0, 0)\n",
        "contrast5 = c(0, 0, 0, 0, 1, -1)\n",
        "grid = cbind(contrast1, contrast2, contrast3, contrast4, contrast5)\n",
        "grid"
      ],
      "metadata": {
        "colab": {
          "base_uri": "https://localhost:8080/",
          "height": 255
        },
        "id": "6FM-ZtNOSn1f",
        "outputId": "f32eedd8-c015-4627-9008-04e497c11c2b"
      },
      "execution_count": 63,
      "outputs": [
        {
          "output_type": "display_data",
          "data": {
            "text/html": [
              "<table class=\"dataframe\">\n",
              "<caption>A matrix: 6 × 5 of type dbl</caption>\n",
              "<thead>\n",
              "\t<tr><th scope=col>contrast1</th><th scope=col>contrast2</th><th scope=col>contrast3</th><th scope=col>contrast4</th><th scope=col>contrast5</th></tr>\n",
              "</thead>\n",
              "<tbody>\n",
              "\t<tr><td> 1</td><td> 1</td><td> 1</td><td> 0</td><td> 0</td></tr>\n",
              "\t<tr><td> 1</td><td>-1</td><td>-1</td><td> 0</td><td> 0</td></tr>\n",
              "\t<tr><td> 1</td><td> 1</td><td> 0</td><td> 1</td><td> 0</td></tr>\n",
              "\t<tr><td> 1</td><td>-1</td><td> 0</td><td>-1</td><td> 0</td></tr>\n",
              "\t<tr><td>-2</td><td> 0</td><td> 0</td><td> 0</td><td> 1</td></tr>\n",
              "\t<tr><td>-2</td><td> 0</td><td> 0</td><td> 0</td><td>-1</td></tr>\n",
              "</tbody>\n",
              "</table>\n"
            ],
            "text/markdown": "\nA matrix: 6 × 5 of type dbl\n\n| contrast1 | contrast2 | contrast3 | contrast4 | contrast5 |\n|---|---|---|---|---|\n|  1 |  1 |  1 |  0 |  0 |\n|  1 | -1 | -1 |  0 |  0 |\n|  1 |  1 |  0 |  1 |  0 |\n|  1 | -1 |  0 | -1 |  0 |\n| -2 |  0 |  0 |  0 |  1 |\n| -2 |  0 |  0 |  0 | -1 |\n\n",
            "text/latex": "A matrix: 6 × 5 of type dbl\n\\begin{tabular}{lllll}\n contrast1 & contrast2 & contrast3 & contrast4 & contrast5\\\\\n\\hline\n\t  1 &  1 &  1 &  0 &  0\\\\\n\t  1 & -1 & -1 &  0 &  0\\\\\n\t  1 &  1 &  0 &  1 &  0\\\\\n\t  1 & -1 &  0 & -1 &  0\\\\\n\t -2 &  0 &  0 &  0 &  1\\\\\n\t -2 &  0 &  0 &  0 & -1\\\\\n\\end{tabular}\n",
            "text/plain": [
              "     contrast1 contrast2 contrast3 contrast4 contrast5\n",
              "[1,]  1         1         1         0         0       \n",
              "[2,]  1        -1        -1         0         0       \n",
              "[3,]  1         1         0         1         0       \n",
              "[4,]  1        -1         0        -1         0       \n",
              "[5,] -2         0         0         0         1       \n",
              "[6,] -2         0         0         0        -1       "
            ]
          },
          "metadata": {}
        }
      ]
    },
    {
      "cell_type": "code",
      "source": [
        "summary(lm(Recall ~ All_levels, data = memory))"
      ],
      "metadata": {
        "colab": {
          "base_uri": "https://localhost:8080/",
          "height": 410
        },
        "id": "UP1gQfVOUUyJ",
        "outputId": "894d224e-793e-4375-c64c-4697428069e8"
      },
      "execution_count": 65,
      "outputs": [
        {
          "output_type": "display_data",
          "data": {
            "text/plain": [
              "\n",
              "Call:\n",
              "lm(formula = Recall ~ All_levels, data = memory)\n",
              "\n",
              "Residuals:\n",
              "    Min      1Q  Median      3Q     Max \n",
              "-10.923  -2.000   0.000   2.192  13.231 \n",
              "\n",
              "Coefficients:\n",
              "                    Estimate Std. Error t value Pr(>|t|)    \n",
              "(Intercept)          11.6026     0.4996  23.225  < 2e-16 ***\n",
              "All_levelscontrast1  -1.2372     0.3532  -3.502 0.000796 ***\n",
              "All_levelscontrast2  -7.3654     0.6118 -12.038  < 2e-16 ***\n",
              "All_levelscontrast3   1.0000     0.8653   1.156 0.251619    \n",
              "All_levelscontrast4   2.8077     0.8653   3.245 0.001784 ** \n",
              "All_levelscontrast5  -1.3077     0.8653  -1.511 0.135084    \n",
              "---\n",
              "Signif. codes:  0 ‘***’ 0.001 ‘**’ 0.01 ‘*’ 0.05 ‘.’ 0.1 ‘ ’ 1\n",
              "\n",
              "Residual standard error: 4.412 on 72 degrees of freedom\n",
              "Multiple R-squared:  0.7041,\tAdjusted R-squared:  0.6836 \n",
              "F-statistic: 34.27 on 5 and 72 DF,  p-value: < 2.2e-16\n"
            ]
          },
          "metadata": {}
        }
      ]
    },
    {
      "cell_type": "markdown",
      "source": [
        "from the summary above, the significant contrasts are:\n",
        "\n",
        "\n",
        "1.   Contrast1 ([Gen2d, Gen5m, Prov2d, Prov5m] vs [Rote2d, Rote5m])\n",
        "2.   Contrast2 ([Gen2d, Gen5m] vs [Prov2d, Prov5m])\n",
        "3.   Contrast4 ([Prov2d] vs [Prov5m])\n",
        "\n"
      ],
      "metadata": {
        "id": "Anr6zu8xUnG5"
      }
    },
    {
      "cell_type": "markdown",
      "source": [
        "Question 24:"
      ],
      "metadata": {
        "id": "g3NXp-lii_wb"
      }
    },
    {
      "cell_type": "markdown",
      "source": [
        "I would say because the significant contrasts involved generated and provided, I believe that delay has the most effect on these two strategier and the least effect on the rote strategy. But the best overall will be provided group because the conrtrast that compared itself proved to be significant."
      ],
      "metadata": {
        "id": "0blkn24OjBbU"
      }
    },
    {
      "cell_type": "markdown",
      "source": [
        "Question 25:"
      ],
      "metadata": {
        "id": "zGBU1ofRl53r"
      }
    },
    {
      "cell_type": "code",
      "source": [
        "pairwise.t.test(memory$Recall, memory$All_levels, p.adj = \"none\")"
      ],
      "metadata": {
        "colab": {
          "base_uri": "https://localhost:8080/",
          "height": 249
        },
        "id": "DeHG_CxMx4HD",
        "outputId": "269fb37d-dfa1-4955-dddc-aa92db82793f"
      },
      "execution_count": 78,
      "outputs": [
        {
          "output_type": "display_data",
          "data": {
            "text/plain": [
              "\n",
              "\tPairwise comparisons using t tests with pooled SD \n",
              "\n",
              "data:  memory$Recall and memory$All_levels \n",
              "\n",
              "            Generated2d Generated5m Provided2d Provided5m Rote2d\n",
              "Generated5m 2.0e-08     -           -          -          -     \n",
              "Provided2d  0.2516      1.5e-10     -          -          -     \n",
              "Provided5m  1.9e-14     0.0018      < 2e-16    -          -     \n",
              "Rote2d      3.0e-06     0.2173      2.9e-08    2.7e-05    -     \n",
              "Rote5m      6.5e-09     0.7905      4.8e-11    0.0039     0.1351\n",
              "\n",
              "P value adjustment method: none "
            ]
          },
          "metadata": {}
        }
      ]
    },
    {
      "cell_type": "markdown",
      "source": [
        "Question 26:"
      ],
      "metadata": {
        "id": "-pgY9MSPqh6p"
      }
    },
    {
      "cell_type": "code",
      "source": [
        "alpha = 0.05\n",
        "q26n = 15\n",
        "famwiseerror = 1  - (1 - alpha) ^q26n\n",
        "round(famwiseerror,3)"
      ],
      "metadata": {
        "colab": {
          "base_uri": "https://localhost:8080/",
          "height": 34
        },
        "id": "G2EvElIzyfJ3",
        "outputId": "f702d1e5-5d4b-4b08-f795-2f75c1249d1e"
      },
      "execution_count": 79,
      "outputs": [
        {
          "output_type": "display_data",
          "data": {
            "text/html": [
              "0.537"
            ],
            "text/markdown": "0.537",
            "text/latex": "0.537",
            "text/plain": [
              "[1] 0.537"
            ]
          },
          "metadata": {}
        }
      ]
    },
    {
      "cell_type": "markdown",
      "source": [
        "Question 27:\n"
      ],
      "metadata": {
        "id": "Mktq9gzewUvN"
      }
    },
    {
      "cell_type": "code",
      "source": [
        "model = aov(Recall ~ All_levels, data = memory)\n",
        "TukeyHSD(model, \"All_levels\")"
      ],
      "metadata": {
        "colab": {
          "base_uri": "https://localhost:8080/",
          "height": 410
        },
        "id": "2Yq9wO_xwXFS",
        "outputId": "c8ae8b2d-1724-4277-8b2b-7fe61a545663"
      },
      "execution_count": 81,
      "outputs": [
        {
          "output_type": "display_data",
          "data": {
            "text/plain": [
              "  Tukey multiple comparisons of means\n",
              "    95% family-wise confidence level\n",
              "\n",
              "Fit: aov(formula = Recall ~ All_levels, data = memory)\n",
              "\n",
              "$All_levels\n",
              "                               diff         lwr         upr     p adj\n",
              "Generated5m-Generated2d  10.9230769   5.8563149 15.98983898 0.0000003\n",
              "Provided2d-Generated2d   -2.0000000  -7.0667621  3.06676206 0.8560061\n",
              "Provided5m-Generated2d   16.5384615  11.4716995 21.60522360 0.0000000\n",
              "Rote2d-Generated2d        8.7692308   3.7024687 13.83599283 0.0000433\n",
              "Rote5m-Generated2d       11.3846154   6.3178533 16.45137745 0.0000001\n",
              "Provided2d-Generated5m  -12.9230769 -17.9898390 -7.85631486 0.0000000\n",
              "Provided5m-Generated5m    5.6153846   0.5486226 10.68214668 0.0211991\n",
              "Rote2d-Generated5m       -2.1538462  -7.2206082  2.91291591 0.8133356\n",
              "Rote5m-Generated5m        0.4615385  -4.6052236  5.52830052 0.9998093\n",
              "Provided5m-Provided2d    18.5384615  13.4716995 23.60522360 0.0000000\n",
              "Rote2d-Provided2d        10.7692308   5.7024687 15.83599283 0.0000004\n",
              "Rote5m-Provided2d        13.3846154   8.3178533 18.45137745 0.0000000\n",
              "Rote2d-Provided5m        -7.7692308 -12.8359928 -2.70246871 0.0003710\n",
              "Rote5m-Provided5m        -5.1538462 -10.2206082 -0.08708409 0.0438827\n",
              "Rote5m-Rote2d             2.6153846  -2.4513774  7.68214668 0.6582028\n"
            ]
          },
          "metadata": {}
        }
      ]
    },
    {
      "cell_type": "markdown",
      "source": [
        "the interpretations differ. the tukey hsd procedure is preferrrable because of the accuract and abundance of values.Tukey is also the more powerful test.\n"
      ],
      "metadata": {
        "id": "3tAyAq1wy3xT"
      }
    },
    {
      "cell_type": "markdown",
      "source": [
        "Question 28:"
      ],
      "metadata": {
        "id": "8VBuCVkCxSiW"
      }
    },
    {
      "cell_type": "code",
      "source": [
        "ggplot(mapping = aes(x = model$fitted.values, y = model$residuals)) +\n",
        "  geom_point(size = 2,\n",
        "            aes(colour = memory$Strategy, shape = memory$Strategy))+\n",
        "              geom_hline(yintercept = 0, linetype = 1)"
      ],
      "metadata": {
        "colab": {
          "base_uri": "https://localhost:8080/",
          "height": 437
        },
        "id": "zM7lgNn80DVT",
        "outputId": "189e3867-1b01-4d94-a620-e2326d8676ff"
      },
      "execution_count": 84,
      "outputs": [
        {
          "output_type": "display_data",
          "data": {
            "text/plain": [
              "plot without title"
            ],
            "image/png": "[encoded data removed]"
          },
          "metadata": {
            "image/png": {
              "width": 420,
              "height": 420
            }
          }
        }
      ]
    },
    {
      "cell_type": "markdown",
      "source": [
        "Question 29:"
      ],
      "metadata": {
        "id": "ap0RKro60sh-"
      }
    },
    {
      "cell_type": "markdown",
      "source": [
        "They do not look normally distributed to me."
      ],
      "metadata": {
        "id": "ChFJ-Wrh00qj"
      }
    },
    {
      "cell_type": "code",
      "source": [],
      "metadata": {
        "id": "ajDAtVda04Kz"
      },
      "execution_count": null,
      "outputs": []
    }
  ]
}
