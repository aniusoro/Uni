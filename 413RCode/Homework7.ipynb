{
  "nbformat": 4,
  "nbformat_minor": 0,
  "metadata": {
    "colab": {
      "provenance": [],
      "collapsed_sections": [],
      "authorship_tag": "ABX9TyNLcWnFlufLg+wPCmywH3wa",
      "include_colab_link": true
    },
    "kernelspec": {
      "name": "ir",
      "display_name": "R"
    },
    "language_info": {
      "name": "R"
    }
  },
  "cells": [
    {
      "cell_type": "markdown",
      "metadata": {
        "id": "view-in-github",
        "colab_type": "text"
      },
      "source": [
        "<a href=\"https://colab.research.google.com/github/aniusoro/Uni/blob/main/Homework7.ipynb\" target=\"_parent\"><img src=\"https://colab.research.google.com/assets/colab-badge.svg\" alt=\"Open In Colab\"/></a>"
      ]
    },
    {
      "cell_type": "markdown",
      "source": [
        "Question 1:"
      ],
      "metadata": {
        "id": "3Ze5NmljglMs"
      }
    },
    {
      "cell_type": "code",
      "source": [
        "icecreamdata = read.csv(\"IceCreamData.csv\")\n",
        "N = nrow(icecreamdata)\n",
        "\n",
        "#Storing temperature and revenue observations as separate objects\n",
        "temperature = icecreamdata$Temperature\n",
        "revenue = icecreamdata$Revenue\n",
        "\n",
        "#Calculating Z-Scores\n",
        "temperature_Z = (temperature - mean(temperature))/sd(temperature)\n",
        "revenue_Z = (revenue - mean(revenue))/sd(revenue)\n",
        "\n",
        "#Correlation formula\n",
        "q1_R = sum(temperature_Z * revenue_Z)/(N - 1)\n",
        "\n",
        "# Test statistic\n",
        "q1_test_stat = (q1_R - 0)/(sqrt((1-q1_R^2)/(N-2)))\n",
        "round(q1_test_stat, 3)\n",
        "\n",
        "# Degrees of Freedom\n",
        "q1_df = N - 2\n",
        "q1_df\n",
        "\n",
        "# P value\n",
        "pt(q1_test_stat, df = q1_df, lower.tail = FALSE)\n",
        "\n"
      ],
      "metadata": {
        "colab": {
          "base_uri": "https://localhost:8080/",
          "height": 69
        },
        "id": "-MLWDVcwZMbD",
        "outputId": "d24dfaaf-3ba9-43fc-a1e3-b78c5f76c50a"
      },
      "execution_count": 1,
      "outputs": [
        {
          "output_type": "display_data",
          "data": {
            "text/html": [
              "155.057"
            ],
            "text/markdown": "155.057",
            "text/latex": "155.057",
            "text/plain": [
              "[1] 155.057"
            ]
          },
          "metadata": {}
        },
        {
          "output_type": "display_data",
          "data": {
            "text/html": [
              "498"
            ],
            "text/markdown": "498",
            "text/latex": "498",
            "text/plain": [
              "[1] 498"
            ]
          },
          "metadata": {}
        },
        {
          "output_type": "display_data",
          "data": {
            "text/html": [
              "0"
            ],
            "text/markdown": "0",
            "text/latex": "0",
            "text/plain": [
              "[1] 0"
            ]
          },
          "metadata": {}
        }
      ]
    },
    {
      "cell_type": "markdown",
      "source": [
        "Question 2:\n"
      ],
      "metadata": {
        "id": "M8kMmUnMbGDR"
      }
    },
    {
      "cell_type": "code",
      "source": [
        "lakedata = read.csv(\"lake.csv\")\n",
        "NIN = lakedata$NIN\n",
        "TN = lakedata$TN\n",
        "\n",
        "N = nrow(lakedata)\n",
        "\n",
        "#Storing NIN and TN observations as separate objects\n",
        "NIN = lakedata$NIN\n",
        "TN = lakedata$TN\n",
        "\n",
        "#Calculating Z-Scores\n",
        "NIN_Z = (NIN - mean(NIN))/sd(NIN)\n",
        "TN_Z = (TN - mean(TN))/sd(TN)\n",
        "\n",
        "#Correlation formula\n",
        "q2_R = sum(NIN_Z * TN_Z)/(N - 1)\n",
        "round(q2_R, 3)"
      ],
      "metadata": {
        "colab": {
          "base_uri": "https://localhost:8080/",
          "height": 34
        },
        "id": "AkN6h8fPcvdJ",
        "outputId": "124ba300-7efc-4cf4-f093-071af4d783e0"
      },
      "execution_count": 2,
      "outputs": [
        {
          "output_type": "display_data",
          "data": {
            "text/html": [
              "0.07"
            ],
            "text/markdown": "0.07",
            "text/latex": "0.07",
            "text/plain": [
              "[1] 0.07"
            ]
          },
          "metadata": {}
        }
      ]
    },
    {
      "cell_type": "markdown",
      "source": [
        "Question 3:"
      ],
      "metadata": {
        "id": "LebBrOUMdpgQ"
      }
    },
    {
      "cell_type": "code",
      "source": [
        "# slope\n",
        "q3_slope = q2_R * (sd(TN) / sd(NIN))\n",
        "round(q3_slope, 3)\n",
        "\n",
        "#Intercept\n",
        "q3_intercept = mean(TN) - q3_slope * mean(NIN)\n",
        "round(q3_intercept, 3)\n",
        "\n",
        "# the formula \n",
        "# Y = 1.868 + 0.012X"
      ],
      "metadata": {
        "colab": {
          "base_uri": "https://localhost:8080/",
          "height": 52
        },
        "id": "8ZdteKraErZb",
        "outputId": "8f6ced14-0d1f-4bcc-d2df-60238f788987"
      },
      "execution_count": 3,
      "outputs": [
        {
          "output_type": "display_data",
          "data": {
            "text/html": [
              "0.012"
            ],
            "text/markdown": "0.012",
            "text/latex": "0.012",
            "text/plain": [
              "[1] 0.012"
            ]
          },
          "metadata": {}
        },
        {
          "output_type": "display_data",
          "data": {
            "text/html": [
              "1.868"
            ],
            "text/markdown": "1.868",
            "text/latex": "1.868",
            "text/plain": [
              "[1] 1.868"
            ]
          },
          "metadata": {}
        }
      ]
    },
    {
      "cell_type": "markdown",
      "source": [
        "Question 4:\n"
      ],
      "metadata": {
        "id": "TxDHpKvtFGDL"
      }
    },
    {
      "cell_type": "code",
      "source": [
        "library(ggplot2)\n",
        "options(repr.plot.width = 7, repr.plot.height = 5)\n",
        "\n",
        "ggplot(lakedata, aes(x = NIN, y = TN)) +\n",
        "  geom_point(size = 3) + geom_abline(intercept = q3_intercept, slope = q3_slope, color = \"red\")\n"
      ],
      "metadata": {
        "colab": {
          "base_uri": "https://localhost:8080/",
          "height": 317
        },
        "id": "2OrE1pOsFpIG",
        "outputId": "cbba7b9d-fe94-437a-d390-ec0e2bb1cfe9"
      },
      "execution_count": 4,
      "outputs": [
        {
          "output_type": "display_data",
          "data": {
            "text/plain": [
              "plot without title"
            ],
            "image/png": "[encoded data removed]"
          },
          "metadata": {
            "image/png": {
              "width": 420,
              "height": 300
            }
          }
        }
      ]
    },
    {
      "cell_type": "markdown",
      "source": [
        "Question 5:\n"
      ],
      "metadata": {
        "id": "hDYcQUsJF-dp"
      }
    },
    {
      "cell_type": "code",
      "source": [
        "# Model Predictions\n",
        "lakedata$y_hat = q3_intercept + q3_slope * NIN\n",
        "\n",
        "# Residuals\n",
        "lakedata$resid = TN - lakedata$y_hat\n",
        "\n",
        "ggplot(lakedata, aes(x = NIN, y=resid)) +\n",
        "  geom_point(size = 3)"
      ],
      "metadata": {
        "colab": {
          "base_uri": "https://localhost:8080/",
          "height": 317
        },
        "id": "XQE03iRQGhEa",
        "outputId": "e49a7ce1-1c2c-4953-ab8e-334d638e756c"
      },
      "execution_count": 5,
      "outputs": [
        {
          "output_type": "display_data",
          "data": {
            "text/plain": [
              "plot without title"
            ],
            "image/png": "[encoded data removed]"
          },
          "metadata": {
            "image/png": {
              "width": 420,
              "height": 300
            }
          }
        }
      ]
    },
    {
      "cell_type": "markdown",
      "source": [
        "Question 6:"
      ],
      "metadata": {
        "id": "k3eIsG_x-lkq"
      }
    },
    {
      "cell_type": "code",
      "source": [
        "library(ggplot2)\n",
        "ggplot(lakedata, aes(sample = resid)) +\n",
        "  stat_qq(shape = 21, size = 3,\n",
        "             fill = \"#F7DBEC\", colour = \"red\", stroke = .5) +\n",
        "  theme(text = element_text(size = 20)) + stat_qq_line(color = \"black\" )\n",
        "# no the residuals are not normally"
      ],
      "metadata": {
        "colab": {
          "base_uri": "https://localhost:8080/",
          "height": 317
        },
        "id": "AMmFq3yo_CIF",
        "outputId": "ca7d9947-04dd-48bc-99ef-9a582260e85d"
      },
      "execution_count": 6,
      "outputs": [
        {
          "output_type": "display_data",
          "data": {
            "text/plain": [
              "plot without title"
            ],
            "image/png": "[encoded data removed]"
          },
          "metadata": {
            "image/png": {
              "width": 420,
              "height": 300
            }
          }
        }
      ]
    },
    {
      "cell_type": "markdown",
      "source": [
        "Question 7:"
      ],
      "metadata": {
        "id": "Z-QM7x1r_J6e"
      }
    },
    {
      "cell_type": "code",
      "source": [
        "y_hat = lakedata$y_hat\n",
        "\n",
        "# squared standard error of the residuals\n",
        "SQ_SE = sum((TN - y_hat)^2)/(N-2)\n",
        "\n",
        "# sum of squares\n",
        "SS_x = sum((NIN - mean(NIN))^2)\n",
        "\n",
        "# Slope Standard Error\n",
        "Sb1 = sqrt(SQ_SE / SS_x)\n",
        "\n",
        "# Intercept Standard Error\n",
        "Sb0 = sqrt((SQ_SE * sum(NIN ^ 2)) / (N * SS_x))\n",
        "\n",
        "# test stat\n",
        "B = 0\n",
        "q7test_stat = (q3_slope - B) / Sb1\n",
        "\n",
        "# degrees of freedon\n",
        "q7df = N - 2\n",
        "\n",
        "# P value\n",
        "q7_pval = pt(q7test_stat, df = q7df, lower.tail = FALSE) * 2\n",
        "\n",
        "# Critical T\n",
        "alpha = 0.05\n",
        "q7tcrit = qt(alpha/2, df = q7df, lower.tail = FALSE)\n",
        "\n",
        "# Confidence Interval\n",
        "q7lower = q3_slope - q7tcrit * Sb1\n",
        "q7upper = q3_slope + q7tcrit * Sb1\n",
        "\n",
        "round(q7test_stat, 3)\n",
        "round(q7_pval, 3)\n",
        "round(q7lower, 3)\n",
        "round(q7upper, 3)\n",
        "\n",
        "# it is not significantly different"
      ],
      "metadata": {
        "colab": {
          "base_uri": "https://localhost:8080/",
          "height": 86
        },
        "id": "-I8kO9Y9Np5C",
        "outputId": "71c2d41b-c409-4d9f-a419-0d6c38f66bd5"
      },
      "execution_count": 7,
      "outputs": [
        {
          "output_type": "display_data",
          "data": {
            "text/html": [
              "0.364"
            ],
            "text/markdown": "0.364",
            "text/latex": "0.364",
            "text/plain": [
              "[1] 0.364"
            ]
          },
          "metadata": {}
        },
        {
          "output_type": "display_data",
          "data": {
            "text/html": [
              "0.719"
            ],
            "text/markdown": "0.719",
            "text/latex": "0.719",
            "text/plain": [
              "[1] 0.719"
            ]
          },
          "metadata": {}
        },
        {
          "output_type": "display_data",
          "data": {
            "text/html": [
              "-0.056"
            ],
            "text/markdown": "-0.056",
            "text/latex": "-0.056",
            "text/plain": [
              "[1] -0.056"
            ]
          },
          "metadata": {}
        },
        {
          "output_type": "display_data",
          "data": {
            "text/html": [
              "0.08"
            ],
            "text/markdown": "0.08",
            "text/latex": "0.08",
            "text/plain": [
              "[1] 0.08"
            ]
          },
          "metadata": {}
        }
      ]
    },
    {
      "cell_type": "markdown",
      "source": [
        "Question 8:"
      ],
      "metadata": {
        "id": "XZGdYeENPMPR"
      }
    },
    {
      "cell_type": "code",
      "source": [
        "lakedata$outties = abs(NIN - median(NIN)) / mad(NIN) > 2.24\n",
        "\n",
        "outliers = subset(lakedata, outties == TRUE)\n",
        "outliers"
      ],
      "metadata": {
        "colab": {
          "base_uri": "https://localhost:8080/",
          "height": 161
        },
        "id": "RR638aqjUboF",
        "outputId": "75cd8dec-bc52-4780-ede2-07d6d6966030"
      },
      "execution_count": 8,
      "outputs": [
        {
          "output_type": "display_data",
          "data": {
            "text/html": [
              "<table class=\"dataframe\">\n",
              "<caption>A data.frame: 2 × 6</caption>\n",
              "<thead>\n",
              "\t<tr><th></th><th scope=col>NIN</th><th scope=col>TN</th><th scope=col>TW</th><th scope=col>y_hat</th><th scope=col>resid</th><th scope=col>outties</th></tr>\n",
              "\t<tr><th></th><th scope=col>&lt;dbl&gt;</th><th scope=col>&lt;dbl&gt;</th><th scope=col>&lt;dbl&gt;</th><th scope=col>&lt;dbl&gt;</th><th scope=col>&lt;dbl&gt;</th><th scope=col>&lt;lgl&gt;</th></tr>\n",
              "</thead>\n",
              "<tbody>\n",
              "\t<tr><th scope=row>10</th><td>18.053</td><td>1.096</td><td>2.899</td><td>2.086664</td><td>-0.9906636</td><td>TRUE</td></tr>\n",
              "\t<tr><th scope=row>23</th><td>34.319</td><td>1.965</td><td>1.499</td><td>2.283262</td><td>-0.3182619</td><td>TRUE</td></tr>\n",
              "</tbody>\n",
              "</table>\n"
            ],
            "text/markdown": "\nA data.frame: 2 × 6\n\n| <!--/--> | NIN &lt;dbl&gt; | TN &lt;dbl&gt; | TW &lt;dbl&gt; | y_hat &lt;dbl&gt; | resid &lt;dbl&gt; | outties &lt;lgl&gt; |\n|---|---|---|---|---|---|---|\n| 10 | 18.053 | 1.096 | 2.899 | 2.086664 | -0.9906636 | TRUE |\n| 23 | 34.319 | 1.965 | 1.499 | 2.283262 | -0.3182619 | TRUE |\n\n",
            "text/latex": "A data.frame: 2 × 6\n\\begin{tabular}{r|llllll}\n  & NIN & TN & TW & y\\_hat & resid & outties\\\\\n  & <dbl> & <dbl> & <dbl> & <dbl> & <dbl> & <lgl>\\\\\n\\hline\n\t10 & 18.053 & 1.096 & 2.899 & 2.086664 & -0.9906636 & TRUE\\\\\n\t23 & 34.319 & 1.965 & 1.499 & 2.283262 & -0.3182619 & TRUE\\\\\n\\end{tabular}\n",
            "text/plain": [
              "   NIN    TN    TW    y_hat    resid      outties\n",
              "10 18.053 1.096 2.899 2.086664 -0.9906636 TRUE   \n",
              "23 34.319 1.965 1.499 2.283262 -0.3182619 TRUE   "
            ]
          },
          "metadata": {}
        }
      ]
    },
    {
      "cell_type": "markdown",
      "source": [
        "Question 9:"
      ],
      "metadata": {
        "id": "0m2GvxaeVPc1"
      }
    },
    {
      "cell_type": "code",
      "source": [
        "not_outliers = subset(lakedata, outties == FALSE)\n",
        "non_out_NIN = not_outliers$NIN\n",
        "non_out_TN = not_outliers$TN\n",
        "\n",
        "lm(non_out_TN ~ non_out_NIN, data = not_outliers)\n",
        "\n",
        "# Y = 0.287 + 0.562X"
      ],
      "metadata": {
        "colab": {
          "base_uri": "https://localhost:8080/",
          "height": 139
        },
        "id": "K15Pg22SVbNH",
        "outputId": "787dc163-706d-4c47-ada8-20aa8bc9ff77"
      },
      "execution_count": 9,
      "outputs": [
        {
          "output_type": "display_data",
          "data": {
            "text/plain": [
              "\n",
              "Call:\n",
              "lm(formula = non_out_TN ~ non_out_NIN, data = not_outliers)\n",
              "\n",
              "Coefficients:\n",
              "(Intercept)  non_out_NIN  \n",
              "     0.2867       0.5620  \n"
            ]
          },
          "metadata": {}
        }
      ]
    },
    {
      "cell_type": "markdown",
      "source": [
        "Question 10:"
      ],
      "metadata": {
        "id": "WRHjSaurVpjX"
      }
    },
    {
      "cell_type": "code",
      "source": [
        "library(ggplot2)\n",
        "options(repr.plot.width = 7, repr.plot.height = 5)\n",
        "\n",
        "ggplot(not_outliers, aes(x = non_out_NIN, y = non_out_TN)) +\n",
        "  geom_point(size = 3)  +\n",
        "\n",
        "  geom_abline(intercept = q3_intercept, slope = q3_slope, color = \"red\") +\n",
        "    \n",
        "    geom_abline(intercept = 0.2867, slope = 0.5620, color = \"green\")"
      ],
      "metadata": {
        "colab": {
          "base_uri": "https://localhost:8080/",
          "height": 317
        },
        "id": "n9oq6ENxYNy_",
        "outputId": "85d4ec41-d3b4-451a-841e-1bc0f70e5c63"
      },
      "execution_count": 10,
      "outputs": [
        {
          "output_type": "display_data",
          "data": {
            "text/plain": [
              "plot without title"
            ],
            "image/png": "[encoded data removed]"
          },
          "metadata": {
            "image/png": {
              "width": 420,
              "height": 300
            }
          }
        }
      ]
    },
    {
      "cell_type": "markdown",
      "source": [
        "Question 11:\n"
      ],
      "metadata": {
        "id": "DD0sgGI7Yyfg"
      }
    },
    {
      "cell_type": "code",
      "source": [
        "# Scatter plot\n",
        "\n",
        "# Model Predictions\n",
        "not_outliers$y_hat = 0.2867 + 0.5620 * non_out_NIN\n",
        "\n",
        "# Residuals\n",
        "not_outliers$resid = non_out_TN - not_outliers$y_hat\n",
        "\n",
        "ggplot(not_outliers, aes(x = non_out_NIN, y=resid)) +\n",
        "  geom_point(size = 3) + geom_hline(yintercept = 0)"
      ],
      "metadata": {
        "colab": {
          "base_uri": "https://localhost:8080/",
          "height": 317
        },
        "id": "F_3efFhTcdPc",
        "outputId": "a65549c0-985d-472d-9e63-ccb2987a0968"
      },
      "execution_count": 11,
      "outputs": [
        {
          "output_type": "display_data",
          "data": {
            "text/plain": [
              "plot without title"
            ],
            "image/png": "[encoded data removed]"
          },
          "metadata": {
            "image/png": {
              "width": 420,
              "height": 300
            }
          }
        }
      ]
    },
    {
      "cell_type": "code",
      "source": [
        "# QQPLOT\n",
        "\n",
        "library(ggplot2)\n",
        "ggplot(not_outliers, aes(sample = resid)) +\n",
        "  stat_qq(shape = 21, size = 3,\n",
        "             fill = \"#F7DBEC\", colour = \"red\", stroke = .5) +\n",
        "  theme(text = element_text(size = 20)) + stat_qq_line(color = \"black\" )"
      ],
      "metadata": {
        "colab": {
          "base_uri": "https://localhost:8080/",
          "height": 317
        },
        "id": "wjkqHaaGeNxd",
        "outputId": "880ab81c-3ee5-499f-aeb3-d0944ebb64fa"
      },
      "execution_count": 12,
      "outputs": [
        {
          "output_type": "display_data",
          "data": {
            "text/plain": [
              "plot without title"
            ],
            "image/png": "[encoded data removed]"
          },
          "metadata": {
            "image/png": {
              "width": 420,
              "height": 300
            }
          }
        }
      ]
    },
    {
      "cell_type": "markdown",
      "source": [
        "Question 12:"
      ],
      "metadata": {
        "id": "d5382TDFe_Lw"
      }
    },
    {
      "cell_type": "code",
      "source": [
        "TW = lakedata$TW\n",
        "\n",
        "lakedata$TW_outties = abs(TW - median(TW)) / mad(TW) > 2.24\n",
        "\n",
        "q12_outliers = subset(lakedata, TW_outties == TRUE)\n",
        "q12_outliers"
      ],
      "metadata": {
        "colab": {
          "base_uri": "https://localhost:8080/",
          "height": 286
        },
        "id": "CDGY6867Tw8O",
        "outputId": "1ff12786-e2f4-43d7-bbd9-1ca55253c96b"
      },
      "execution_count": 14,
      "outputs": [
        {
          "output_type": "display_data",
          "data": {
            "text/html": [
              "<table class=\"dataframe\">\n",
              "<caption>A data.frame: 6 × 7</caption>\n",
              "<thead>\n",
              "\t<tr><th></th><th scope=col>NIN</th><th scope=col>TN</th><th scope=col>TW</th><th scope=col>y_hat</th><th scope=col>resid</th><th scope=col>outties</th><th scope=col>TW_outties</th></tr>\n",
              "\t<tr><th></th><th scope=col>&lt;dbl&gt;</th><th scope=col>&lt;dbl&gt;</th><th scope=col>&lt;dbl&gt;</th><th scope=col>&lt;dbl&gt;</th><th scope=col>&lt;dbl&gt;</th><th scope=col>&lt;lgl&gt;</th><th scope=col>&lt;lgl&gt;</th></tr>\n",
              "</thead>\n",
              "<tbody>\n",
              "\t<tr><th scope=row>2</th><td> 4.896</td><td>3.770</td><td>2.499</td><td>1.927642</td><td> 1.8423580</td><td>FALSE</td><td>TRUE</td></tr>\n",
              "\t<tr><th scope=row>4</th><td> 3.586</td><td>1.445</td><td>1.699</td><td>1.911809</td><td>-0.4668088</td><td>FALSE</td><td>TRUE</td></tr>\n",
              "\t<tr><th scope=row>8</th><td> 3.557</td><td>1.250</td><td>1.699</td><td>1.911458</td><td>-0.6614583</td><td>FALSE</td><td>TRUE</td></tr>\n",
              "\t<tr><th scope=row>10</th><td>18.053</td><td>1.096</td><td>2.899</td><td>2.086664</td><td>-0.9906636</td><td> TRUE</td><td>TRUE</td></tr>\n",
              "\t<tr><th scope=row>22</th><td> 4.810</td><td>1.745</td><td>3.400</td><td>1.926603</td><td>-0.1816026</td><td>FALSE</td><td>TRUE</td></tr>\n",
              "\t<tr><th scope=row>23</th><td>34.319</td><td>1.965</td><td>1.499</td><td>2.283262</td><td>-0.3182619</td><td> TRUE</td><td>TRUE</td></tr>\n",
              "</tbody>\n",
              "</table>\n"
            ],
            "text/markdown": "\nA data.frame: 6 × 7\n\n| <!--/--> | NIN &lt;dbl&gt; | TN &lt;dbl&gt; | TW &lt;dbl&gt; | y_hat &lt;dbl&gt; | resid &lt;dbl&gt; | outties &lt;lgl&gt; | TW_outties &lt;lgl&gt; |\n|---|---|---|---|---|---|---|---|\n| 2 |  4.896 | 3.770 | 2.499 | 1.927642 |  1.8423580 | FALSE | TRUE |\n| 4 |  3.586 | 1.445 | 1.699 | 1.911809 | -0.4668088 | FALSE | TRUE |\n| 8 |  3.557 | 1.250 | 1.699 | 1.911458 | -0.6614583 | FALSE | TRUE |\n| 10 | 18.053 | 1.096 | 2.899 | 2.086664 | -0.9906636 |  TRUE | TRUE |\n| 22 |  4.810 | 1.745 | 3.400 | 1.926603 | -0.1816026 | FALSE | TRUE |\n| 23 | 34.319 | 1.965 | 1.499 | 2.283262 | -0.3182619 |  TRUE | TRUE |\n\n",
            "text/latex": "A data.frame: 6 × 7\n\\begin{tabular}{r|lllllll}\n  & NIN & TN & TW & y\\_hat & resid & outties & TW\\_outties\\\\\n  & <dbl> & <dbl> & <dbl> & <dbl> & <dbl> & <lgl> & <lgl>\\\\\n\\hline\n\t2 &  4.896 & 3.770 & 2.499 & 1.927642 &  1.8423580 & FALSE & TRUE\\\\\n\t4 &  3.586 & 1.445 & 1.699 & 1.911809 & -0.4668088 & FALSE & TRUE\\\\\n\t8 &  3.557 & 1.250 & 1.699 & 1.911458 & -0.6614583 & FALSE & TRUE\\\\\n\t10 & 18.053 & 1.096 & 2.899 & 2.086664 & -0.9906636 &  TRUE & TRUE\\\\\n\t22 &  4.810 & 1.745 & 3.400 & 1.926603 & -0.1816026 & FALSE & TRUE\\\\\n\t23 & 34.319 & 1.965 & 1.499 & 2.283262 & -0.3182619 &  TRUE & TRUE\\\\\n\\end{tabular}\n",
            "text/plain": [
              "   NIN    TN    TW    y_hat    resid      outties TW_outties\n",
              "2   4.896 3.770 2.499 1.927642  1.8423580 FALSE   TRUE      \n",
              "4   3.586 1.445 1.699 1.911809 -0.4668088 FALSE   TRUE      \n",
              "8   3.557 1.250 1.699 1.911458 -0.6614583 FALSE   TRUE      \n",
              "10 18.053 1.096 2.899 2.086664 -0.9906636  TRUE   TRUE      \n",
              "22  4.810 1.745 3.400 1.926603 -0.1816026 FALSE   TRUE      \n",
              "23 34.319 1.965 1.499 2.283262 -0.3182619  TRUE   TRUE      "
            ]
          },
          "metadata": {}
        }
      ]
    },
    {
      "cell_type": "markdown",
      "source": [
        "Question 13:\n",
        "\n"
      ],
      "metadata": {
        "id": "SI6AllSzVYr9"
      }
    },
    {
      "cell_type": "code",
      "source": [
        "q13_not_outliers = subset(lakedata, TW_outties == FALSE)\n",
        "q13_non_out_NIN = q13_not_outliers$NIN\n",
        "q13_non_out_TN = q13_not_outliers$TN\n",
        "q13_non_out_TW = q13_not_outliers$TW\n",
        "\n",
        "mod1 = lm(q13_non_out_TN ~ q13_non_out_NIN, data = q13_not_outliers)\n",
        "mod1\n",
        "# Y = 0.199 + 0.632X\n",
        "mod2 = lm(q13_non_out_TN ~ q13_non_out_NIN + q13_non_out_TW, data = q13_not_outliers)\n",
        "mod2\n",
        "# Y = 0.649 + 0.583X + (-0.988X)\n"
      ],
      "metadata": {
        "colab": {
          "base_uri": "https://localhost:8080/",
          "height": 277
        },
        "id": "ROEm_RAOWMUC",
        "outputId": "56efdadf-4940-4030-dd7c-4d94e45b9ab4"
      },
      "execution_count": 28,
      "outputs": [
        {
          "output_type": "display_data",
          "data": {
            "text/plain": [
              "\n",
              "Call:\n",
              "lm(formula = q13_non_out_TN ~ q13_non_out_NIN, data = q13_not_outliers)\n",
              "\n",
              "Coefficients:\n",
              "    (Intercept)  q13_non_out_NIN  \n",
              "         0.1985           0.6321  \n"
            ]
          },
          "metadata": {}
        },
        {
          "output_type": "display_data",
          "data": {
            "text/plain": [
              "\n",
              "Call:\n",
              "lm(formula = q13_non_out_TN ~ q13_non_out_NIN + q13_non_out_TW, \n",
              "    data = q13_not_outliers)\n",
              "\n",
              "Coefficients:\n",
              "    (Intercept)  q13_non_out_NIN   q13_non_out_TW  \n",
              "         0.6489           0.5832          -0.9883  \n"
            ]
          },
          "metadata": {}
        }
      ]
    },
    {
      "cell_type": "markdown",
      "source": [
        "Question 14:\n",
        "\n"
      ],
      "metadata": {
        "id": "cnqcxJxRXxWI"
      }
    },
    {
      "cell_type": "code",
      "source": [
        "# Model Predictions\n",
        "q13_not_outliers$y_hat = 0.1985 + 0.6321 * q13_non_out_NIN\n",
        "\n",
        "# Residuals\n",
        "q13_not_outliers$resid = q13_non_out_TN - q13_not_outliers$y_hat"
      ],
      "metadata": {
        "id": "GzpXDLc0Ze19"
      },
      "execution_count": 21,
      "outputs": []
    },
    {
      "cell_type": "code",
      "source": [
        "q14N = nrow(q13_not_outliers)\n",
        "\n",
        "# squared standard error of the residuals\n",
        "q14_SQ_SE = sum((q13_non_out_TN - q13_not_outliers$y_hat)^2)/(q14N-2)\n",
        "\n",
        "# sum of squares\n",
        "q14_SS_x = sum((q13_non_out_NIN - mean(q13_non_out_NIN))^2)\n",
        "\n",
        "# Slope Standard Error\n",
        "q14_Sb1 = sqrt(q14_SQ_SE / q14_SS_x)\n",
        "\n",
        "# Intercept Standard Error\n",
        "q14_Sb0 = sqrt((q14_SQ_SE * sum(q13_non_out_NIN ^ 2)) / (q14N * q14_SS_x))\n",
        "\n",
        "# test stat\n",
        "q14B = 0\n",
        "q14test_stat = (0.6321 - q14B) / q14_Sb1\n",
        "\n",
        "# degrees of freedon\n",
        "q14df = q14N - 2\n",
        "\n",
        "# P value\n",
        "q14_pval = pt(q14test_stat, df = q14df, lower.tail = FALSE) * 2\n",
        "\n",
        "# Critical T\n",
        "alpha = 0.05\n",
        "q14tcrit = qt(alpha/2, df = q14df, lower.tail = FALSE)\n",
        "\n",
        "# Confidence Interval\n",
        "q14lower = 0.6321 - q14tcrit * q14_Sb1\n",
        "q14upper = 0.6321 + q14tcrit * q14_Sb1\n",
        "\n",
        "round(q14_pval, 3)\n",
        "round(q14lower, 3)\n",
        "round(q14upper, 3)"
      ],
      "metadata": {
        "colab": {
          "base_uri": "https://localhost:8080/",
          "height": 69
        },
        "id": "xjscuEcha306",
        "outputId": "4992c6d6-a79a-4cb5-abd2-ac8b093a5b8c"
      },
      "execution_count": 25,
      "outputs": [
        {
          "output_type": "display_data",
          "data": {
            "text/html": [
              "0"
            ],
            "text/markdown": "0",
            "text/latex": "0",
            "text/plain": [
              "[1] 0"
            ]
          },
          "metadata": {}
        },
        {
          "output_type": "display_data",
          "data": {
            "text/html": [
              "0.331"
            ],
            "text/markdown": "0.331",
            "text/latex": "0.331",
            "text/plain": [
              "[1] 0.331"
            ]
          },
          "metadata": {}
        },
        {
          "output_type": "display_data",
          "data": {
            "text/html": [
              "0.933"
            ],
            "text/markdown": "0.933",
            "text/latex": "0.933",
            "text/plain": [
              "[1] 0.933"
            ]
          },
          "metadata": {}
        }
      ]
    },
    {
      "cell_type": "markdown",
      "source": [
        "Question 15:"
      ],
      "metadata": {
        "id": "O4lfk8REb_aj"
      }
    },
    {
      "cell_type": "code",
      "source": [
        "summary(lm(q13_non_out_TN ~ q13_non_out_NIN + q13_non_out_TW, data = q13_not_outliers))"
      ],
      "metadata": {
        "colab": {
          "base_uri": "https://localhost:8080/",
          "height": 364
        },
        "id": "4nXHvtpweDhA",
        "outputId": "96fe246c-933c-48a6-ff8d-f48902accc46"
      },
      "execution_count": 26,
      "outputs": [
        {
          "output_type": "display_data",
          "data": {
            "text/plain": [
              "\n",
              "Call:\n",
              "lm(formula = q13_non_out_TN ~ q13_non_out_NIN + q13_non_out_TW, \n",
              "    data = q13_not_outliers)\n",
              "\n",
              "Residuals:\n",
              "    Min      1Q  Median      3Q     Max \n",
              "-1.1589 -0.6921 -0.1515  0.7573  1.3940 \n",
              "\n",
              "Coefficients:\n",
              "                Estimate Std. Error t value Pr(>|t|)    \n",
              "(Intercept)       0.6489     0.5913   1.097 0.285495    \n",
              "q13_non_out_NIN   0.5832     0.1504   3.877 0.000937 ***\n",
              "q13_non_out_TW   -0.9883     0.8788  -1.125 0.274096    \n",
              "---\n",
              "Signif. codes:  0 ‘***’ 0.001 ‘**’ 0.01 ‘*’ 0.05 ‘.’ 0.1 ‘ ’ 1\n",
              "\n",
              "Residual standard error: 0.8682 on 20 degrees of freedom\n",
              "Multiple R-squared:  0.5067,\tAdjusted R-squared:  0.4574 \n",
              "F-statistic: 10.27 on 2 and 20 DF,  p-value: 0.0008529\n"
            ]
          },
          "metadata": {}
        }
      ]
    },
    {
      "cell_type": "markdown",
      "source": [
        "Question 16:"
      ],
      "metadata": {
        "id": "85IZ_tRneL3L"
      }
    },
    {
      "cell_type": "code",
      "source": [
        "mod2sum = summary(lm(q13_non_out_TN ~ q13_non_out_NIN + q13_non_out_TW, data = q13_not_outliers))\n",
        "mod1sum = summary(lm(q13_non_out_TN ~ q13_non_out_NIN, data = q13_not_outliers))\n",
        "q16N = nrow(q13_not_outliers)\n",
        "p_mod2 = 2\n",
        "p_diff = 2 - 1\n",
        "Rsq_diff = mod2sum$r.squared - mod1sum$r.squared\n",
        "f_diff = ((q16N - p_mod2 - 1) / p_diff) * (Rsq_diff / (1 - mod2sum$r.squared))\n",
        "round(f_diff,3)\n",
        "df1 = p_diff\n",
        "df1\n",
        "df2 = q16N - p_mod2 - 1\n",
        "df2\n",
        "q16pval = pf(f_diff, df1, df2, lower.tail = FALSE) \n",
        "round(q16pval,3)"
      ],
      "metadata": {
        "colab": {
          "base_uri": "https://localhost:8080/",
          "height": 86
        },
        "id": "Dtw0qq5JgnHn",
        "outputId": "d7751771-7dc9-4e8a-c936-ee826822608e"
      },
      "execution_count": 27,
      "outputs": [
        {
          "output_type": "display_data",
          "data": {
            "text/html": [
              "1.265"
            ],
            "text/markdown": "1.265",
            "text/latex": "1.265",
            "text/plain": [
              "[1] 1.265"
            ]
          },
          "metadata": {}
        },
        {
          "output_type": "display_data",
          "data": {
            "text/html": [
              "1"
            ],
            "text/markdown": "1",
            "text/latex": "1",
            "text/plain": [
              "[1] 1"
            ]
          },
          "metadata": {}
        },
        {
          "output_type": "display_data",
          "data": {
            "text/html": [
              "20"
            ],
            "text/markdown": "20",
            "text/latex": "20",
            "text/plain": [
              "[1] 20"
            ]
          },
          "metadata": {}
        },
        {
          "output_type": "display_data",
          "data": {
            "text/html": [
              "0.274"
            ],
            "text/markdown": "0.274",
            "text/latex": "0.274",
            "text/plain": [
              "[1] 0.274"
            ]
          },
          "metadata": {}
        }
      ]
    },
    {
      "cell_type": "markdown",
      "source": [
        "Question 17:"
      ],
      "metadata": {
        "id": "WY0YDo4TiZkK"
      }
    },
    {
      "cell_type": "code",
      "source": [
        "mod2sum"
      ],
      "metadata": {
        "colab": {
          "base_uri": "https://localhost:8080/",
          "height": 364
        },
        "id": "tyI2Ow6vjYEG",
        "outputId": "7b5992af-0d83-4591-a6eb-34e5bafd1737"
      },
      "execution_count": 31,
      "outputs": [
        {
          "output_type": "display_data",
          "data": {
            "text/plain": [
              "\n",
              "Call:\n",
              "lm(formula = q13_non_out_TN ~ q13_non_out_NIN + q13_non_out_TW, \n",
              "    data = q13_not_outliers)\n",
              "\n",
              "Residuals:\n",
              "    Min      1Q  Median      3Q     Max \n",
              "-1.1589 -0.6921 -0.1515  0.7573  1.3940 \n",
              "\n",
              "Coefficients:\n",
              "                Estimate Std. Error t value Pr(>|t|)    \n",
              "(Intercept)       0.6489     0.5913   1.097 0.285495    \n",
              "q13_non_out_NIN   0.5832     0.1504   3.877 0.000937 ***\n",
              "q13_non_out_TW   -0.9883     0.8788  -1.125 0.274096    \n",
              "---\n",
              "Signif. codes:  0 ‘***’ 0.001 ‘**’ 0.01 ‘*’ 0.05 ‘.’ 0.1 ‘ ’ 1\n",
              "\n",
              "Residual standard error: 0.8682 on 20 degrees of freedom\n",
              "Multiple R-squared:  0.5067,\tAdjusted R-squared:  0.4574 \n",
              "F-statistic: 10.27 on 2 and 20 DF,  p-value: 0.0008529\n"
            ]
          },
          "metadata": {}
        }
      ]
    },
    {
      "cell_type": "code",
      "source": [
        "\n",
        "q17Y = mod2sum$coefficients[2] * (5.7) + mod2sum$coefficients[3] * (0.98)\n",
        "round(q17Y, 3)\n"
      ],
      "metadata": {
        "colab": {
          "base_uri": "https://localhost:8080/",
          "height": 34
        },
        "id": "mjczz18ujp37",
        "outputId": "ca6f1514-35e1-4ab4-a166-991cb90efa73"
      },
      "execution_count": 34,
      "outputs": [
        {
          "output_type": "display_data",
          "data": {
            "text/html": [
              "2.356"
            ],
            "text/markdown": "2.356",
            "text/latex": "2.356",
            "text/plain": [
              "[1] 2.356"
            ]
          },
          "metadata": {}
        }
      ]
    },
    {
      "cell_type": "code",
      "source": [],
      "metadata": {
        "id": "bjx1roZ5kaRE"
      },
      "execution_count": null,
      "outputs": []
    }
  ]
}
