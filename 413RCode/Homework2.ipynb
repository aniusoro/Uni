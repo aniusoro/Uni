{
  "nbformat": 4,
  "nbformat_minor": 0,
  "metadata": {
    "colab": {
      "provenance": [],
      "collapsed_sections": [],
      "authorship_tag": "ABX9TyMbxnR1TBZndUh9nzGlRL0s",
      "include_colab_link": true
    },
    "kernelspec": {
      "name": "ir",
      "display_name": "R"
    },
    "language_info": {
      "name": "R"
    }
  },
  "cells": [
    {
      "cell_type": "markdown",
      "metadata": {
        "id": "view-in-github",
        "colab_type": "text"
      },
      "source": [
        "<a href=\"https://colab.research.google.com/github/aniusoro/Uni/blob/main/Homework2.ipynb\" target=\"_parent\"><img src=\"https://colab.research.google.com/assets/colab-badge.svg\" alt=\"Open In Colab\"/></a>"
      ]
    },
    {
      "cell_type": "code",
      "execution_count": null,
      "metadata": {
        "id": "cq_srCCPxVKf"
      },
      "outputs": [],
      "source": [
        "heightData = read.csv(\"PearsonHeightData.csv\")"
      ]
    },
    {
      "cell_type": "markdown",
      "source": [
        "Question 1:\n",
        "Calculate the Range, Q1, Q2, Q3, and IQR for the sons’ height data (in inches) used in the lecture.\n",
        "**Answer : Q1 = 66.9 Q2 = 68.6 Q3 = 70.5**"
      ],
      "metadata": {
        "id": "DJoublAJaRD1"
      }
    },
    {
      "cell_type": "code",
      "source": [
        "range = max(heightData$Son) - min(heightData$Son)\n",
        "range\n",
        "\n",
        "print(quantile(heightData$Son))\n",
        "\n",
        "Inter_quartile_range = IQR(heightData$Son)\n",
        "round(Inter_quartile_range, digits = 3)"
      ],
      "metadata": {
        "colab": {
          "base_uri": "https://localhost:8080/",
          "height": 87
        },
        "id": "5AnWBjRXaFEs",
        "outputId": "d293303e-a328-4d60-8850-fa9dd8c57d4d"
      },
      "execution_count": null,
      "outputs": [
        {
          "output_type": "display_data",
          "data": {
            "text/html": [
              "19.9"
            ],
            "text/markdown": "19.9",
            "text/latex": "19.9",
            "text/plain": [
              "[1] 19.9"
            ]
          },
          "metadata": {}
        },
        {
          "output_type": "stream",
          "name": "stdout",
          "text": [
            "  0%  25%  50%  75% 100% \n",
            "58.5 66.9 68.6 70.5 78.4 \n"
          ]
        },
        {
          "output_type": "display_data",
          "data": {
            "text/html": [
              "3.6"
            ],
            "text/markdown": "3.6",
            "text/latex": "3.6",
            "text/plain": [
              "[1] 3.6"
            ]
          },
          "metadata": {}
        }
      ]
    },
    {
      "cell_type": "markdown",
      "source": [
        "Question 2: Using the Pearson height data from the lecture, plot a boxplot of the sons’ heights. Make the boxplot an interesting colour."
      ],
      "metadata": {
        "id": "SB1nvL_qc8wU"
      }
    },
    {
      "cell_type": "code",
      "source": [
        "library(ggplot2)\n",
        "options(repr.plot.width = 4, repr.plot.height = 5)\n",
        "ggplot(heightData, aes(y = Son)) +\n",
        "  geom_boxplot(color = \"black\", fill = \"yellow\")"
      ],
      "metadata": {
        "colab": {
          "base_uri": "https://localhost:8080/",
          "height": 317
        },
        "id": "9TSr64oXeChu",
        "outputId": "7f569797-ed74-4dde-9407-801c3fe55994"
      },
      "execution_count": null,
      "outputs": [
        {
          "output_type": "display_data",
          "data": {
            "text/plain": [
              "plot without title"
            ],
            "image/png": "[encoded data removed]"
          },
          "metadata": {
            "image/png": {
              "width": 240,
              "height": 300
            }
          }
        }
      ]
    },
    {
      "cell_type": "markdown",
      "source": [
        "Question 3: From the previous question, list the values considered to be outliers according to the 1.5 × IQR rule."
      ],
      "metadata": {
        "id": "tC3bUyTuel73"
      }
    },
    {
      "cell_type": "code",
      "source": [
        "whisker_length = 1.5 * Inter_quartile_range\n",
        "bottom = 66.9 - whisker_length\n",
        "top = 70.5 + whisker_length\n",
        "outliers <- subset(heightData, Son < bottom | Son > top, select = c(\"Son\"))\n",
        "sort(outliers$Son)\n",
        "\n"
      ],
      "metadata": {
        "colab": {
          "base_uri": "https://localhost:8080/",
          "height": 34
        },
        "id": "dx2EyaalfI_t",
        "outputId": "9dd3c890-59eb-4a14-e308-6e0e281d6454"
      },
      "execution_count": null,
      "outputs": [
        {
          "output_type": "display_data",
          "data": {
            "text/html": [
              "<style>\n",
              ".list-inline {list-style: none; margin:0; padding: 0}\n",
              ".list-inline>li {display: inline-block}\n",
              ".list-inline>li:not(:last-child)::after {content: \"\\00b7\"; padding: 0 .5ex}\n",
              "</style>\n",
              "<ol class=list-inline><li>58.5</li><li>58.8</li><li>59.8</li><li>59.8</li><li>60.1</li><li>60.8</li><li>60.9</li><li>61</li><li>61</li><li>61.2</li><li>61.3</li><li>76.1</li><li>76.4</li><li>76.8</li><li>77.2</li><li>77.2</li><li>77.2</li><li>78.2</li><li>78.4</li></ol>\n"
            ],
            "text/markdown": "1. 58.5\n2. 58.8\n3. 59.8\n4. 59.8\n5. 60.1\n6. 60.8\n7. 60.9\n8. 61\n9. 61\n10. 61.2\n11. 61.3\n12. 76.1\n13. 76.4\n14. 76.8\n15. 77.2\n16. 77.2\n17. 77.2\n18. 78.2\n19. 78.4\n\n\n",
            "text/latex": "\\begin{enumerate*}\n\\item 58.5\n\\item 58.8\n\\item 59.8\n\\item 59.8\n\\item 60.1\n\\item 60.8\n\\item 60.9\n\\item 61\n\\item 61\n\\item 61.2\n\\item 61.3\n\\item 76.1\n\\item 76.4\n\\item 76.8\n\\item 77.2\n\\item 77.2\n\\item 77.2\n\\item 78.2\n\\item 78.4\n\\end{enumerate*}\n",
            "text/plain": [
              " [1] 58.5 58.8 59.8 59.8 60.1 60.8 60.9 61.0 61.0 61.2 61.3 76.1 76.4 76.8 77.2\n",
              "[16] 77.2 77.2 78.2 78.4"
            ]
          },
          "metadata": {}
        }
      ]
    },
    {
      "cell_type": "markdown",
      "source": [
        "Question 4:\n",
        "Calculate the sample SS, Variance, and Standard Deviation for the sons’ height data used in the lecture. You are NOT allowed to use the function sd() or var()"
      ],
      "metadata": {
        "id": "uoTJwgPmf0FV"
      }
    },
    {
      "cell_type": "code",
      "source": [
        "#Mean of the observations\n",
        "M =  mean(heightData$Son)\n",
        "\n",
        "# Number of Observations\n",
        "N = length(heightData$Son)\n",
        "\n",
        "#Deviations from the mean\n",
        "deviations = heightData$Son - M\n",
        "\n",
        "#Square the deviations\n",
        "deviations_sq = deviations^2\n",
        "\n",
        "#Sum of the deviations (SS)\n",
        "SS = sum(deviations_sq)\n",
        "round(SS, digits = 3)\n",
        "\n",
        "#Variance\n",
        "Var = SS / (N -1)\n",
        "round(Var, digits = 3)\n",
        "\n",
        "#Standard Deviation\n",
        "SD = sqrt(Var)\n",
        "round(SD, digits = 3)\n"
      ],
      "metadata": {
        "colab": {
          "base_uri": "https://localhost:8080/",
          "height": 69
        },
        "id": "Mgnh_y-iiViX",
        "outputId": "678af3e8-fbc2-4ebd-fd64-a3752782d02f"
      },
      "execution_count": null,
      "outputs": [
        {
          "output_type": "display_data",
          "data": {
            "text/html": [
              "8541.632"
            ],
            "text/markdown": "8541.632",
            "text/latex": "8541.632",
            "text/plain": [
              "[1] 8541.632"
            ]
          },
          "metadata": {}
        },
        {
          "output_type": "display_data",
          "data": {
            "text/html": [
              "7.931"
            ],
            "text/markdown": "7.931",
            "text/latex": "7.931",
            "text/plain": [
              "[1] 7.931"
            ]
          },
          "metadata": {}
        },
        {
          "output_type": "display_data",
          "data": {
            "text/html": [
              "2.816"
            ],
            "text/markdown": "2.816",
            "text/latex": "2.816",
            "text/plain": [
              "[1] 2.816"
            ]
          },
          "metadata": {}
        }
      ]
    },
    {
      "cell_type": "markdown",
      "source": [
        "Question 5: Calculate the sample mean, sum of squared deviations, variance, and standard deviation of the following data. You are not allowed to use the functions mean(), sd(), or var().\n",
        "323,221,215,231,483,133,416,361\n"
      ],
      "metadata": {
        "id": "ssX4Vy85ky_C"
      }
    },
    {
      "cell_type": "code",
      "source": [
        "Sample = c(323, 221, 215, 231, 483, 133, 416, 361)\n",
        "\n",
        "#Sample mean\n",
        "sample_mean = sum(Sample) / length(Sample)\n",
        "sample_mean\n",
        "\n",
        "#Deviations from the sample_mean\n",
        "deviations_sample = Sample - sample_mean\n",
        "\n",
        "#Square the deviations from the sample_mean\n",
        "deviations_sq2_sample = deviations_sample^2\n",
        "\n",
        "#Sum of the deviations (SS)\n",
        "SS_sample = sum(deviations_sq2_sample)\n",
        "round(SS_sample, digits = 3)\n",
        "\n",
        "#Variance\n",
        "Var_sample = SS_sample / (length(Sample) - 1)\n",
        "round(Var_sample, digits = 3)\n",
        "\n",
        "#Standard Deviation\n",
        "SD_sample = sqrt(Var_sample)\n",
        "round(SD_sample, digits = 3)\n",
        "\n",
        "\n"
      ],
      "metadata": {
        "colab": {
          "base_uri": "https://localhost:8080/",
          "height": 86
        },
        "id": "1F-z7pyxl98S",
        "outputId": "ca9f55c5-89b8-456f-9c6e-7d09f3c88f18"
      },
      "execution_count": null,
      "outputs": [
        {
          "output_type": "display_data",
          "data": {
            "text/html": [
              "297.875"
            ],
            "text/markdown": "297.875",
            "text/latex": "297.875",
            "text/plain": [
              "[1] 297.875"
            ]
          },
          "metadata": {}
        },
        {
          "output_type": "display_data",
          "data": {
            "text/html": [
              "97274.875"
            ],
            "text/markdown": "97274.875",
            "text/latex": "97274.875",
            "text/plain": [
              "[1] 97274.88"
            ]
          },
          "metadata": {}
        },
        {
          "output_type": "display_data",
          "data": {
            "text/html": [
              "13896.411"
            ],
            "text/markdown": "13896.411",
            "text/latex": "13896.411",
            "text/plain": [
              "[1] 13896.41"
            ]
          },
          "metadata": {}
        },
        {
          "output_type": "display_data",
          "data": {
            "text/html": [
              "117.883"
            ],
            "text/markdown": "117.883",
            "text/latex": "117.883",
            "text/plain": [
              "[1] 117.883"
            ]
          },
          "metadata": {}
        }
      ]
    },
    {
      "cell_type": "markdown",
      "source": [
        "Question 6:\n",
        "Assuming the data from the previous question is normally distributed, calculate the points the middle 95% of the data fall within. Round your answer to two decimals. Recall that 95% of the data fall within 1.96 standard deviations of the mean."
      ],
      "metadata": {
        "id": "yhyVFl1VorIJ"
      }
    },
    {
      "cell_type": "code",
      "source": [
        "round((sample_mean - (1.96*SD_sample)), digits = 3)\n",
        "round((sample_mean + (1.96*SD_sample)), digits = 3)"
      ],
      "metadata": {
        "colab": {
          "base_uri": "https://localhost:8080/",
          "height": 52
        },
        "id": "ULlZ9MBguf4b",
        "outputId": "30551714-ea06-49da-b60c-86f46ff96299"
      },
      "execution_count": null,
      "outputs": [
        {
          "output_type": "display_data",
          "data": {
            "text/html": [
              "66.824"
            ],
            "text/markdown": "66.824",
            "text/latex": "66.824",
            "text/plain": [
              "[1] 66.824"
            ]
          },
          "metadata": {}
        },
        {
          "output_type": "display_data",
          "data": {
            "text/html": [
              "528.926"
            ],
            "text/markdown": "528.926",
            "text/latex": "528.926",
            "text/plain": [
              "[1] 528.926"
            ]
          },
          "metadata": {}
        }
      ]
    },
    {
      "cell_type": "markdown",
      "source": [
        "Question 7: Assuming the data from the previous question is normally distributed, calculate the points the middle 68% of the data fall within."
      ],
      "metadata": {
        "id": "mu6VVehFwYP8"
      }
    },
    {
      "cell_type": "code",
      "source": [
        "round((sample_mean - (1 * SD_sample)), digits = 3)\n",
        "round((sample_mean + (1 * SD_sample)), digits = 3)"
      ],
      "metadata": {
        "colab": {
          "base_uri": "https://localhost:8080/",
          "height": 52
        },
        "id": "JFBGIN00w9ns",
        "outputId": "810c6eb2-0342-46c3-dd68-e64c1bfde643"
      },
      "execution_count": null,
      "outputs": [
        {
          "output_type": "display_data",
          "data": {
            "text/html": [
              "179.992"
            ],
            "text/markdown": "179.992",
            "text/latex": "179.992",
            "text/plain": [
              "[1] 179.992"
            ]
          },
          "metadata": {}
        },
        {
          "output_type": "display_data",
          "data": {
            "text/html": [
              "415.758"
            ],
            "text/markdown": "415.758",
            "text/latex": "415.758",
            "text/plain": [
              "[1] 415.758"
            ]
          },
          "metadata": {}
        }
      ]
    },
    {
      "cell_type": "markdown",
      "source": [
        "Question 8: Bobby’s brother constantly tells him he’s abnormal. To prove this, his brother obtained a sample of test scores from Bobby’s class (Bobby was included in this sample). His classmates’ scores were 70, 68, 75, 72, 76, 74, 69, 82, 73, and Bobby scored a 56. If “abnormal” is operationally defined as being at least 2 standard deviations away from the mean, is Bobby abnormal?\n",
        "\n",
        "**Answer: he is abnormal because 95% of people fall between 57.96 and 85.04 but he is part of the 5% that do not fall within that range**"
      ],
      "metadata": {
        "id": "9aadK4kwxZGw"
      }
    },
    {
      "cell_type": "code",
      "source": [
        "bobby_data = c(70, 68, 75, 72, 76, 74, 69, 82, 73, 56)\n",
        "x = mean(bobby_data)\n",
        "y = round(sd(bobby_data), digits = 3)\n",
        "abnormal1 = x - (2 * y)\n",
        "abnormal2 = x + (2 * y)\n",
        "abnormal1\n",
        "abnormal2"
      ],
      "metadata": {
        "colab": {
          "base_uri": "https://localhost:8080/",
          "height": 52
        },
        "id": "Jz8osH3Byllk",
        "outputId": "bb91d57f-f10a-40a6-a27b-822a53f54d59"
      },
      "execution_count": null,
      "outputs": [
        {
          "output_type": "display_data",
          "data": {
            "text/html": [
              "57.96"
            ],
            "text/markdown": "57.96",
            "text/latex": "57.96",
            "text/plain": [
              "[1] 57.96"
            ]
          },
          "metadata": {}
        },
        {
          "output_type": "display_data",
          "data": {
            "text/html": [
              "85.04"
            ],
            "text/markdown": "85.04",
            "text/latex": "85.04",
            "text/plain": [
              "[1] 85.04"
            ]
          },
          "metadata": {}
        }
      ]
    },
    {
      "cell_type": "markdown",
      "source": [
        "Question 9:\n",
        "From the previous question, what is the probability of a student scoring at Bobby’s mark or less?\n",
        "**Answer : when I check the z table, -2.29 has a value of 0.0110 which means that someone has a 1.1% chance of having Bobby's mark**"
      ],
      "metadata": {
        "id": "LlcbF2CQzPJz"
      }
    },
    {
      "cell_type": "code",
      "source": [
        "zscore = (56 - mean(bobby_data)) / sd(bobby_data)\n",
        "zscore\n"
      ],
      "metadata": {
        "colab": {
          "base_uri": "https://localhost:8080/",
          "height": 34
        },
        "id": "BJyfSxPA1kmD",
        "outputId": "5f1d8223-546f-4e5c-d25a-5f1c04ca7608"
      },
      "execution_count": null,
      "outputs": [
        {
          "output_type": "display_data",
          "data": {
            "text/html": [
              "-2.28950173221559"
            ],
            "text/markdown": "-2.28950173221559",
            "text/latex": "-2.28950173221559",
            "text/plain": [
              "[1] -2.289502"
            ]
          },
          "metadata": {}
        }
      ]
    },
    {
      "cell_type": "markdown",
      "source": [
        "Question 10: What is the probability of a student scoring higher than Bobby?\n",
        "**Answer: there is a 98.9% chance a student scores higher than Bobby**"
      ],
      "metadata": {
        "id": "K-inJXrm8NKK"
      }
    },
    {
      "cell_type": "code",
      "source": [
        "100 - 1.10"
      ],
      "metadata": {
        "colab": {
          "base_uri": "https://localhost:8080/",
          "height": 34
        },
        "id": "qfp4C6tw8mzj",
        "outputId": "cf4f294c-c1e1-4653-d797-a4483857d2e7"
      },
      "execution_count": null,
      "outputs": [
        {
          "output_type": "display_data",
          "data": {
            "text/html": [
              "98.9"
            ],
            "text/markdown": "98.9",
            "text/latex": "98.9",
            "text/plain": [
              "[1] 98.9"
            ]
          },
          "metadata": {}
        }
      ]
    },
    {
      "cell_type": "markdown",
      "source": [
        "Question 11: Calculate the population mean, sum of squared deviations (SS), variance, and standard deviation for the following distribution of numbers:\n",
        "4,4,4,4,4,4,4\n",
        "Why do you think the answer turned out the way it did? You are NOT allowed to use the function mean(), sd(), or var().\n",
        "\n",
        "**Answer: the answer turned out how it did because the elements in this population share the same value as the mean**"
      ],
      "metadata": {
        "id": "QV_2hqfc8sX-"
      }
    },
    {
      "cell_type": "code",
      "source": [
        "pop = c(4,4,4,4,4,4,4 )\n",
        "#The population mean\n",
        "pop_mean =  sum(pop) / length(pop)\n",
        "pop_mean\n",
        "\n",
        "#The sum of squared deviations(SS)\n",
        "pop_deviations = pop - pop_mean\n",
        "pop_SS = sum(pop_deviations^2)\n",
        "pop_SS\n",
        "\n",
        "#The Variance\n",
        "pop_var = pop_SS / length(pop)\n",
        "pop_var\n",
        "\n",
        "#The Standard deviation\n",
        "pop_SD = sqrt(pop_var)\n",
        "pop_SD"
      ],
      "metadata": {
        "colab": {
          "base_uri": "https://localhost:8080/",
          "height": 86
        },
        "id": "mEgP6OK_drnq",
        "outputId": "c8a52937-ca24-4574-d373-275241a66cb6"
      },
      "execution_count": null,
      "outputs": [
        {
          "output_type": "display_data",
          "data": {
            "text/html": [
              "4"
            ],
            "text/markdown": "4",
            "text/latex": "4",
            "text/plain": [
              "[1] 4"
            ]
          },
          "metadata": {}
        },
        {
          "output_type": "display_data",
          "data": {
            "text/html": [
              "0"
            ],
            "text/markdown": "0",
            "text/latex": "0",
            "text/plain": [
              "[1] 0"
            ]
          },
          "metadata": {}
        },
        {
          "output_type": "display_data",
          "data": {
            "text/html": [
              "0"
            ],
            "text/markdown": "0",
            "text/latex": "0",
            "text/plain": [
              "[1] 0"
            ]
          },
          "metadata": {}
        },
        {
          "output_type": "display_data",
          "data": {
            "text/html": [
              "0"
            ],
            "text/markdown": "0",
            "text/latex": "0",
            "text/plain": [
              "[1] 0"
            ]
          },
          "metadata": {}
        }
      ]
    },
    {
      "cell_type": "markdown",
      "source": [
        "Question 12: Which of the following are measures of spread?\n",
        "Range,\n",
        "IQR, \n",
        "Quartiles,\n",
        "Median,\n",
        "Mean,\n",
        "Sum of Squared Deviations,\n",
        "Variance,\n",
        "Standard Deviation,\n",
        "Z-score\n",
        "\n",
        "**Answer: Measures of spread include the range, quartiles and the interquartile range, variance, standard deviation and z-score.**"
      ],
      "metadata": {
        "id": "Ldhlv9raf8xL"
      }
    },
    {
      "cell_type": "markdown",
      "source": [
        "Question 13: We have sent out everyone in a large introductory course to check whether people use seat belts. Each student has been told to look at 100 cars and count the number of people wearing seat belts. The number found by any given student is considered that student’s score. The mean score for the class is 44, with a standard deviation of 7. A student who has done very little work all year has reported finding 62 seat belt users out of 100. Do we have reason to suspect that the student just made up a number rather than actually counting? Assume the data collected by the class follows a normal distribution.\n",
        "\n",
        "**Answer: As explained below, a score of 62 has a 0.51% chance of happening, so we are right to suspect that the student made up this number**"
      ],
      "metadata": {
        "id": "BkBhomNoirkw"
      }
    },
    {
      "cell_type": "code",
      "source": [
        "student_mean = 44\n",
        "student_SD = 7\n",
        "# we have to find the z-score of a student getting a 62\n",
        "zscore_62 = (62 - student_mean) / student_SD\n",
        "round(zscore_62, digits = 3)\n",
        "# this will tell us how many deviations it is from the mean\n",
        "# so a score of 62 will be 2.57 standard deviations above the mean\n",
        "# reading from the z table we get a value of 0.09949 which means it falls in the 99.49th percentile\n",
        "# probability of a student getting this will be (1 - 0.09949) * 100\n",
        "# which is 0.51%"
      ],
      "metadata": {
        "colab": {
          "base_uri": "https://localhost:8080/",
          "height": 34
        },
        "id": "kTzuBmxjlufL",
        "outputId": "5c75f7fe-f208-48bd-d4fc-2d7e3406b3df"
      },
      "execution_count": null,
      "outputs": [
        {
          "output_type": "display_data",
          "data": {
            "text/html": [
              "2.571"
            ],
            "text/markdown": "2.571",
            "text/latex": "2.571",
            "text/plain": [
              "[1] 2.571"
            ]
          },
          "metadata": {}
        }
      ]
    },
    {
      "cell_type": "markdown",
      "source": [
        "Question 14: From the previous question, what is the minimum and maximum number of seatbelts that could have been “observed” by this student without drawing suspicion? Assume anything greater than 1.96 standard deviations is suspicious. Round to the nearest integer.\n"
      ],
      "metadata": {
        "id": "YYRUw5ZJoFh5"
      }
    },
    {
      "cell_type": "code",
      "source": [
        "# The minimum number of seatbelts that could have been observed without suspicion is::\n",
        "min_observed = student_mean - (1.96 * student_SD)\n",
        "round(min_observed, digits = 0)\n",
        "\n",
        "# The maximum number of seatbelts that could have been observed without suspicion is:\n",
        "max_observed = student_mean + (1.96 * student_SD)\n",
        "round(max_observed, digits = 0)"
      ],
      "metadata": {
        "colab": {
          "base_uri": "https://localhost:8080/",
          "height": 52
        },
        "id": "V_zDoee7quiq",
        "outputId": "ce9bab6a-493e-47a7-fe8b-ebdf791917c4"
      },
      "execution_count": null,
      "outputs": [
        {
          "output_type": "display_data",
          "data": {
            "text/html": [
              "30"
            ],
            "text/markdown": "30",
            "text/latex": "30",
            "text/plain": [
              "[1] 30"
            ]
          },
          "metadata": {}
        },
        {
          "output_type": "display_data",
          "data": {
            "text/html": [
              "58"
            ],
            "text/markdown": "58",
            "text/latex": "58",
            "text/plain": [
              "[1] 58"
            ]
          },
          "metadata": {}
        }
      ]
    },
    {
      "cell_type": "markdown",
      "source": [
        "Question 15: A researcher counted the number of behavioural responses a sample of participants completed during a period of operant extinction (i.e., the participaints were no longer reinforced to perform a task). The data was positively skewed but the researcher nonetheless analyzed the results in terms of means and standard deviations. They reported a mean of 5.88 and a standard deviation of 8.06. Why was this an incredibly stupid way to analyze the results? Hint: consider where 0 responses might fall if this distriubtion was symmetric and unimodal.\n",
        "\n",
        "**Answer: I believe this is a stupid way of analyzing the results because for skewed distributions, the standard deviation gives no information about the asymmetry, and the mean causes massive inflations in the results.**"
      ],
      "metadata": {
        "id": "hASvi3NBsZze"
      }
    },
    {
      "cell_type": "markdown",
      "source": [
        "Question 16: Using the Son height data from the lecture, transform the sons’ scores to have a mean of 500 and a standard deviation of 500. Plot a histogram of the new distribution, select an interesting fill and edge colour, label the x-axis “Transformed Height of Sons”, and label the y-axis “Frequency”.\n"
      ],
      "metadata": {
        "id": "PpKXJiv1wmRo"
      }
    },
    {
      "cell_type": "code",
      "source": [
        "heightData = read.csv(\"PearsonHeightData.csv\")"
      ],
      "metadata": {
        "id": "Iim1SUEt2agZ"
      },
      "execution_count": null,
      "outputs": []
    },
    {
      "cell_type": "code",
      "source": [
        "heightData$zscores = (heightData$Son - mean(heightData$Son)) / sd(heightData$Son)\n",
        "\n",
        "heightData$transformed = (heightData$zscores * 500) + 500\n",
        "round(mean(heightData$transformed))\n",
        "sd(heightData$transformed)\n",
        "\n",
        "#PLOTTIGN THE HISTOGRAM\n",
        "library(ggplot2)\n",
        "options(repr.plot.width = 7, repr.plot.height = 5)\n",
        "ggplot(heightData, aes(x = transformed)) +\n",
        "  geom_histogram(color = \"gold\", fill = \"purple\") + \n",
        "\n",
        "#AXIS\n",
        "xlab(\"Transformed Height of Sons\") + ylab(\"Frequency\")\n"
      ],
      "metadata": {
        "colab": {
          "base_uri": "https://localhost:8080/",
          "height": 387
        },
        "id": "JQPbd1VM4QIF",
        "outputId": "0a80cdb0-4daa-4200-c79d-9c02ebb4af16"
      },
      "execution_count": null,
      "outputs": [
        {
          "output_type": "display_data",
          "data": {
            "text/html": [
              "500"
            ],
            "text/markdown": "500",
            "text/latex": "500",
            "text/plain": [
              "[1] 500"
            ]
          },
          "metadata": {}
        },
        {
          "output_type": "display_data",
          "data": {
            "text/html": [
              "500"
            ],
            "text/markdown": "500",
            "text/latex": "500",
            "text/plain": [
              "[1] 500"
            ]
          },
          "metadata": {}
        },
        {
          "output_type": "stream",
          "name": "stderr",
          "text": [
            "`stat_bin()` using `bins = 30`. Pick better value with `binwidth`.\n",
            "\n"
          ]
        },
        {
          "output_type": "display_data",
          "data": {
            "text/plain": [
              "plot without title"
            ],
            "image/png": "[encoded data removed]"
          },
          "metadata": {
            "image/png": {
              "width": 420,
              "height": 300
            }
          }
        }
      ]
    },
    {
      "cell_type": "markdown",
      "source": [
        "Question 17:\n",
        "From eClass, download the dataset Pokemon.csv. This data set presents statistics for each of the Pokemon characters in the popular video game franchise “Pokemon.”\n",
        "Use this data set to plot a density plot for the variable “HP.”\n",
        "- HP stands for hit points, or health points, and defines how much damage a pokemon can withstand before fainting."
      ],
      "metadata": {
        "id": "eLMWW9PR4eIb"
      }
    },
    {
      "cell_type": "code",
      "source": [
        "pokemonData = read.csv(\"Pokemon.csv\")\n",
        "\n",
        "library(ggplot2)\n",
        "options(repr.plot.width = 7, repr.plot.height = 5)\n",
        "ggplot(pokemonData, aes(x = hp)) +\n",
        "  geom_density(fill = \"yellow\", alpha = 0.5)\n"
      ],
      "metadata": {
        "colab": {
          "base_uri": "https://localhost:8080/",
          "height": 317
        },
        "id": "AG3dr6cLARJ5",
        "outputId": "c46ff9b7-a688-4f4d-b512-9f4100b8e684"
      },
      "execution_count": null,
      "outputs": [
        {
          "output_type": "display_data",
          "data": {
            "text/plain": [
              "plot without title"
            ],
            "image/png": "[encoded data removed]"
          },
          "metadata": {
            "image/png": {
              "width": 420,
              "height": 300
            }
          }
        }
      ]
    },
    {
      "cell_type": "markdown",
      "source": [
        "Question 18:\n",
        "Plot a Q-Q plot of the Pokemon HP column and indicate whether or not you believe the data is normally distributed (describe why you believe this - appeal to both the density and q-q plot).\n",
        "\n",
        "**Answer: from the QQ plot below, if the data were normally distributed, it would form more or less a straight line and it is very evident that the line formed below is not straight and with the density plot, the distribution is not smooth. Hence the data is not normally distrbuted.**"
      ],
      "metadata": {
        "id": "_lvLxjEOA71v"
      }
    },
    {
      "cell_type": "code",
      "source": [
        "library(ggplot2)\n",
        "options(repr.plot.width = 7, repr.plot.height = 5)\n",
        "ggplot(pokemonData, aes(sample = hp)) + stat_qq() + ggtitle(\"Pokemon HP Q-Q plot\") + stat_qq_line()"
      ],
      "metadata": {
        "colab": {
          "base_uri": "https://localhost:8080/",
          "height": 317
        },
        "id": "PCd7EKxgDne8",
        "outputId": "57445a64-800d-40e4-b8d7-aa78e5c77ee6"
      },
      "execution_count": null,
      "outputs": [
        {
          "output_type": "display_data",
          "data": {
            "text/plain": [
              "plot without title"
            ],
            "image/png": "[encoded data removed]"
          },
          "metadata": {
            "image/png": {
              "width": 420,
              "height": 300
            }
          }
        }
      ]
    },
    {
      "cell_type": "markdown",
      "source": [
        "Question 19:\n",
        "Use Tukey’s Ladder of Powers to find a transformation that makes the Pokemon HP data more normal. Plot a histogram of the transformed data. Specify which value of lambda (λ) you used.\n",
        "Note: the function transformTukey() is NOT allowed to be used for this question. You need to experiment and walk up/down the ladder yourself.\n",
        "\n",
        "**Answer,after using all the values in the ladder of powers, i found that between 0.4-0.5 gave me somewhat the best looking and normally distributed graph, so i decided to stick with the value of  0.4 as my lamda**"
      ],
      "metadata": {
        "id": "8s1r9nmKFsRG"
      }
    },
    {
      "cell_type": "code",
      "source": [
        "library(ggplot2)\n",
        "options(repr.plot.width = 7, repr.plot.height = 5)\n",
        "ggplot(pokemonData, aes(x = hp^0.4)) +\n",
        "  geom_histogram(color = \"gold\", fill = \"blue\") "
      ],
      "metadata": {
        "colab": {
          "base_uri": "https://localhost:8080/",
          "height": 353
        },
        "id": "-48b8xCpLiMo",
        "outputId": "4da35555-d0f0-4197-8db8-016996ec03b7"
      },
      "execution_count": null,
      "outputs": [
        {
          "output_type": "stream",
          "name": "stderr",
          "text": [
            "`stat_bin()` using `bins = 30`. Pick better value with `binwidth`.\n",
            "\n"
          ]
        },
        {
          "output_type": "display_data",
          "data": {
            "text/plain": [
              "plot without title"
            ],
            "image/png": "[encoded data removed]"
          },
          "metadata": {
            "image/png": {
              "width": 420,
              "height": 300
            }
          }
        }
      ]
    },
    {
      "cell_type": "markdown",
      "source": [
        "Question 20: Plot a Q-Q plot of your transformed Pokemon HP data. Use it and the plot from the previous question to determine whether you believe the transformed data is now acceptably normal. Hint: the answer is no. Justify your answer.\n",
        "**Answer: it is not because not all the points fall on the line shown by the obvious curve away from the line**"
      ],
      "metadata": {
        "id": "T1Gi202dOw3D"
      }
    },
    {
      "cell_type": "code",
      "source": [
        "library(ggplot2)\n",
        "options(repr.plot.width = 7, repr.plot.height = 5)\n",
        "ggplot(pokemonData, aes(sample = hp ^ 0.4)) + stat_qq() + ggtitle(\"New Pokemon HP Q-Q\")+ stat_qq_line()"
      ],
      "metadata": {
        "colab": {
          "base_uri": "https://localhost:8080/",
          "height": 317
        },
        "id": "HIH5in0HR4mS",
        "outputId": "f32597c2-86ae-400c-c67e-bb49edd2245b"
      },
      "execution_count": null,
      "outputs": [
        {
          "output_type": "display_data",
          "data": {
            "text/plain": [
              "plot without title"
            ],
            "image/png": "[encoded data removed]"
          },
          "metadata": {
            "image/png": {
              "width": 420,
              "height": 300
            }
          }
        }
      ]
    },
    {
      "cell_type": "code",
      "source": [],
      "metadata": {
        "id": "82sDCcq9R_Li"
      },
      "execution_count": null,
      "outputs": []
    }
  ]
}
