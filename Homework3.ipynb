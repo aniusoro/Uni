{
  "nbformat": 4,
  "nbformat_minor": 0,
  "metadata": {
    "colab": {
      "provenance": [],
      "collapsed_sections": [],
      "authorship_tag": "ABX9TyP2w6mZuFvM4wBtrD9H79tO",
      "include_colab_link": true
    },
    "kernelspec": {
      "name": "ir",
      "display_name": "R"
    },
    "language_info": {
      "name": "R"
    }
  },
  "cells": [
    {
      "cell_type": "markdown",
      "metadata": {
        "id": "view-in-github",
        "colab_type": "text"
      },
      "source": [
        "<a href=\"https://colab.research.google.com/github/aniusoro/Uni/blob/main/Homework3.ipynb\" target=\"_parent\"><img src=\"https://colab.research.google.com/assets/colab-badge.svg\" alt=\"Open In Colab\"/></a>"
      ]
    },
    {
      "cell_type": "markdown",
      "source": [
        "Question 1:\n",
        "From eClass, download the dataset Pokemon.csv. This data set presents statistics for each of the Pokemon characters in the popular video game franchise “Pokemon.”\n",
        "For the variable HP, calculate the following statistics:\n",
        "\n",
        "Median\n",
        "Mean\n",
        "20% Trimmed Mean\n",
        "Standard Deviation\n",
        "20% Winsorized Standard Deviation"
      ],
      "metadata": {
        "id": "D0GSAJlmuG4s"
      }
    },
    {
      "cell_type": "code",
      "execution_count": null,
      "metadata": {
        "colab": {
          "base_uri": "https://localhost:8080/",
          "height": 211
        },
        "id": "q3Hb4jX6mnxs",
        "outputId": "3da63e11-74f7-4d82-dd97-7b4439cc457b"
      },
      "outputs": [
        {
          "output_type": "stream",
          "name": "stderr",
          "text": [
            "Installing package into ‘/usr/local/lib/R/site-library’\n",
            "(as ‘lib’ is unspecified)\n",
            "\n",
            "also installing the dependencies ‘Rcpp’, ‘mvtnorm’, ‘reshape’, ‘plyr’, ‘mc2d’\n",
            "\n",
            "\n"
          ]
        },
        {
          "output_type": "display_data",
          "data": {
            "text/html": [
              "68.959"
            ],
            "text/markdown": "68.959",
            "text/latex": "68.959",
            "text/plain": [
              "[1] 68.959"
            ]
          },
          "metadata": {}
        },
        {
          "output_type": "display_data",
          "data": {
            "text/html": [
              "65"
            ],
            "text/markdown": "65",
            "text/latex": "65",
            "text/plain": [
              "[1] 65"
            ]
          },
          "metadata": {}
        },
        {
          "output_type": "display_data",
          "data": {
            "text/html": [
              "66.096"
            ],
            "text/markdown": "66.096",
            "text/latex": "66.096",
            "text/plain": [
              "[1] 66.096"
            ]
          },
          "metadata": {}
        },
        {
          "output_type": "display_data",
          "data": {
            "text/html": [
              "26.576"
            ],
            "text/markdown": "26.576",
            "text/latex": "26.576",
            "text/plain": [
              "[1] 26.576"
            ]
          },
          "metadata": {}
        },
        {
          "output_type": "display_data",
          "data": {
            "text/html": [
              "14.442"
            ],
            "text/markdown": "14.442",
            "text/latex": "14.442",
            "text/plain": [
              "[1] 14.442"
            ]
          },
          "metadata": {}
        }
      ],
      "source": [
        "pokemonData = read.csv(\"Pokemon.csv\")\n",
        "install.packages(\"WRS2\")\n",
        "library(WRS2)\n",
        "\n",
        "hp = pokemonData$hp\n",
        "# The mean of the hp data\n",
        "round(mean(hp), digits = 3)\n",
        "# The median\n",
        "median(hp)\n",
        "# 20% trimmed mean\n",
        "round(mean(hp, tr=0.2), digits = 3)\n",
        "# Standard deviation\n",
        "round(sd(hp), digits = 3)\n",
        "# 20% Windsorized Standard deviation\n",
        "winsorized_sd = sqrt(winvar(hp, tr=0.2))\n",
        "round(winsorized_sd, digits = 3)"
      ]
    },
    {
      "cell_type": "markdown",
      "source": [
        "Question 2:\n",
        "Without using the R function mad(), list the values considered outliers for the untransformed Pokemon HP data according to the MAD-median rule for outlier detection.\n",
        "When listing the outliers, only display the following columns: “pokedex_number”, “name”, and “hp”.\n"
      ],
      "metadata": {
        "id": "DbwLRk_OxlNE"
      }
    },
    {
      "cell_type": "code",
      "source": [
        "# Find the median\n",
        "med = median(hp)\n",
        "\n",
        "# Find the deviations from the median\n",
        "devs = hp - med\n",
        "\n",
        "# Find the absolute median deviations\n",
        "abs_devs = abs(devs)\n",
        "\n",
        "# Find the median of the abs_devs to get the MAD statistic\n",
        "MAD = median(abs_devs)\n",
        "\n",
        "# MADN\n",
        "MADN = MAD / 0.6745\n",
        "round(MADN, digits = 3)\n",
        "\n",
        "# Extreacting the outliers by pokedex_number, name and hp\n",
        "pokemonData$hp_outliers = (abs_devs / MADN) > 2.24\n",
        "outliers = subset(pokemonData, hp_outliers == TRUE)\n",
        "outliers[c(\"pokedex_number\", \"name\", \"hp\")]\n",
        "\n",
        "\n"
      ],
      "metadata": {
        "colab": {
          "base_uri": "https://localhost:8080/",
          "height": 1000
        },
        "id": "FfserIsQ0GlY",
        "outputId": "ab0738fb-694b-451f-d682-1f67f0594f2f"
      },
      "execution_count": null,
      "outputs": [
        {
          "output_type": "display_data",
          "data": {
            "text/html": [
              "22.239"
            ],
            "text/markdown": "22.239",
            "text/latex": "22.239",
            "text/plain": [
              "[1] 22.239"
            ]
          },
          "metadata": {}
        },
        {
          "output_type": "display_data",
          "data": {
            "text/html": [
              "<table class=\"dataframe\">\n",
              "<caption>A data.frame: 35 × 3</caption>\n",
              "<thead>\n",
              "\t<tr><th></th><th scope=col>pokedex_number</th><th scope=col>name</th><th scope=col>hp</th></tr>\n",
              "\t<tr><th></th><th scope=col>&lt;int&gt;</th><th scope=col>&lt;chr&gt;</th><th scope=col>&lt;int&gt;</th></tr>\n",
              "</thead>\n",
              "<tbody>\n",
              "\t<tr><th scope=row>39</th><td> 39</td><td>Jigglypuff</td><td>115</td></tr>\n",
              "\t<tr><th scope=row>40</th><td> 40</td><td>Wigglytuff</td><td>140</td></tr>\n",
              "\t<tr><th scope=row>50</th><td> 50</td><td>Diglett   </td><td> 10</td></tr>\n",
              "\t<tr><th scope=row>113</th><td>113</td><td>Chansey   </td><td>250</td></tr>\n",
              "\t<tr><th scope=row>131</th><td>131</td><td>Lapras    </td><td>130</td></tr>\n",
              "\t<tr><th scope=row>134</th><td>134</td><td>Vaporeon  </td><td>130</td></tr>\n",
              "\t<tr><th scope=row>143</th><td>143</td><td>Snorlax   </td><td>160</td></tr>\n",
              "\t<tr><th scope=row>171</th><td>171</td><td>Lanturn   </td><td>125</td></tr>\n",
              "\t<tr><th scope=row>202</th><td>202</td><td>Wobbuffet </td><td>190</td></tr>\n",
              "\t<tr><th scope=row>242</th><td>242</td><td>Blissey   </td><td>255</td></tr>\n",
              "\t<tr><th scope=row>244</th><td>244</td><td>Entei     </td><td>115</td></tr>\n",
              "\t<tr><th scope=row>289</th><td>289</td><td>Slaking   </td><td>150</td></tr>\n",
              "\t<tr><th scope=row>292</th><td>292</td><td>Shedinja  </td><td>  1</td></tr>\n",
              "\t<tr><th scope=row>297</th><td>297</td><td>Hariyama  </td><td>144</td></tr>\n",
              "\t<tr><th scope=row>320</th><td>320</td><td>Wailmer   </td><td>130</td></tr>\n",
              "\t<tr><th scope=row>321</th><td>321</td><td>Wailord   </td><td>170</td></tr>\n",
              "\t<tr><th scope=row>426</th><td>426</td><td>Drifblim  </td><td>150</td></tr>\n",
              "\t<tr><th scope=row>446</th><td>446</td><td>Munchlax  </td><td>135</td></tr>\n",
              "\t<tr><th scope=row>464</th><td>464</td><td>Rhyperior </td><td>115</td></tr>\n",
              "\t<tr><th scope=row>487</th><td>487</td><td>Giratina  </td><td>150</td></tr>\n",
              "\t<tr><th scope=row>488</th><td>488</td><td>Cresselia </td><td>120</td></tr>\n",
              "\t<tr><th scope=row>493</th><td>493</td><td>Arceus    </td><td>120</td></tr>\n",
              "\t<tr><th scope=row>518</th><td>518</td><td>Musharna  </td><td>116</td></tr>\n",
              "\t<tr><th scope=row>538</th><td>538</td><td>Throh     </td><td>120</td></tr>\n",
              "\t<tr><th scope=row>594</th><td>594</td><td>Alomomola </td><td>165</td></tr>\n",
              "\t<tr><th scope=row>646</th><td>646</td><td>Kyurem    </td><td>125</td></tr>\n",
              "\t<tr><th scope=row>673</th><td>673</td><td>Gogoat    </td><td>123</td></tr>\n",
              "\t<tr><th scope=row>699</th><td>699</td><td>Aurorus   </td><td>123</td></tr>\n",
              "\t<tr><th scope=row>716</th><td>716</td><td>Xerneas   </td><td>126</td></tr>\n",
              "\t<tr><th scope=row>717</th><td>717</td><td>Yveltal   </td><td>126</td></tr>\n",
              "\t<tr><th scope=row>718</th><td>718</td><td>Zygarde   </td><td>216</td></tr>\n",
              "\t<tr><th scope=row>760</th><td>760</td><td>Bewear    </td><td>120</td></tr>\n",
              "\t<tr><th scope=row>791</th><td>791</td><td>Solgaleo  </td><td>137</td></tr>\n",
              "\t<tr><th scope=row>792</th><td>792</td><td>Lunala    </td><td>137</td></tr>\n",
              "\t<tr><th scope=row>799</th><td>799</td><td>Guzzlord  </td><td>223</td></tr>\n",
              "</tbody>\n",
              "</table>\n"
            ],
            "text/markdown": "\nA data.frame: 35 × 3\n\n| <!--/--> | pokedex_number &lt;int&gt; | name &lt;chr&gt; | hp &lt;int&gt; |\n|---|---|---|---|\n| 39 |  39 | Jigglypuff | 115 |\n| 40 |  40 | Wigglytuff | 140 |\n| 50 |  50 | Diglett    |  10 |\n| 113 | 113 | Chansey    | 250 |\n| 131 | 131 | Lapras     | 130 |\n| 134 | 134 | Vaporeon   | 130 |\n| 143 | 143 | Snorlax    | 160 |\n| 171 | 171 | Lanturn    | 125 |\n| 202 | 202 | Wobbuffet  | 190 |\n| 242 | 242 | Blissey    | 255 |\n| 244 | 244 | Entei      | 115 |\n| 289 | 289 | Slaking    | 150 |\n| 292 | 292 | Shedinja   |   1 |\n| 297 | 297 | Hariyama   | 144 |\n| 320 | 320 | Wailmer    | 130 |\n| 321 | 321 | Wailord    | 170 |\n| 426 | 426 | Drifblim   | 150 |\n| 446 | 446 | Munchlax   | 135 |\n| 464 | 464 | Rhyperior  | 115 |\n| 487 | 487 | Giratina   | 150 |\n| 488 | 488 | Cresselia  | 120 |\n| 493 | 493 | Arceus     | 120 |\n| 518 | 518 | Musharna   | 116 |\n| 538 | 538 | Throh      | 120 |\n| 594 | 594 | Alomomola  | 165 |\n| 646 | 646 | Kyurem     | 125 |\n| 673 | 673 | Gogoat     | 123 |\n| 699 | 699 | Aurorus    | 123 |\n| 716 | 716 | Xerneas    | 126 |\n| 717 | 717 | Yveltal    | 126 |\n| 718 | 718 | Zygarde    | 216 |\n| 760 | 760 | Bewear     | 120 |\n| 791 | 791 | Solgaleo   | 137 |\n| 792 | 792 | Lunala     | 137 |\n| 799 | 799 | Guzzlord   | 223 |\n\n",
            "text/latex": "A data.frame: 35 × 3\n\\begin{tabular}{r|lll}\n  & pokedex\\_number & name & hp\\\\\n  & <int> & <chr> & <int>\\\\\n\\hline\n\t39 &  39 & Jigglypuff & 115\\\\\n\t40 &  40 & Wigglytuff & 140\\\\\n\t50 &  50 & Diglett    &  10\\\\\n\t113 & 113 & Chansey    & 250\\\\\n\t131 & 131 & Lapras     & 130\\\\\n\t134 & 134 & Vaporeon   & 130\\\\\n\t143 & 143 & Snorlax    & 160\\\\\n\t171 & 171 & Lanturn    & 125\\\\\n\t202 & 202 & Wobbuffet  & 190\\\\\n\t242 & 242 & Blissey    & 255\\\\\n\t244 & 244 & Entei      & 115\\\\\n\t289 & 289 & Slaking    & 150\\\\\n\t292 & 292 & Shedinja   &   1\\\\\n\t297 & 297 & Hariyama   & 144\\\\\n\t320 & 320 & Wailmer    & 130\\\\\n\t321 & 321 & Wailord    & 170\\\\\n\t426 & 426 & Drifblim   & 150\\\\\n\t446 & 446 & Munchlax   & 135\\\\\n\t464 & 464 & Rhyperior  & 115\\\\\n\t487 & 487 & Giratina   & 150\\\\\n\t488 & 488 & Cresselia  & 120\\\\\n\t493 & 493 & Arceus     & 120\\\\\n\t518 & 518 & Musharna   & 116\\\\\n\t538 & 538 & Throh      & 120\\\\\n\t594 & 594 & Alomomola  & 165\\\\\n\t646 & 646 & Kyurem     & 125\\\\\n\t673 & 673 & Gogoat     & 123\\\\\n\t699 & 699 & Aurorus    & 123\\\\\n\t716 & 716 & Xerneas    & 126\\\\\n\t717 & 717 & Yveltal    & 126\\\\\n\t718 & 718 & Zygarde    & 216\\\\\n\t760 & 760 & Bewear     & 120\\\\\n\t791 & 791 & Solgaleo   & 137\\\\\n\t792 & 792 & Lunala     & 137\\\\\n\t799 & 799 & Guzzlord   & 223\\\\\n\\end{tabular}\n",
            "text/plain": [
              "    pokedex_number name       hp \n",
              "39   39            Jigglypuff 115\n",
              "40   40            Wigglytuff 140\n",
              "50   50            Diglett     10\n",
              "113 113            Chansey    250\n",
              "131 131            Lapras     130\n",
              "134 134            Vaporeon   130\n",
              "143 143            Snorlax    160\n",
              "171 171            Lanturn    125\n",
              "202 202            Wobbuffet  190\n",
              "242 242            Blissey    255\n",
              "244 244            Entei      115\n",
              "289 289            Slaking    150\n",
              "292 292            Shedinja     1\n",
              "297 297            Hariyama   144\n",
              "320 320            Wailmer    130\n",
              "321 321            Wailord    170\n",
              "426 426            Drifblim   150\n",
              "446 446            Munchlax   135\n",
              "464 464            Rhyperior  115\n",
              "487 487            Giratina   150\n",
              "488 488            Cresselia  120\n",
              "493 493            Arceus     120\n",
              "518 518            Musharna   116\n",
              "538 538            Throh      120\n",
              "594 594            Alomomola  165\n",
              "646 646            Kyurem     125\n",
              "673 673            Gogoat     123\n",
              "699 699            Aurorus    123\n",
              "716 716            Xerneas    126\n",
              "717 717            Yveltal    126\n",
              "718 718            Zygarde    216\n",
              "760 760            Bewear     120\n",
              "791 791            Solgaleo   137\n",
              "792 792            Lunala     137\n",
              "799 799            Guzzlord   223"
            ]
          },
          "metadata": {}
        }
      ]
    },
    {
      "cell_type": "markdown",
      "source": [
        "Question 3:\n",
        "Use the following sampled data to answer questions a - h.\n",
        "−62,−98,−82,−83,−93,−91,−102,−91,−89,−103,−72,−99,−81,−116,\n",
        "\n",
        "−97,−78,−104,−101,−92,−88,−111,−90,−76,−83,−122,−108,−101,\n",
        "\n",
        "−130,−84,−83,−92,−98,−89,−102,−104"
      ],
      "metadata": {
        "id": "3oDGOrWM1UAl"
      }
    },
    {
      "cell_type": "markdown",
      "source": [
        "a. Determine if it is reasonable to assume that the population is normally distributed\n",
        "**Answer: I do no believe that it is reasonable to assume that the data is normally distributed because the mean should be a negative number not 0 and the standard deviation cannot then be 1**"
      ],
      "metadata": {
        "id": "BaQngDQY-mSA"
      }
    },
    {
      "cell_type": "code",
      "source": [
        "q3_data = c(-62, -98, -82, -83, -93, -91, -102, -91, -89, -103, -72, -99, -81, -116,\n",
        "-97, -78, -104, -101, -92, -88, -111, -90, -76, -83, -122, -108, -101, -130, -84,\n",
        "-83, -92, -98, -89, -102, -104)\n"
      ],
      "metadata": {
        "id": "6sfzA_xK-prr"
      },
      "execution_count": null,
      "outputs": []
    },
    {
      "cell_type": "markdown",
      "source": [
        "b. Without using the functions mean(), var(), or sd(), calculate the sample size, mean, standard deviation, and standard error of the mean."
      ],
      "metadata": {
        "id": "b7Pg5oEZ_jAe"
      }
    },
    {
      "cell_type": "code",
      "source": [
        "# Sample size\n",
        "q3_N = length(q3_data)\n",
        "\n",
        "# Sample Mean\n",
        "q3_sum = sum(q3_data)\n",
        "q3_mean = q3_sum / q3_N\n",
        "round(q3_mean, digits = 3)\n",
        "\n",
        "# Sample Standard Deviation\n",
        "q3_deviations = q3_data - q3_mean\n",
        "\n",
        "# Sum of the square of deviations\n",
        "q3_sum_squared_deviations = sum(q3_deviations^2)\n",
        "\n",
        "# Variance\n",
        "q3_var = q3_sum_squared_deviations / (q3_N - 1 )\n",
        "\n",
        "# Standard deviation\n",
        "q3_SD = sqrt(q3_var)\n",
        "round(q3_SD, digits = 3)\n",
        "\n",
        "#Standard error\n",
        "q3_SE = sqrt(q3_var) / sqrt(q3_N)\n",
        "round(q3_SE, digits = 3)\n"
      ],
      "metadata": {
        "colab": {
          "base_uri": "https://localhost:8080/",
          "height": 69
        },
        "id": "RX07qLvdBixT",
        "outputId": "0fc68d72-ef66-4255-f6d7-0c4a007be256"
      },
      "execution_count": null,
      "outputs": [
        {
          "output_type": "display_data",
          "data": {
            "text/html": [
              "-94.143"
            ],
            "text/markdown": "-94.143",
            "text/latex": "-94.143",
            "text/plain": [
              "[1] -94.143"
            ]
          },
          "metadata": {}
        },
        {
          "output_type": "display_data",
          "data": {
            "text/html": [
              "13.948"
            ],
            "text/markdown": "13.948",
            "text/latex": "13.948",
            "text/plain": [
              "[1] 13.948"
            ]
          },
          "metadata": {}
        },
        {
          "output_type": "display_data",
          "data": {
            "text/html": [
              "2.358"
            ],
            "text/markdown": "2.358",
            "text/latex": "2.358",
            "text/plain": [
              "[1] 2.358"
            ]
          },
          "metadata": {}
        }
      ]
    },
    {
      "cell_type": "markdown",
      "source": [
        "c. Find the critical values that represent the middle 95% boundries on a t-distribution.\n"
      ],
      "metadata": {
        "id": "PG9WiXVhBwYw"
      }
    },
    {
      "cell_type": "code",
      "source": [
        "# for the middle 95% it means alpha is 0.05\n",
        "alpha = 0.05\n",
        "q3_df = q3_N - 1\n",
        "left_tail = qt(alpha/2, q3_df)\n",
        "right_tail = qt(alpha/2, q3_df, lower.tail = FALSE)\n",
        "round(left_tail, digits = 3)\n",
        "round(right_tail, digits = 3)"
      ],
      "metadata": {
        "colab": {
          "base_uri": "https://localhost:8080/",
          "height": 52
        },
        "id": "3gMdGGwGKjCt",
        "outputId": "be997bb9-1523-45ed-b925-f44ca03a814c"
      },
      "execution_count": null,
      "outputs": [
        {
          "output_type": "display_data",
          "data": {
            "text/html": [
              "-2.032"
            ],
            "text/markdown": "-2.032",
            "text/latex": "-2.032",
            "text/plain": [
              "[1] -2.032"
            ]
          },
          "metadata": {}
        },
        {
          "output_type": "display_data",
          "data": {
            "text/html": [
              "2.032"
            ],
            "text/markdown": "2.032",
            "text/latex": "2.032",
            "text/plain": [
              "[1] 2.032"
            ]
          },
          "metadata": {}
        }
      ]
    },
    {
      "cell_type": "markdown",
      "source": [
        "d. If H0:μ=−90, calculate a 95% confidence interval to test this hypothesis. Do you reject the hypothesis (explain your reasoning in terms of the confidence interval)? You are not permitted to use the function t.test().\n",
        "\n",
        "**Answer: Since our test statistic falls within the 95% confidence interval, we fail to reject the null hypothesis.**"
      ],
      "metadata": {
        "id": "OJRSiEIhPr_J"
      }
    },
    {
      "cell_type": "code",
      "source": [
        "q3_lower = -94.143 - (2.032* 2.358)\n",
        "round(q3_lower, digits = 3)\n",
        "q3_upper = -94.143 + (2.032* 2.358)\n",
        "round(q3_upper, digits = 3)"
      ],
      "metadata": {
        "colab": {
          "base_uri": "https://localhost:8080/",
          "height": 52
        },
        "id": "JEtCllksSh-0",
        "outputId": "ed4df196-0e89-4b63-a7a8-b39959086c16"
      },
      "execution_count": null,
      "outputs": [
        {
          "output_type": "display_data",
          "data": {
            "text/html": [
              "-98.934"
            ],
            "text/markdown": "-98.934",
            "text/latex": "-98.934",
            "text/plain": [
              "[1] -98.934"
            ]
          },
          "metadata": {}
        },
        {
          "output_type": "display_data",
          "data": {
            "text/html": [
              "-89.352"
            ],
            "text/markdown": "-89.352",
            "text/latex": "-89.352",
            "text/plain": [
              "[1] -89.352"
            ]
          },
          "metadata": {}
        }
      ]
    },
    {
      "cell_type": "markdown",
      "source": [
        "e. If α=0.05, calculate a p-value to test H0:μ=−90. Do you reject the hypothesis? You are not permitted to use the function t.test().\n",
        "**Answer: since q3_pt > alpha, we fail to reject the null hypothesis.**"
      ],
      "metadata": {
        "id": "e1HRL-knbTE4"
      }
    },
    {
      "cell_type": "code",
      "source": [
        "q3_pt = pt(q3_test_statistic, df = q3_df)\n",
        "round((q3_pt * 2), digits = 3)"
      ],
      "metadata": {
        "colab": {
          "base_uri": "https://localhost:8080/",
          "height": 34
        },
        "id": "hudGOm_NcPzm",
        "outputId": "d61d4425-2dfe-40dd-b1d5-cc0621a496c6"
      },
      "execution_count": null,
      "outputs": [
        {
          "output_type": "display_data",
          "data": {
            "text/html": [
              "0.088"
            ],
            "text/markdown": "0.088",
            "text/latex": "0.088",
            "text/plain": [
              "[1] 0.088"
            ]
          },
          "metadata": {}
        }
      ]
    },
    {
      "cell_type": "markdown",
      "source": [
        "f. Use the function t.test() to compute a confidence interval and a p-value. α=0.05"
      ],
      "metadata": {
        "id": "qEgAitEpdAdf"
      }
    },
    {
      "cell_type": "code",
      "source": [
        "t.test(q3_data, mu = -90, alternative = c(\"two.sided\"))"
      ],
      "metadata": {
        "colab": {
          "base_uri": "https://localhost:8080/",
          "height": 213
        },
        "id": "_9e0rpVvdlC7",
        "outputId": "d3165181-f49a-4aee-af57-57f9f1f933bd"
      },
      "execution_count": null,
      "outputs": [
        {
          "output_type": "display_data",
          "data": {
            "text/plain": [
              "\n",
              "\tOne Sample t-test\n",
              "\n",
              "data:  q3_data\n",
              "t = -1.7572, df = 34, p-value = 0.08788\n",
              "alternative hypothesis: true mean is not equal to -90\n",
              "95 percent confidence interval:\n",
              " -98.93405 -89.35166\n",
              "sample estimates:\n",
              "mean of x \n",
              "-94.14286 \n"
            ]
          },
          "metadata": {}
        }
      ]
    },
    {
      "cell_type": "markdown",
      "source": [
        "g. Repeat question e. testing H0:μ>−90. You are not permitted to use the function t.test().\n",
        "**Answer: we reject this null hypothesis**"
      ],
      "metadata": {
        "id": "5e5y63Off8d7"
      }
    },
    {
      "cell_type": "markdown",
      "source": [
        "h. Use the function t.test() to test the hypothesis H0:μ>−90. α=0.05"
      ],
      "metadata": {
        "id": "C8WZIXnGeKNc"
      }
    },
    {
      "cell_type": "code",
      "source": [
        "t.test(q3_data, mu = -90, alternative = c(\"less\"))"
      ],
      "metadata": {
        "colab": {
          "base_uri": "https://localhost:8080/",
          "height": 213
        },
        "id": "sZDbkI0ceNf9",
        "outputId": "17b40251-c859-4a17-b3df-4ddb58aaca30"
      },
      "execution_count": null,
      "outputs": [
        {
          "output_type": "display_data",
          "data": {
            "text/plain": [
              "\n",
              "\tOne Sample t-test\n",
              "\n",
              "data:  q3_data\n",
              "t = -1.7572, df = 34, p-value = 0.04394\n",
              "alternative hypothesis: true mean is less than -90\n",
              "95 percent confidence interval:\n",
              "      -Inf -90.15635\n",
              "sample estimates:\n",
              "mean of x \n",
              "-94.14286 \n"
            ]
          },
          "metadata": {}
        }
      ]
    },
    {
      "cell_type": "markdown",
      "source": [
        "Question 4: If you get a sample mean of 45 based on 25 participants and the sample standard deviation is 5, what is the 95% confidence interval? Assume random sampling from a normal distribution.\n",
        "**Answer: the 95% confidence interval is (43.04, 46.96)**"
      ],
      "metadata": {
        "id": "7zyLVG_rhVgy"
      }
    },
    {
      "cell_type": "code",
      "source": [
        "# H0 : μ > -90\n",
        "# H1 : μ < -90\n",
        "# Find the test statistic:\n",
        "H0 = -90\n",
        "q3_test_statistic = (q3_mean - H0) / q3_SE\n",
        "q3_test_statistic\n",
        "\n",
        "# one tailed\n",
        "# rejection region is to the left\n",
        "left_one_tail = qt(alpha, df= q3_df)\n",
        "left_one_tail\n",
        "\n",
        "pt(q3_test_statistic, df = q3_df)\n"
      ],
      "metadata": {
        "colab": {
          "base_uri": "https://localhost:8080/",
          "height": 69
        },
        "id": "f6ZqTb7WhEO2",
        "outputId": "ff3e2bdb-659f-432a-80db-ca6af0b04e31"
      },
      "execution_count": null,
      "outputs": [
        {
          "output_type": "display_data",
          "data": {
            "text/html": [
              "-1.7572435709379"
            ],
            "text/markdown": "-1.7572435709379",
            "text/latex": "-1.7572435709379",
            "text/plain": [
              "[1] -1.757244"
            ]
          },
          "metadata": {}
        },
        {
          "output_type": "display_data",
          "data": {
            "text/html": [
              "-1.69092425518685"
            ],
            "text/markdown": "-1.69092425518685",
            "text/latex": "-1.69092425518685",
            "text/plain": [
              "[1] -1.690924"
            ]
          },
          "metadata": {}
        },
        {
          "output_type": "display_data",
          "data": {
            "text/html": [
              "0.0439394112453617"
            ],
            "text/markdown": "0.0439394112453617",
            "text/latex": "0.0439394112453617",
            "text/plain": [
              "[1] 0.04393941"
            ]
          },
          "metadata": {}
        }
      ]
    },
    {
      "cell_type": "code",
      "source": [
        "# lower end\n",
        "\n",
        "lower = 45 - (1.96*(5/sqrt(25)))\n",
        "upper = 45 + (1.96*(5/sqrt(25)))\n",
        "lower \n",
        "upper"
      ],
      "metadata": {
        "colab": {
          "base_uri": "https://localhost:8080/",
          "height": 52
        },
        "id": "YVRU-m34nfkH",
        "outputId": "b34398de-4e60-4e2f-de52-63b78babd233"
      },
      "execution_count": null,
      "outputs": [
        {
          "output_type": "display_data",
          "data": {
            "text/html": [
              "43.04"
            ],
            "text/markdown": "43.04",
            "text/latex": "43.04",
            "text/plain": [
              "[1] 43.04"
            ]
          },
          "metadata": {}
        },
        {
          "output_type": "display_data",
          "data": {
            "text/html": [
              "46.96"
            ],
            "text/markdown": "46.96",
            "text/latex": "46.96",
            "text/plain": [
              "[1] 46.96"
            ]
          },
          "metadata": {}
        }
      ]
    },
    {
      "cell_type": "markdown",
      "source": [
        "Question 5:\n",
        "Repeat the previous question, except compute a 99% confidence interval.\n",
        "**Answer: the 99% confidence interval is (42.42, 47.58)**"
      ],
      "metadata": {
        "id": "j3x7Jr3ZpoFY"
      }
    },
    {
      "cell_type": "code",
      "source": [
        "lower2 = 45 - (2.58*(5/sqrt(25)))\n",
        "upper2 = 45 + (2.58*(5/sqrt(25)))\n",
        "lower2\n",
        "upper2"
      ],
      "metadata": {
        "colab": {
          "base_uri": "https://localhost:8080/",
          "height": 52
        },
        "id": "B01ar069qQ-Z",
        "outputId": "59d72ae7-4d05-4e56-e50b-2de3f5d0e912"
      },
      "execution_count": null,
      "outputs": [
        {
          "output_type": "display_data",
          "data": {
            "text/html": [
              "42.42"
            ],
            "text/markdown": "42.42",
            "text/latex": "42.42",
            "text/plain": [
              "[1] 42.42"
            ]
          },
          "metadata": {}
        },
        {
          "output_type": "display_data",
          "data": {
            "text/html": [
              "47.58"
            ],
            "text/markdown": "47.58",
            "text/latex": "47.58",
            "text/plain": [
              "[1] 47.58"
            ]
          },
          "metadata": {}
        }
      ]
    },
    {
      "cell_type": "markdown",
      "source": [
        "Question 6:\n",
        "A manufacturer claims that its light bulbs have an average life span of μ=1200 hours. You randomly test 36 bulbs and find that the average life span is x¯=1150 with a standard deviation of 25. Does a 95% confidence interval suggest that the manufacter’s claim is unreasonable? Assume random sampling from a normal distribution.\n",
        "\n",
        "**Answer: this is quite unreasonable because we are 95% from our sample that life span should fal between (1141.833, 1158.167) and their claim does not**"
      ],
      "metadata": {
        "id": "BAT_u_pzqcHj"
      }
    },
    {
      "cell_type": "code",
      "source": [
        "manu_lower = 1150 - (1.96*(25/sqrt(36)))\n",
        "manu_upper = 1150 + (1.96*(25/sqrt(36)))\n",
        "round(manu_lower, digits = 3)\n",
        "round(manu_upper, digits = 3)"
      ],
      "metadata": {
        "colab": {
          "base_uri": "https://localhost:8080/",
          "height": 52
        },
        "id": "YpxgBtxRq_O6",
        "outputId": "1b42a4d7-987c-4eed-e87e-186de24fd83a"
      },
      "execution_count": null,
      "outputs": [
        {
          "output_type": "display_data",
          "data": {
            "text/html": [
              "1141.833"
            ],
            "text/markdown": "1141.833",
            "text/latex": "1141.833",
            "text/plain": [
              "[1] 1141.833"
            ]
          },
          "metadata": {}
        },
        {
          "output_type": "display_data",
          "data": {
            "text/html": [
              "1158.167"
            ],
            "text/markdown": "1158.167",
            "text/latex": "1158.167",
            "text/plain": [
              "[1] 1158.167"
            ]
          },
          "metadata": {}
        }
      ]
    },
    {
      "cell_type": "markdown",
      "source": [
        "Question 7:\n",
        "If N=10 observations are randomly sampled from a normal distribution with μ=9 and σ=8, what is the mean and standard deviation of the sampling distribution of the mean?"
      ],
      "metadata": {
        "id": "gJCXMdUtsTmk"
      }
    },
    {
      "cell_type": "code",
      "source": [
        "# mean \n",
        "# the mean of the sampling distribution will be the same as the expected mean.\n",
        "q7_mean = 9\n",
        "q7_mean\n",
        "\n",
        "# standard deviation \n",
        "q7_sd = 8 / sqrt(10)\n",
        "round(q7_sd, digits = 3)"
      ],
      "metadata": {
        "id": "YYLNhadVs-pl",
        "colab": {
          "base_uri": "https://localhost:8080/",
          "height": 52
        },
        "outputId": "285298d8-89fd-4752-d984-8a4c45ad22f5"
      },
      "execution_count": null,
      "outputs": [
        {
          "output_type": "display_data",
          "data": {
            "text/html": [
              "9"
            ],
            "text/markdown": "9",
            "text/latex": "9",
            "text/plain": [
              "[1] 9"
            ]
          },
          "metadata": {}
        },
        {
          "output_type": "display_data",
          "data": {
            "text/html": [
              "2.53"
            ],
            "text/markdown": "2.53",
            "text/latex": "2.53",
            "text/plain": [
              "[1] 2.53"
            ]
          },
          "metadata": {}
        }
      ]
    },
    {
      "cell_type": "markdown",
      "source": [
        "Question 8:\n",
        "What is the variance of the sampling distribution from the previous question? Hint: recall how standard deviations are calculated."
      ],
      "metadata": {
        "id": "msvrYoFBzSuP"
      }
    },
    {
      "cell_type": "code",
      "source": [
        "q7_var = q7_sd ^ 2\n",
        "q7_var"
      ],
      "metadata": {
        "colab": {
          "base_uri": "https://localhost:8080/",
          "height": 34
        },
        "id": "qx_6i7dozeUf",
        "outputId": "33efe78c-8f1d-4655-cf52-4ad9d17d8ec6"
      },
      "execution_count": null,
      "outputs": [
        {
          "output_type": "display_data",
          "data": {
            "text/html": [
              "6.4"
            ],
            "text/markdown": "6.4",
            "text/latex": "6.4",
            "text/plain": [
              "[1] 6.4"
            ]
          },
          "metadata": {}
        }
      ]
    },
    {
      "cell_type": "markdown",
      "source": [
        "Question 9:\n",
        "Given that x¯=78, s=25, N=10, and α=0.05, test the hypothesis that H0:μ>80. Assume observations are randomly sampled from a normal distribution.\n",
        "Make sure to report:\n",
        "\n",
        "the test statistic\n",
        "degrees of freedom\n",
        "p-value\n",
        "whether your reject or fail to reject the H0\n"
      ],
      "metadata": {
        "id": "Cd5FArgfzi_K"
      }
    },
    {
      "cell_type": "code",
      "source": [
        "# H0 : μ > 80\n",
        "# H1 : μ < 80\n",
        "\n",
        "q9_H0 = 80\n",
        "q9_mean = 78\n",
        "q9_sd = 25\n",
        "q9_N = 10 \n",
        "q9_alpha = 0.05\n",
        "\n",
        "# Standard error\n",
        "q9_se = q9_sd / sqrt(q9_N)\n",
        "round(q9_se, digits = 3)\n",
        "\n",
        "# test statistic\n",
        "q9_test_stat = (q9_mean - q9_H0 ) / q9_se\n",
        "round(q9_test_stat, digits = 3)\n",
        "\n",
        "# Degrees of freedom\n",
        "q9_df = q9_N - 1\n",
        "q9_df\n",
        "\n",
        "# critical value\n",
        "q9_crit = qt(q9_alpha, df = q9_df)\n",
        "round(q9_crit, digits = 3)\n",
        "\n",
        "# p value\n",
        "q9_pval = pt(q9_test_stat, df = q9_df)\n",
        "round(q9_pval, digits = 3)\n",
        "\n",
        "# since the p value is less then alpha, we reject the null hypothesis.\n"
      ],
      "metadata": {
        "colab": {
          "base_uri": "https://localhost:8080/",
          "height": 104
        },
        "id": "2JpODNYDzslr",
        "outputId": "743f9619-af39-416a-8a39-72deb62c6775"
      },
      "execution_count": null,
      "outputs": [
        {
          "output_type": "display_data",
          "data": {
            "text/html": [
              "7.906"
            ],
            "text/markdown": "7.906",
            "text/latex": "7.906",
            "text/plain": [
              "[1] 7.906"
            ]
          },
          "metadata": {}
        },
        {
          "output_type": "display_data",
          "data": {
            "text/html": [
              "-0.253"
            ],
            "text/markdown": "-0.253",
            "text/latex": "-0.253",
            "text/plain": [
              "[1] -0.253"
            ]
          },
          "metadata": {}
        },
        {
          "output_type": "display_data",
          "data": {
            "text/html": [
              "9"
            ],
            "text/markdown": "9",
            "text/latex": "9",
            "text/plain": [
              "[1] 9"
            ]
          },
          "metadata": {}
        },
        {
          "output_type": "display_data",
          "data": {
            "text/html": [
              "-1.833"
            ],
            "text/markdown": "-1.833",
            "text/latex": "-1.833",
            "text/plain": [
              "[1] -1.833"
            ]
          },
          "metadata": {}
        },
        {
          "output_type": "display_data",
          "data": {
            "text/html": [
              "0.403"
            ],
            "text/markdown": "0.403",
            "text/latex": "0.403",
            "text/plain": [
              "[1] 0.403"
            ]
          },
          "metadata": {}
        }
      ]
    },
    {
      "cell_type": "markdown",
      "source": [
        "Question 10:\n",
        "Repeat the previous question, but test H0:μ=80."
      ],
      "metadata": {
        "id": "xx7ueTHp4ymc"
      }
    },
    {
      "cell_type": "code",
      "source": [
        "# H0 : μ = 80\n",
        "# H1 : μ != 80\n",
        "\n",
        "q10_H0 = 80\n",
        "q10_mean = 78\n",
        "q10_sd = 25\n",
        "q10_N = 10 \n",
        "q10_alpha = 0.05\n",
        "\n",
        "# df\n",
        "q10_df = q10_N - 1\n",
        "\n",
        "# Standard error\n",
        "q10_se = q10_sd / sqrt(q10_N)\n",
        "round(q10_se, digits = 3)\n",
        "\n",
        "# test statistic\n",
        "q10_test_stat = (q10_mean - q10_H0 ) / q10_se\n",
        "round(q10_test_stat, digits = 3)\n",
        "\n",
        "# critical values\n",
        "q10_lt = qt(q10_alpha/2, df= q10_df)\n",
        "round(q10_lt, digits = 3)\n",
        "q10_rt = qt(q10_alpha/2, df= q10_df, lower.tail = FALSE)\n",
        "round(q10_rt, digits = 3)\n",
        "\n",
        "# p value\n",
        "q10_pvalue = pt(q10_test_stat, df = q10_df) * 2\n",
        "q10_pvalue\n",
        "# we fail to reject the null hypothesis\n"
      ],
      "metadata": {
        "colab": {
          "base_uri": "https://localhost:8080/",
          "height": 104
        },
        "id": "SYUhoNHP7SnX",
        "outputId": "4ea5fee5-249f-41d6-f419-89e767a87c92"
      },
      "execution_count": null,
      "outputs": [
        {
          "output_type": "display_data",
          "data": {
            "text/html": [
              "7.906"
            ],
            "text/markdown": "7.906",
            "text/latex": "7.906",
            "text/plain": [
              "[1] 7.906"
            ]
          },
          "metadata": {}
        },
        {
          "output_type": "display_data",
          "data": {
            "text/html": [
              "-0.253"
            ],
            "text/markdown": "-0.253",
            "text/latex": "-0.253",
            "text/plain": [
              "[1] -0.253"
            ]
          },
          "metadata": {}
        },
        {
          "output_type": "display_data",
          "data": {
            "text/html": [
              "-2.262"
            ],
            "text/markdown": "-2.262",
            "text/latex": "-2.262",
            "text/plain": [
              "[1] -2.262"
            ]
          },
          "metadata": {}
        },
        {
          "output_type": "display_data",
          "data": {
            "text/html": [
              "2.262"
            ],
            "text/markdown": "2.262",
            "text/latex": "2.262",
            "text/plain": [
              "[1] 2.262"
            ]
          },
          "metadata": {}
        },
        {
          "output_type": "display_data",
          "data": {
            "text/html": [
              "0.805965601189764"
            ],
            "text/markdown": "0.805965601189764",
            "text/latex": "0.805965601189764",
            "text/plain": [
              "[1] 0.8059656"
            ]
          },
          "metadata": {}
        }
      ]
    },
    {
      "cell_type": "markdown",
      "source": [
        "Question 11:\n",
        "Compute a 95% confidence interval for the previous question. Does it conform to your decision about the hypothesis H0:μ=80?"
      ],
      "metadata": {
        "id": "KoZLKZUg_1WL"
      }
    },
    {
      "cell_type": "code",
      "source": [
        "q11_lower = 78 - (1.96*(25/sqrt(10)))\n",
        "q11_upper = 78 + (1.96*(25/sqrt(10)))\n",
        "round(q11_lower, digits = 3)\n",
        "round(q11_upper, digits = 3)\n",
        "\n",
        "# yes it confirms my decision to fail to reject the null hypothesis.\n",
        "# this is because 80 falls comfortably within the 95% CI"
      ],
      "metadata": {
        "colab": {
          "base_uri": "https://localhost:8080/",
          "height": 52
        },
        "id": "0nsCNryuAkJP",
        "outputId": "ec15de54-e74c-4bab-d9ee-6b5800debb26"
      },
      "execution_count": null,
      "outputs": [
        {
          "output_type": "display_data",
          "data": {
            "text/html": [
              "62.505"
            ],
            "text/markdown": "62.505",
            "text/latex": "62.505",
            "text/plain": [
              "[1] 62.505"
            ]
          },
          "metadata": {}
        },
        {
          "output_type": "display_data",
          "data": {
            "text/html": [
              "93.495"
            ],
            "text/markdown": "93.495",
            "text/latex": "93.495",
            "text/plain": [
              "[1] 93.495"
            ]
          },
          "metadata": {}
        }
      ]
    },
    {
      "cell_type": "markdown",
      "source": [
        "Question 12:\n",
        "On eClass you will find a data set called MaleBody.csv. It contains the physical measurements of 252 males (Homo sapiens). Evaluate whether the percentage body fat using Brozek’s equation (457/Density - 414.2), which is given by the column ‘body.fat’, is normally distrubuted.\n",
        "**Answer, this is not normally distributed**"
      ],
      "metadata": {
        "id": "eaJe0G4gA4Qk"
      }
    },
    {
      "cell_type": "code",
      "source": [
        "maledata = read.csv(\"MaleBody.csv\")\n",
        "bodyfat = maledata$body.fat\n",
        "mean(bodyfat)\n",
        "sd(bodyfat)\n",
        "library(ggplot2)\n",
        "options(repr.plot.width = 7, repr.plot.height = 5)\n",
        "ggplot(maledata, aes(x = bodyfat))+\n",
        "  geom_histogram(color = \"gold\", fill = \"purple\")"
      ],
      "metadata": {
        "colab": {
          "base_uri": "https://localhost:8080/",
          "height": 387
        },
        "id": "SVoUH_w2BM2b",
        "outputId": "2cb78df3-bb49-4ce2-f087-34aa953faeab"
      },
      "execution_count": null,
      "outputs": [
        {
          "output_type": "display_data",
          "data": {
            "text/html": [
              "18.9384920634921"
            ],
            "text/markdown": "18.9384920634921",
            "text/latex": "18.9384920634921",
            "text/plain": [
              "[1] 18.93849"
            ]
          },
          "metadata": {}
        },
        {
          "output_type": "display_data",
          "data": {
            "text/html": [
              "7.75085565948173"
            ],
            "text/markdown": "7.75085565948173",
            "text/latex": "7.75085565948173",
            "text/plain": [
              "[1] 7.750856"
            ]
          },
          "metadata": {}
        },
        {
          "output_type": "stream",
          "name": "stderr",
          "text": [
            "`stat_bin()` using `bins = 30`. Pick better value with `binwidth`.\n",
            "\n"
          ]
        },
        {
          "output_type": "display_data",
          "data": {
            "text/plain": [
              "plot without title"
            ],
            "image/png": "[encoded data removed]"
          },
          "metadata": {
            "image/png": {
              "width": 420,
              "height": 300
            }
          }
        }
      ]
    },
    {
      "cell_type": "markdown",
      "source": [
        "Question 13:\n",
        "On eClass you will find a data set called AllTimeMovies.csv. It contains the top 79 all-time movies as of 2003 by domestic (US) gross receipts. Evaluate whether domestic (US) gross is normally distrubuted.\n",
        "**Answer: the gross data is not normally distributed**"
      ],
      "metadata": {
        "id": "k-R53h-QGFbW"
      }
    },
    {
      "cell_type": "code",
      "source": [
        "moviedata = read.csv(\"AllTimeMovies.csv\")\n",
        "gross = moviedata$Gross\n",
        "\n",
        "library(ggplot2)\n",
        "options(repr.plot.width = 7, repr.plot.height = 5)\n",
        "ggplot(moviedata, aes(x = gross))+\n",
        "  geom_histogram(color = \"gold\", fill = \"purple\")"
      ],
      "metadata": {
        "colab": {
          "base_uri": "https://localhost:8080/",
          "height": 353
        },
        "id": "-xxyOLGzLlBt",
        "outputId": "dabdd0ad-d0d5-4d46-b68e-859c27ce93cd"
      },
      "execution_count": null,
      "outputs": [
        {
          "output_type": "stream",
          "name": "stderr",
          "text": [
            "`stat_bin()` using `bins = 30`. Pick better value with `binwidth`.\n",
            "\n"
          ]
        },
        {
          "output_type": "display_data",
          "data": {
            "text/plain": [
              "plot without title"
            ],
            "image/png": "[encoded data removed]"
          },
          "metadata": {
            "image/png": {
              "width": 420,
              "height": 300
            }
          }
        }
      ]
    }
  ]
}