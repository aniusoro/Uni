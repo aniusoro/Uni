{
  "nbformat": 4,
  "nbformat_minor": 0,
  "metadata": {
    "colab": {
      "provenance": [],
      "authorship_tag": "ABX9TyMcnFxsxEZnXzduHVXGDPnI",
      "include_colab_link": true
    },
    "kernelspec": {
      "name": "ir",
      "display_name": "R"
    },
    "language_info": {
      "name": "R"
    }
  },
  "cells": [
    {
      "cell_type": "markdown",
      "metadata": {
        "id": "view-in-github",
        "colab_type": "text"
      },
      "source": [
        "<a href=\"https://colab.research.google.com/github/aniusoro/Uni/blob/main/Homework11.ipynb\" target=\"_parent\"><img src=\"https://colab.research.google.com/assets/colab-badge.svg\" alt=\"Open In Colab\"/></a>"
      ]
    },
    {
      "cell_type": "markdown",
      "source": [
        "Question 1:"
      ],
      "metadata": {
        "id": "IWi4dAn-iVdo"
      }
    },
    {
      "cell_type": "code",
      "source": [
        "survive <- as.data.frame(apply(Titanic, c(2, 4), sum))\n",
        "survive"
      ],
      "metadata": {
        "colab": {
          "base_uri": "https://localhost:8080/",
          "height": 161
        },
        "id": "vKQjvLJVi-1q",
        "outputId": "e19bd16e-792d-4539-a2c1-7dbdc74a8efc"
      },
      "execution_count": 1,
      "outputs": [
        {
          "output_type": "display_data",
          "data": {
            "text/html": [
              "<table class=\"dataframe\">\n",
              "<caption>A data.frame: 2 × 2</caption>\n",
              "<thead>\n",
              "\t<tr><th></th><th scope=col>No</th><th scope=col>Yes</th></tr>\n",
              "\t<tr><th></th><th scope=col>&lt;dbl&gt;</th><th scope=col>&lt;dbl&gt;</th></tr>\n",
              "</thead>\n",
              "<tbody>\n",
              "\t<tr><th scope=row>Male</th><td>1364</td><td>367</td></tr>\n",
              "\t<tr><th scope=row>Female</th><td> 126</td><td>344</td></tr>\n",
              "</tbody>\n",
              "</table>\n"
            ],
            "text/markdown": "\nA data.frame: 2 × 2\n\n| <!--/--> | No &lt;dbl&gt; | Yes &lt;dbl&gt; |\n|---|---|---|\n| Male | 1364 | 367 |\n| Female |  126 | 344 |\n\n",
            "text/latex": "A data.frame: 2 × 2\n\\begin{tabular}{r|ll}\n  & No & Yes\\\\\n  & <dbl> & <dbl>\\\\\n\\hline\n\tMale & 1364 & 367\\\\\n\tFemale &  126 & 344\\\\\n\\end{tabular}\n",
            "text/plain": [
              "       No   Yes\n",
              "Male   1364 367\n",
              "Female  126 344"
            ]
          },
          "metadata": {}
        }
      ]
    },
    {
      "cell_type": "code",
      "source": [
        "A = c(1171.826, 318.174, 1490)\n",
        "B = c(559.174, 151.827, 711)\n",
        "C = c(1731, 470, 2201)\n",
        "Expected = data.frame(A, B, C)\n",
        "rownames(Expected) = c(\"Male\", \"Female\", \"Total\")\n",
        "colnames(Expected) = c(\"No\", \"Yes\", \"Total\")\n",
        "Expected"
      ],
      "metadata": {
        "colab": {
          "base_uri": "https://localhost:8080/",
          "height": 192
        },
        "id": "oT4J6_2D7eJ3",
        "outputId": "3a2b22bd-ab3f-44c0-a697-f3f537d9195c"
      },
      "execution_count": 2,
      "outputs": [
        {
          "output_type": "display_data",
          "data": {
            "text/html": [
              "<table class=\"dataframe\">\n",
              "<caption>A data.frame: 3 × 3</caption>\n",
              "<thead>\n",
              "\t<tr><th></th><th scope=col>No</th><th scope=col>Yes</th><th scope=col>Total</th></tr>\n",
              "\t<tr><th></th><th scope=col>&lt;dbl&gt;</th><th scope=col>&lt;dbl&gt;</th><th scope=col>&lt;dbl&gt;</th></tr>\n",
              "</thead>\n",
              "<tbody>\n",
              "\t<tr><th scope=row>Male</th><td>1171.826</td><td>559.174</td><td>1731</td></tr>\n",
              "\t<tr><th scope=row>Female</th><td> 318.174</td><td>151.827</td><td> 470</td></tr>\n",
              "\t<tr><th scope=row>Total</th><td>1490.000</td><td>711.000</td><td>2201</td></tr>\n",
              "</tbody>\n",
              "</table>\n"
            ],
            "text/markdown": "\nA data.frame: 3 × 3\n\n| <!--/--> | No &lt;dbl&gt; | Yes &lt;dbl&gt; | Total &lt;dbl&gt; |\n|---|---|---|---|\n| Male | 1171.826 | 559.174 | 1731 |\n| Female |  318.174 | 151.827 |  470 |\n| Total | 1490.000 | 711.000 | 2201 |\n\n",
            "text/latex": "A data.frame: 3 × 3\n\\begin{tabular}{r|lll}\n  & No & Yes & Total\\\\\n  & <dbl> & <dbl> & <dbl>\\\\\n\\hline\n\tMale & 1171.826 & 559.174 & 1731\\\\\n\tFemale &  318.174 & 151.827 &  470\\\\\n\tTotal & 1490.000 & 711.000 & 2201\\\\\n\\end{tabular}\n",
            "text/plain": [
              "       No       Yes     Total\n",
              "Male   1171.826 559.174 1731 \n",
              "Female  318.174 151.827  470 \n",
              "Total  1490.000 711.000 2201 "
            ]
          },
          "metadata": {}
        }
      ]
    },
    {
      "cell_type": "code",
      "source": [
        "Xsquared = (((1364 - 1171.826)^2)/1171.826)+\n",
        "(((126 - 318.174)^2)/318.174) +\n",
        "(((367 - 559.174)^2)/559.174)+\n",
        "(((344 - 151.827)^2)/151.827)\n",
        "round(Xsquared, 3)\n",
        "\n",
        "df = (2-1) * (2 - 1)\n",
        "df\n",
        "\n",
        "pval = pchisq(Xsquared, df = 1, lower.tail = FALSE)\n",
        "pval"
      ],
      "metadata": {
        "colab": {
          "base_uri": "https://localhost:8080/",
          "height": 69
        },
        "id": "ULWTDJPq7_Nt",
        "outputId": "928a79c4-5dcd-4cf1-8f18-aeb70d509107"
      },
      "execution_count": 3,
      "outputs": [
        {
          "output_type": "display_data",
          "data": {
            "text/html": [
              "456.873"
            ],
            "text/markdown": "456.873",
            "text/latex": "456.873",
            "text/plain": [
              "[1] 456.873"
            ]
          },
          "metadata": {}
        },
        {
          "output_type": "display_data",
          "data": {
            "text/html": [
              "1"
            ],
            "text/markdown": "1",
            "text/latex": "1",
            "text/plain": [
              "[1] 1"
            ]
          },
          "metadata": {}
        },
        {
          "output_type": "display_data",
          "data": {
            "text/html": [
              "2.30390793598217e-101"
            ],
            "text/markdown": "2.30390793598217e-101",
            "text/latex": "2.30390793598217e-101",
            "text/plain": [
              "[1] 2.303908e-101"
            ]
          },
          "metadata": {}
        }
      ]
    },
    {
      "cell_type": "markdown",
      "source": [
        "I reject the null hypothesis and there is no evidence of dependence."
      ],
      "metadata": {
        "id": "C-htgM_5Lzsh"
      }
    },
    {
      "cell_type": "markdown",
      "source": [
        "Question 2:"
      ],
      "metadata": {
        "id": "TS6BFpXZ-Dk6"
      }
    },
    {
      "cell_type": "code",
      "source": [
        "# chances of surviving if you are a male\n",
        "q2odd = 367 / 1364\n",
        "round(q2odd, 3)"
      ],
      "metadata": {
        "colab": {
          "base_uri": "https://localhost:8080/",
          "height": 34
        },
        "id": "xIL-c_yEEk-V",
        "outputId": "e83f9d07-e5ba-46ec-899f-1717ab863b53"
      },
      "execution_count": 4,
      "outputs": [
        {
          "output_type": "display_data",
          "data": {
            "text/html": [
              "0.269"
            ],
            "text/markdown": "0.269",
            "text/latex": "0.269",
            "text/plain": [
              "[1] 0.269"
            ]
          },
          "metadata": {}
        }
      ]
    },
    {
      "cell_type": "markdown",
      "source": [
        "Question 3:"
      ],
      "metadata": {
        "id": "iAwDDp13NRmX"
      }
    },
    {
      "cell_type": "code",
      "source": [
        "q3odd = 344 / 126\n",
        "round(q3odd, 3)"
      ],
      "metadata": {
        "colab": {
          "base_uri": "https://localhost:8080/",
          "height": 34
        },
        "id": "nD9u99MhNTFB",
        "outputId": "3bb43fc9-cfec-4e2c-ffcf-439db9b5830d"
      },
      "execution_count": 5,
      "outputs": [
        {
          "output_type": "display_data",
          "data": {
            "text/html": [
              "2.73"
            ],
            "text/markdown": "2.73",
            "text/latex": "2.73",
            "text/plain": [
              "[1] 2.73"
            ]
          },
          "metadata": {}
        }
      ]
    },
    {
      "cell_type": "markdown",
      "source": [
        "Question 4:"
      ],
      "metadata": {
        "id": "pB9s3q_cNZ6C"
      }
    },
    {
      "cell_type": "code",
      "source": [
        "q4oddratio = q2odd / q3odd\n",
        "q4oddratio"
      ],
      "metadata": {
        "colab": {
          "base_uri": "https://localhost:8080/",
          "height": 34
        },
        "id": "1NkY44oEPuYG",
        "outputId": "51b4145b-7703-4e9e-c301-545456a3bc3e"
      },
      "execution_count": 6,
      "outputs": [
        {
          "output_type": "display_data",
          "data": {
            "text/html": [
              "0.0985516265429994"
            ],
            "text/markdown": "0.0985516265429994",
            "text/latex": "0.0985516265429994",
            "text/plain": [
              "[1] 0.09855163"
            ]
          },
          "metadata": {}
        }
      ]
    },
    {
      "cell_type": "markdown",
      "source": [
        "this means that you have a better chance of surviving if you are a male."
      ],
      "metadata": {
        "id": "uGj_5DllQEdn"
      }
    },
    {
      "cell_type": "markdown",
      "source": [
        "Question 5:"
      ],
      "metadata": {
        "id": "_47wRvhNQY7s"
      }
    },
    {
      "cell_type": "code",
      "source": [
        "Gender = c(\"Male\", \"Male\", \"Female\", \"Female\")\n",
        "Survived = c(\"Yes\", \"No\", \"Yes\", \"No\")\n",
        "Percent = c(367/1731*100, 1364/1731*100, 344/470*100, 126/470*100)\n",
        "plotdata = data.frame(Gender, Survived, Percent)\n",
        "plotdata"
      ],
      "metadata": {
        "colab": {
          "base_uri": "https://localhost:8080/",
          "height": 224
        },
        "id": "zsVFMvC1RmMc",
        "outputId": "091706eb-1819-4192-e49f-8839c88b29cc"
      },
      "execution_count": 7,
      "outputs": [
        {
          "output_type": "display_data",
          "data": {
            "text/html": [
              "<table class=\"dataframe\">\n",
              "<caption>A data.frame: 4 × 3</caption>\n",
              "<thead>\n",
              "\t<tr><th scope=col>Gender</th><th scope=col>Survived</th><th scope=col>Percent</th></tr>\n",
              "\t<tr><th scope=col>&lt;chr&gt;</th><th scope=col>&lt;chr&gt;</th><th scope=col>&lt;dbl&gt;</th></tr>\n",
              "</thead>\n",
              "<tbody>\n",
              "\t<tr><td>Male  </td><td>Yes</td><td>21.20162</td></tr>\n",
              "\t<tr><td>Male  </td><td>No </td><td>78.79838</td></tr>\n",
              "\t<tr><td>Female</td><td>Yes</td><td>73.19149</td></tr>\n",
              "\t<tr><td>Female</td><td>No </td><td>26.80851</td></tr>\n",
              "</tbody>\n",
              "</table>\n"
            ],
            "text/markdown": "\nA data.frame: 4 × 3\n\n| Gender &lt;chr&gt; | Survived &lt;chr&gt; | Percent &lt;dbl&gt; |\n|---|---|---|\n| Male   | Yes | 21.20162 |\n| Male   | No  | 78.79838 |\n| Female | Yes | 73.19149 |\n| Female | No  | 26.80851 |\n\n",
            "text/latex": "A data.frame: 4 × 3\n\\begin{tabular}{lll}\n Gender & Survived & Percent\\\\\n <chr> & <chr> & <dbl>\\\\\n\\hline\n\t Male   & Yes & 21.20162\\\\\n\t Male   & No  & 78.79838\\\\\n\t Female & Yes & 73.19149\\\\\n\t Female & No  & 26.80851\\\\\n\\end{tabular}\n",
            "text/plain": [
              "  Gender Survived Percent \n",
              "1 Male   Yes      21.20162\n",
              "2 Male   No       78.79838\n",
              "3 Female Yes      73.19149\n",
              "4 Female No       26.80851"
            ]
          },
          "metadata": {}
        }
      ]
    },
    {
      "cell_type": "code",
      "source": [
        "library(ggplot2)\n",
        "options(repr.plot.width = 7, repr.plot.height = 5)\n",
        "\n",
        "ggplot(plotdata, aes(x = Survived, y = Percent)) +\n",
        "  geom_bar(stat = \"identity\", colour = \"black\", aes(fill = Gender)) +\n",
        "  facet_wrap(~ Gender)"
      ],
      "metadata": {
        "colab": {
          "base_uri": "https://localhost:8080/",
          "height": 317
        },
        "id": "qtRJaREjSom9",
        "outputId": "d992e59f-5ed1-477c-f96a-674832015ee8"
      },
      "execution_count": 8,
      "outputs": [
        {
          "output_type": "display_data",
          "data": {
            "text/plain": [
              "plot without title"
            ],
            "image/png": "[encoded data removed]"
          },
          "metadata": {
            "image/png": {
              "width": 420,
              "height": 300
            }
          }
        }
      ]
    },
    {
      "cell_type": "markdown",
      "source": [
        "Question 6:"
      ],
      "metadata": {
        "id": "0wXePIySTOxr"
      }
    },
    {
      "cell_type": "code",
      "source": [
        "students = as.data.frame.matrix(margin.table(HairEyeColor, c(1, 2)))\n",
        "students = students[, c(1:2)]\n",
        "students\n"
      ],
      "metadata": {
        "colab": {
          "base_uri": "https://localhost:8080/",
          "height": 224
        },
        "id": "szz8M-MUWYme",
        "outputId": "4f966545-89e1-420c-9cac-acfa70453963"
      },
      "execution_count": 9,
      "outputs": [
        {
          "output_type": "display_data",
          "data": {
            "text/html": [
              "<table class=\"dataframe\">\n",
              "<caption>A data.frame: 4 × 2</caption>\n",
              "<thead>\n",
              "\t<tr><th></th><th scope=col>Brown</th><th scope=col>Blue</th></tr>\n",
              "\t<tr><th></th><th scope=col>&lt;dbl&gt;</th><th scope=col>&lt;dbl&gt;</th></tr>\n",
              "</thead>\n",
              "<tbody>\n",
              "\t<tr><th scope=row>Black</th><td> 68</td><td>20</td></tr>\n",
              "\t<tr><th scope=row>Brown</th><td>119</td><td>84</td></tr>\n",
              "\t<tr><th scope=row>Red</th><td> 26</td><td>17</td></tr>\n",
              "\t<tr><th scope=row>Blond</th><td>  7</td><td>94</td></tr>\n",
              "</tbody>\n",
              "</table>\n"
            ],
            "text/markdown": "\nA data.frame: 4 × 2\n\n| <!--/--> | Brown &lt;dbl&gt; | Blue &lt;dbl&gt; |\n|---|---|---|\n| Black |  68 | 20 |\n| Brown | 119 | 84 |\n| Red |  26 | 17 |\n| Blond |   7 | 94 |\n\n",
            "text/latex": "A data.frame: 4 × 2\n\\begin{tabular}{r|ll}\n  & Brown & Blue\\\\\n  & <dbl> & <dbl>\\\\\n\\hline\n\tBlack &  68 & 20\\\\\n\tBrown & 119 & 84\\\\\n\tRed &  26 & 17\\\\\n\tBlond &   7 & 94\\\\\n\\end{tabular}\n",
            "text/plain": [
              "      Brown Blue\n",
              "Black  68   20  \n",
              "Brown 119   84  \n",
              "Red    26   17  \n",
              "Blond   7   94  "
            ]
          },
          "metadata": {}
        }
      ]
    },
    {
      "cell_type": "code",
      "source": [
        "A2 = c(44.506, 102.667, 21.747, 51.080)\n",
        "B2 = c(43.494, 100.333, 21.253, 49.920)\n",
        "studentExpected = data.frame(A2, B2)\n",
        "rownames(studentExpected) = c(\"Black\", \"Brown\", \"Red\", \"Blonde\")\n",
        "colnames(studentExpected) = c(\"Brown\", \"Blue\")\n",
        "studentExpected"
      ],
      "metadata": {
        "colab": {
          "base_uri": "https://localhost:8080/",
          "height": 224
        },
        "id": "LQ6Q-fiCYQAC",
        "outputId": "430a9f16-855a-48cc-bf78-d91a9a47dcc4"
      },
      "execution_count": 10,
      "outputs": [
        {
          "output_type": "display_data",
          "data": {
            "text/html": [
              "<table class=\"dataframe\">\n",
              "<caption>A data.frame: 4 × 2</caption>\n",
              "<thead>\n",
              "\t<tr><th></th><th scope=col>Brown</th><th scope=col>Blue</th></tr>\n",
              "\t<tr><th></th><th scope=col>&lt;dbl&gt;</th><th scope=col>&lt;dbl&gt;</th></tr>\n",
              "</thead>\n",
              "<tbody>\n",
              "\t<tr><th scope=row>Black</th><td> 44.506</td><td> 43.494</td></tr>\n",
              "\t<tr><th scope=row>Brown</th><td>102.667</td><td>100.333</td></tr>\n",
              "\t<tr><th scope=row>Red</th><td> 21.747</td><td> 21.253</td></tr>\n",
              "\t<tr><th scope=row>Blonde</th><td> 51.080</td><td> 49.920</td></tr>\n",
              "</tbody>\n",
              "</table>\n"
            ],
            "text/markdown": "\nA data.frame: 4 × 2\n\n| <!--/--> | Brown &lt;dbl&gt; | Blue &lt;dbl&gt; |\n|---|---|---|\n| Black |  44.506 |  43.494 |\n| Brown | 102.667 | 100.333 |\n| Red |  21.747 |  21.253 |\n| Blonde |  51.080 |  49.920 |\n\n",
            "text/latex": "A data.frame: 4 × 2\n\\begin{tabular}{r|ll}\n  & Brown & Blue\\\\\n  & <dbl> & <dbl>\\\\\n\\hline\n\tBlack &  44.506 &  43.494\\\\\n\tBrown & 102.667 & 100.333\\\\\n\tRed &  21.747 &  21.253\\\\\n\tBlonde &  51.080 &  49.920\\\\\n\\end{tabular}\n",
            "text/plain": [
              "       Brown   Blue   \n",
              "Black   44.506  43.494\n",
              "Brown  102.667 100.333\n",
              "Red     21.747  21.253\n",
              "Blonde  51.080  49.920"
            ]
          },
          "metadata": {}
        }
      ]
    },
    {
      "cell_type": "code",
      "source": [
        "Xsquared2 = (((68 - 44.506)^2)/44.506)+\n",
        "(((20 - 43.494)^2)/43.494) +\n",
        "(((119 - 102.667)^2)/102.667)+\n",
        "(((84 - 100.333)^2)/100.333) + \n",
        "(((26 - 21.747)^2)/21.747) + \n",
        "(((17 - 21.253)^2)/21.253) + \n",
        "(((7 - 51.080)^2)/51.080) + \n",
        "(((94 - 49.920)^2)/49.920)\n",
        "round(Xsquared2, 3)\n",
        "\n",
        "df2 = (4-1) * (2 - 1)\n",
        "df2\n",
        "\n",
        "pval = pchisq(Xsquared2, df = 3, lower.tail = FALSE)\n",
        "pval"
      ],
      "metadata": {
        "colab": {
          "base_uri": "https://localhost:8080/",
          "height": 69
        },
        "id": "EiqHD4Xdbj3i",
        "outputId": "de9e9a68-69ed-4a64-9047-08180892ab26"
      },
      "execution_count": 11,
      "outputs": [
        {
          "output_type": "display_data",
          "data": {
            "text/html": [
              "108.995"
            ],
            "text/markdown": "108.995",
            "text/latex": "108.995",
            "text/plain": [
              "[1] 108.995"
            ]
          },
          "metadata": {}
        },
        {
          "output_type": "display_data",
          "data": {
            "text/html": [
              "3"
            ],
            "text/markdown": "3",
            "text/latex": "3",
            "text/plain": [
              "[1] 3"
            ]
          },
          "metadata": {}
        },
        {
          "output_type": "display_data",
          "data": {
            "text/html": [
              "1.80531215471714e-23"
            ],
            "text/markdown": "1.80531215471714e-23",
            "text/latex": "1.80531215471714e-23",
            "text/plain": [
              "[1] 1.805312e-23"
            ]
          },
          "metadata": {}
        }
      ]
    },
    {
      "cell_type": "markdown",
      "source": [
        "we reject the null, so there is no independence."
      ],
      "metadata": {
        "id": "HDjLLhqZdapt"
      }
    },
    {
      "cell_type": "markdown",
      "source": [
        "Question 7:"
      ],
      "metadata": {
        "id": "G5409RiHfVB_"
      }
    },
    {
      "cell_type": "code",
      "source": [
        "HairBr = c(\"Black\", \"Brown\", \"Red\", \"Blonde\")\n",
        "EyesBr = c(\"Brown\",\"Brown\", \"Brown\", \"Brown\")\n",
        "PercentBr = c(68/220*100, 119/220*100, 26/220*100, 7/220*100)\n",
        "plotdataBr = data.frame(HairBr, EyesBr, PercentBr)\n",
        "plotdataBr\n",
        "\n",
        "HairBl = c(\"Black\", \"Brown\", \"Red\", \"Blonde\")\n",
        "EyesBl = c(\"Blue\",\"Blue\", \"Blue\", \"Blue\")\n",
        "PercentBl = c(20/215*100, 84/215*100, 17/215*100, 94/215*100)\n",
        "plotdataBl = data.frame(HairBl, EyesBl, PercentBl)\n",
        "plotdataBl"
      ],
      "metadata": {
        "colab": {
          "base_uri": "https://localhost:8080/",
          "height": 430
        },
        "id": "4ypB-OwifXxi",
        "outputId": "f21875e8-859c-44bb-93ca-db546881a968"
      },
      "execution_count": 12,
      "outputs": [
        {
          "output_type": "display_data",
          "data": {
            "text/html": [
              "<table class=\"dataframe\">\n",
              "<caption>A data.frame: 4 × 3</caption>\n",
              "<thead>\n",
              "\t<tr><th scope=col>HairBr</th><th scope=col>EyesBr</th><th scope=col>PercentBr</th></tr>\n",
              "\t<tr><th scope=col>&lt;chr&gt;</th><th scope=col>&lt;chr&gt;</th><th scope=col>&lt;dbl&gt;</th></tr>\n",
              "</thead>\n",
              "<tbody>\n",
              "\t<tr><td>Black </td><td>Brown</td><td>30.909091</td></tr>\n",
              "\t<tr><td>Brown </td><td>Brown</td><td>54.090909</td></tr>\n",
              "\t<tr><td>Red   </td><td>Brown</td><td>11.818182</td></tr>\n",
              "\t<tr><td>Blonde</td><td>Brown</td><td> 3.181818</td></tr>\n",
              "</tbody>\n",
              "</table>\n"
            ],
            "text/markdown": "\nA data.frame: 4 × 3\n\n| HairBr &lt;chr&gt; | EyesBr &lt;chr&gt; | PercentBr &lt;dbl&gt; |\n|---|---|---|\n| Black  | Brown | 30.909091 |\n| Brown  | Brown | 54.090909 |\n| Red    | Brown | 11.818182 |\n| Blonde | Brown |  3.181818 |\n\n",
            "text/latex": "A data.frame: 4 × 3\n\\begin{tabular}{lll}\n HairBr & EyesBr & PercentBr\\\\\n <chr> & <chr> & <dbl>\\\\\n\\hline\n\t Black  & Brown & 30.909091\\\\\n\t Brown  & Brown & 54.090909\\\\\n\t Red    & Brown & 11.818182\\\\\n\t Blonde & Brown &  3.181818\\\\\n\\end{tabular}\n",
            "text/plain": [
              "  HairBr EyesBr PercentBr\n",
              "1 Black  Brown  30.909091\n",
              "2 Brown  Brown  54.090909\n",
              "3 Red    Brown  11.818182\n",
              "4 Blonde Brown   3.181818"
            ]
          },
          "metadata": {}
        },
        {
          "output_type": "display_data",
          "data": {
            "text/html": [
              "<table class=\"dataframe\">\n",
              "<caption>A data.frame: 4 × 3</caption>\n",
              "<thead>\n",
              "\t<tr><th scope=col>HairBl</th><th scope=col>EyesBl</th><th scope=col>PercentBl</th></tr>\n",
              "\t<tr><th scope=col>&lt;chr&gt;</th><th scope=col>&lt;chr&gt;</th><th scope=col>&lt;dbl&gt;</th></tr>\n",
              "</thead>\n",
              "<tbody>\n",
              "\t<tr><td>Black </td><td>Blue</td><td> 9.302326</td></tr>\n",
              "\t<tr><td>Brown </td><td>Blue</td><td>39.069767</td></tr>\n",
              "\t<tr><td>Red   </td><td>Blue</td><td> 7.906977</td></tr>\n",
              "\t<tr><td>Blonde</td><td>Blue</td><td>43.720930</td></tr>\n",
              "</tbody>\n",
              "</table>\n"
            ],
            "text/markdown": "\nA data.frame: 4 × 3\n\n| HairBl &lt;chr&gt; | EyesBl &lt;chr&gt; | PercentBl &lt;dbl&gt; |\n|---|---|---|\n| Black  | Blue |  9.302326 |\n| Brown  | Blue | 39.069767 |\n| Red    | Blue |  7.906977 |\n| Blonde | Blue | 43.720930 |\n\n",
            "text/latex": "A data.frame: 4 × 3\n\\begin{tabular}{lll}\n HairBl & EyesBl & PercentBl\\\\\n <chr> & <chr> & <dbl>\\\\\n\\hline\n\t Black  & Blue &  9.302326\\\\\n\t Brown  & Blue & 39.069767\\\\\n\t Red    & Blue &  7.906977\\\\\n\t Blonde & Blue & 43.720930\\\\\n\\end{tabular}\n",
            "text/plain": [
              "  HairBl EyesBl PercentBl\n",
              "1 Black  Blue    9.302326\n",
              "2 Brown  Blue   39.069767\n",
              "3 Red    Blue    7.906977\n",
              "4 Blonde Blue   43.720930"
            ]
          },
          "metadata": {}
        }
      ]
    },
    {
      "cell_type": "code",
      "source": [
        "library(ggplot2)\n",
        "install.packages(\"gridExtra\")\n",
        "library(\"gridExtra\") \n",
        "\n",
        "plotdataBr$HairBr = factor(plotdataBr$HairBr,\n",
        "                        levels = c(\"Black\",\n",
        "                                   \"Brown\",\n",
        "                                   \"Red\",\n",
        "                                   \"Blonde\"))\n",
        "                                \n",
        "plotdataBl$HairBl = factor(plotdataBl$HairBl,\n",
        "                        levels = c(\"Black\",\n",
        "                                   \"Brown\",\n",
        "                                   \"Red\",\n",
        "                                   \"Blonde\"))\n",
        "\n"
      ],
      "metadata": {
        "colab": {
          "base_uri": "https://localhost:8080/"
        },
        "id": "nHQKCzJdhe0M",
        "outputId": "4d3de05b-6b01-4889-8dda-d268087dc807"
      },
      "execution_count": 13,
      "outputs": [
        {
          "output_type": "stream",
          "name": "stderr",
          "text": [
            "Installing package into ‘/usr/local/lib/R/site-library’\n",
            "(as ‘lib’ is unspecified)\n",
            "\n"
          ]
        }
      ]
    },
    {
      "cell_type": "code",
      "source": [
        "options(repr.plot.width = 10, repr.plot.height = 5)\n",
        "\n",
        "plot1 = ggplot(plotdataBr, aes(x = HairBr, y = PercentBr)) +\n",
        "  geom_bar(stat = \"identity\", colour = \"black\", aes(fill = HairBr), show.legend = FALSE) + \n",
        "  scale_fill_manual(values = c(\"black\", \"brown\", \"red\", \"yellow\")) + \n",
        "  facet_wrap(~ EyesBr) + ylim(0,55) + xlab(\"Hair Colour\")\n",
        "\n",
        "plot2 = ggplot(plotdataBl, aes(x = HairBl, y = PercentBl)) +\n",
        "  geom_bar(stat = \"identity\",colour = \"black\", aes(fill = HairBl), show.legend = FALSE) +\n",
        "  scale_fill_manual(values = c(\"black\", \"brown\", \"red\", \"yellow\")) +\n",
        "  facet_wrap(~ EyesBl) + ylim(0,50) + theme(axis.text.y=element_blank(),\n",
        "      axis.ticks.y=element_blank()) + xlab(\"\") + ylab(\"\")\n",
        "\n",
        "grid.arrange(plot1, plot2, ncol=2)"
      ],
      "metadata": {
        "colab": {
          "base_uri": "https://localhost:8080/",
          "height": 317
        },
        "id": "GIq36mkcsIdu",
        "outputId": "36d2b8d4-30d3-4733-e832-0de863595c73"
      },
      "execution_count": 15,
      "outputs": [
        {
          "output_type": "display_data",
          "data": {
            "text/plain": [
              "plot without title"
            ],
            "image/png": "[encoded data removed]"
          },
          "metadata": {
            "image/png": {
              "width": 600,
              "height": 300
            }
          }
        }
      ]
    },
    {
      "cell_type": "markdown",
      "source": [
        "Question 8:"
      ],
      "metadata": {
        "id": "AmBdYHBXjaAt"
      }
    },
    {
      "cell_type": "code",
      "source": [
        "X1 = (((20 - 53.75)^2) /53.75)\n",
        "X2 = (((84 - 53.75)^2) /53.75)\n",
        "X3 = (((17 - 53.75)^2) /53.75)\n",
        "X4 = (((94 - 53.75)^2) / 53.75)\n",
        "Xsquared3 = sum (X1 + X2 + X3 + X4)\n",
        "round(Xsquared3,3)\n",
        "\n",
        "df3 = 4 - 1\n",
        "df3\n",
        "\n",
        "pchisq(Xsquared3, df = 3, lower.tail = FALSE)"
      ],
      "metadata": {
        "colab": {
          "base_uri": "https://localhost:8080/",
          "height": 69
        },
        "id": "qDhj_B91CHA8",
        "outputId": "6aa50723-03d7-483c-9dcc-0405e71c0d60"
      },
      "execution_count": 28,
      "outputs": [
        {
          "output_type": "display_data",
          "data": {
            "text/html": [
              "93.484"
            ],
            "text/markdown": "93.484",
            "text/latex": "93.484",
            "text/plain": [
              "[1] 93.484"
            ]
          },
          "metadata": {}
        },
        {
          "output_type": "display_data",
          "data": {
            "text/html": [
              "3"
            ],
            "text/markdown": "3",
            "text/latex": "3",
            "text/plain": [
              "[1] 3"
            ]
          },
          "metadata": {}
        },
        {
          "output_type": "display_data",
          "data": {
            "text/html": [
              "3.90975288076255e-20"
            ],
            "text/markdown": "3.90975288076255e-20",
            "text/latex": "3.90975288076255e-20",
            "text/plain": [
              "[1] 3.909753e-20"
            ]
          },
          "metadata": {}
        }
      ]
    },
    {
      "cell_type": "code",
      "source": [],
      "metadata": {
        "id": "xlwmd1i1TwXb"
      },
      "execution_count": null,
      "outputs": []
    }
  ]
}