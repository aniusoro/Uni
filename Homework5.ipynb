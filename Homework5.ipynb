{
  "nbformat": 4,
  "nbformat_minor": 0,
  "metadata": {
    "colab": {
      "provenance": [],
      "collapsed_sections": [],
      "authorship_tag": "ABX9TyP3JwqtdmhUHSFCQxiD+5vA",
      "include_colab_link": true
    },
    "kernelspec": {
      "name": "ir",
      "display_name": "R"
    },
    "language_info": {
      "name": "R"
    }
  },
  "cells": [
    {
      "cell_type": "markdown",
      "metadata": {
        "id": "view-in-github",
        "colab_type": "text"
      },
      "source": [
        "<a href=\"https://colab.research.google.com/github/aniusoro/Uni/blob/main/Homework5.ipynb\" target=\"_parent\"><img src=\"https://colab.research.google.com/assets/colab-badge.svg\" alt=\"Open In Colab\"/></a>"
      ]
    },
    {
      "cell_type": "markdown",
      "source": [
        "Question 1:\n",
        "In the previous homework assignment, you were asked to test and plot the following results:\n",
        "x¯1=15\n",
        "x¯2=12\n",
        "s21=8\n",
        "s22=24\n",
        "n1=20\n",
        "n2=10\n",
        "The plot revealed a potentially serious problem. Conduct a test that is designed to solve this specific problem. Do the conclusions change from what you got when you ran a classic t-test? Specify the name of the test you ran, its test statistic, degrees of freedom, p-value, and 95% confidence interval."
      ],
      "metadata": {
        "id": "0G3PnpMFTY4t"
      }
    },
    {
      "cell_type": "code",
      "source": [
        "x1 = 15\n",
        "x2 = 12\n",
        "v1 = 8\n",
        "v2 = 24\n",
        "n1 = 20\n",
        "n2 = 10\n",
        "\n",
        "# I am running a welsch test\n",
        "\n",
        "# SE\n",
        "q1_se = sqrt(v1/n1 + v2/n2)\n",
        "round(q1_se, 3)\n",
        "\n",
        "# test stat\n",
        "q1_T = (x1-x2) / q1_se\n",
        "round(q1_T, 3)\n",
        "\n",
        "# df\n",
        "q1 = v1/n1\n",
        "q2 = v2/n2\n",
        "\n",
        "q1_df = (q1 + q2)^2 / ((q1^2 / (n1 - 1)) + (q2^2 / (n2 - 1)))\n",
        "round(q1_df, 3)\n",
        "\n",
        "# pval\n",
        "q1_pval = pt(q1_T, df=q1_df, lower.tail = FALSE) * 2\n",
        "round(q1_pval, 3)\n",
        "\n",
        "#tcrit\n",
        "q1_tcrit = qt(0.05/2, df = q1_df, lower.tail = FALSE)\n",
        "round(q1_tcrit, 3)\n",
        "\n",
        "# CI\n",
        "q1_lower = (x1-x2) - (q1_tcrit * q1_se)\n",
        "q1_upper = (x1-x2) + (q1_tcrit * q1_se)\n",
        "round(q1_lower, 3)\n",
        "round(q1_upper, 3)"
      ],
      "metadata": {
        "colab": {
          "base_uri": "https://localhost:8080/",
          "height": 139
        },
        "id": "PbWRs44ZVTXD",
        "outputId": "3427a4b7-9f51-4205-c514-33b4d7a13100"
      },
      "execution_count": null,
      "outputs": [
        {
          "output_type": "display_data",
          "data": {
            "text/html": [
              "1.673"
            ],
            "text/markdown": "1.673",
            "text/latex": "1.673",
            "text/plain": [
              "[1] 1.673"
            ]
          },
          "metadata": {}
        },
        {
          "output_type": "display_data",
          "data": {
            "text/html": [
              "1.793"
            ],
            "text/markdown": "1.793",
            "text/latex": "1.793",
            "text/plain": [
              "[1] 1.793"
            ]
          },
          "metadata": {}
        },
        {
          "output_type": "display_data",
          "data": {
            "text/html": [
              "12.091"
            ],
            "text/markdown": "12.091",
            "text/latex": "12.091",
            "text/plain": [
              "[1] 12.091"
            ]
          },
          "metadata": {}
        },
        {
          "output_type": "display_data",
          "data": {
            "text/html": [
              "0.098"
            ],
            "text/markdown": "0.098",
            "text/latex": "0.098",
            "text/plain": [
              "[1] 0.098"
            ]
          },
          "metadata": {}
        },
        {
          "output_type": "display_data",
          "data": {
            "text/html": [
              "2.177"
            ],
            "text/markdown": "2.177",
            "text/latex": "2.177",
            "text/plain": [
              "[1] 2.177"
            ]
          },
          "metadata": {}
        },
        {
          "output_type": "display_data",
          "data": {
            "text/html": [
              "-0.643"
            ],
            "text/markdown": "-0.643",
            "text/latex": "-0.643",
            "text/plain": [
              "[1] -0.643"
            ]
          },
          "metadata": {}
        },
        {
          "output_type": "display_data",
          "data": {
            "text/html": [
              "6.643"
            ],
            "text/markdown": "6.643",
            "text/latex": "6.643",
            "text/plain": [
              "[1] 6.643"
            ]
          },
          "metadata": {}
        }
      ]
    },
    {
      "cell_type": "markdown",
      "source": [
        "Question 2: \n",
        "Responses to stress are governed, in part, by the hypothalamus. Imagine you have two groups of participants. The first shows signs of heart disease and the other does not. You want to determine whether the groups differ (in any direction) in terms of the weight of the hypothalamus.\n",
        "Use the data “heartDisease.csv” on eClass to determine whether the groups differ based on a classic t-test. Use α=.05. Use of t.test() is not permitted.\n",
        "Make sure to report:\n",
        "- the test statistic\n",
        "- degrees of freedom\n",
        "- p-value\n",
        "- Confidence Interval\n",
        "- whether your reject or fail to reject the H0"
      ],
      "metadata": {
        "id": "OlxwuCDi4MLg"
      }
    },
    {
      "cell_type": "code",
      "source": [
        "heartData = read.csv(\"heartDisease.csv\")\n",
        "no_disease = heartData[c(1:11),c(2)]\n",
        "yes_disease = heartData[c(12:26),c(2)]\n",
        "\n",
        "#N\n",
        "N_no = length(no_disease)\n",
        "N_yes = length(yes_disease)\n",
        "\n",
        "# Means\n",
        "M_diff = mean(yes_disease) - mean(no_disease)\n",
        "\n",
        "#SD\n",
        "sd_no = sd(no_disease)\n",
        "sd_yes = sd(yes_disease)\n",
        "\n",
        "#Var \n",
        "no_var = sd_no ^ 2\n",
        "yes_var = sd_yes ^ 2\n",
        "\n",
        "# Pooled variance\n",
        "disease_pvar = ((N_yes - 1)*yes_var + (N_no - 1)*no_var) / (N_yes + N_no - 2)\n",
        "\n",
        "# Pooled Standard Error\n",
        "disease_pSE =  sqrt(disease_pvar / N_yes + disease_pvar / N_no)\n",
        "\n",
        "# test statistic\n",
        "disease_t = ((M_diff) - 0) / disease_pSE\n",
        "round(disease_t, 3)\n",
        "\n",
        "# df\n",
        "disease_df = N_yes + N_no - 2\n",
        "disease_df\n",
        "\n",
        "# pvalue\n",
        "disease_pval = pt(disease_t, df = disease_df, lower.tail = FALSE) * 2\n",
        "round(disease_pval, 3)\n",
        "\n",
        "# alpha\n",
        "disease_alpha = 0.05\n",
        "\n",
        "# t_crit\n",
        "disease_tcrit = qt(disease_alpha/2, df = disease_df, lower.tail = FALSE)\n",
        "\n",
        "# 95% CI\n",
        "disease_lower = (M_diff) - disease_tcrit * disease_pSE\n",
        "disease_upper = (M_diff) + disease_tcrit * disease_pSE\n",
        "round(disease_lower, 3)\n",
        "round(disease_upper, 3)\n",
        "\n",
        "# we fail to reject the null hypothesis"
      ],
      "metadata": {
        "colab": {
          "base_uri": "https://localhost:8080/",
          "height": 104
        },
        "id": "ixolu3E481lE",
        "outputId": "85696daa-8a86-4b77-d789-dc8f8fdd0b9b"
      },
      "execution_count": null,
      "outputs": [
        {
          "output_type": "display_data",
          "data": {
            "text/html": [
              "1.845"
            ],
            "text/markdown": "1.845",
            "text/latex": "1.845",
            "text/plain": [
              "[1] 1.845"
            ]
          },
          "metadata": {}
        },
        {
          "output_type": "display_data",
          "data": {
            "text/html": [
              "24"
            ],
            "text/markdown": "24",
            "text/latex": "24",
            "text/plain": [
              "[1] 24"
            ]
          },
          "metadata": {}
        },
        {
          "output_type": "display_data",
          "data": {
            "text/html": [
              "0.077"
            ],
            "text/markdown": "0.077",
            "text/latex": "0.077",
            "text/plain": [
              "[1] 0.077"
            ]
          },
          "metadata": {}
        },
        {
          "output_type": "display_data",
          "data": {
            "text/html": [
              "-0.428"
            ],
            "text/markdown": "-0.428",
            "text/latex": "-0.428",
            "text/plain": [
              "[1] -0.428"
            ]
          },
          "metadata": {}
        },
        {
          "output_type": "display_data",
          "data": {
            "text/html": [
              "7.634"
            ],
            "text/markdown": "7.634",
            "text/latex": "7.634",
            "text/plain": [
              "[1] 7.634"
            ]
          },
          "metadata": {}
        }
      ]
    },
    {
      "cell_type": "markdown",
      "source": [
        "Question 3:\n",
        "Compute an appropriate measure of effect size for the previous question. Use of cohen.d() is not permitted."
      ],
      "metadata": {
        "id": "gsHCYqd0HgC6"
      }
    },
    {
      "cell_type": "code",
      "source": [
        "D = M_diff / sqrt(disease_pvar)\n",
        "round(D, 3)\n",
        "# this is a large effect"
      ],
      "metadata": {
        "colab": {
          "base_uri": "https://localhost:8080/",
          "height": 34
        },
        "id": "8zAj5nviPPID",
        "outputId": "96653b0b-d06c-4105-b3c7-ad3917399e29"
      },
      "execution_count": null,
      "outputs": [
        {
          "output_type": "display_data",
          "data": {
            "text/html": [
              "0.732"
            ],
            "text/markdown": "0.732",
            "text/latex": "0.732",
            "text/plain": [
              "[1] 0.732"
            ]
          },
          "metadata": {}
        }
      ]
    },
    {
      "cell_type": "markdown",
      "source": [
        "Question 4:\n",
        "Repeat question 2, but use a Welch’s t-test. Use of t.test() is not permitted."
      ],
      "metadata": {
        "id": "z8YlavRHPsY-"
      }
    },
    {
      "cell_type": "code",
      "source": [
        "# test statistic\n",
        "q4_tstat = (M_diff - 0)/ sqrt((yes_var / N_yes) + (no_var / N_no))\n",
        "round(q4_tstat, 3)\n",
        "\n",
        "#q_yes\n",
        "q_yes = yes_var / N_yes\n",
        "\n",
        "#q_no\n",
        "q_no = no_var / N_no\n",
        "\n",
        "x = (q_yes + q_no) ^ 2\n",
        "y = (q_yes^2/(N_yes - 1)) + (q_no^2/(N_no - 1))\n",
        "\n",
        "# df\n",
        "q4_df = x / y\n",
        "round(q4_df, 3)\n",
        "\n",
        "# pval\n",
        "q4_pval = pt(q4_tstat, df = q4_df, lower.tail = FALSE) * 2\n",
        "round(q4_pval, 3)\n",
        "\n",
        "# tcrit\n",
        "q4_tcrit = qt(p = 0.05/2, df = q4_df)\n",
        "q4_tcrit\n",
        "\n",
        "# 95% CI\n",
        "q4_upper = M_diff - (q4_tcrit * (sqrt((yes_var / N_yes) + (no_var / N_no))))\n",
        "q4_lower = M_diff + (q4_tcrit * (sqrt((yes_var / N_yes) + (no_var / N_no))))\n",
        "round(q4_upper, 3)\n",
        "round(q4_lower, 3)"
      ],
      "metadata": {
        "colab": {
          "base_uri": "https://localhost:8080/",
          "height": 121
        },
        "id": "Uj2geONpQfJR",
        "outputId": "385ad721-cf47-4c4e-9dc0-0c61eb41a826"
      },
      "execution_count": null,
      "outputs": [
        {
          "output_type": "display_data",
          "data": {
            "text/html": [
              "1.955"
            ],
            "text/markdown": "1.955",
            "text/latex": "1.955",
            "text/plain": [
              "[1] 1.955"
            ]
          },
          "metadata": {}
        },
        {
          "output_type": "display_data",
          "data": {
            "text/html": [
              "23.931"
            ],
            "text/markdown": "23.931",
            "text/latex": "23.931",
            "text/plain": [
              "[1] 23.931"
            ]
          },
          "metadata": {}
        },
        {
          "output_type": "display_data",
          "data": {
            "text/html": [
              "0.062"
            ],
            "text/markdown": "0.062",
            "text/latex": "0.062",
            "text/plain": [
              "[1] 0.062"
            ]
          },
          "metadata": {}
        },
        {
          "output_type": "display_data",
          "data": {
            "text/html": [
              "-2.06421393211077"
            ],
            "text/markdown": "-2.06421393211077",
            "text/latex": "-2.06421393211077",
            "text/plain": [
              "[1] -2.064214"
            ]
          },
          "metadata": {}
        },
        {
          "output_type": "display_data",
          "data": {
            "text/html": [
              "7.408"
            ],
            "text/markdown": "7.408",
            "text/latex": "7.408",
            "text/plain": [
              "[1] 7.408"
            ]
          },
          "metadata": {}
        },
        {
          "output_type": "display_data",
          "data": {
            "text/html": [
              "-0.202"
            ],
            "text/markdown": "-0.202",
            "text/latex": "-0.202",
            "text/plain": [
              "[1] -0.202"
            ]
          },
          "metadata": {}
        }
      ]
    },
    {
      "cell_type": "markdown",
      "source": [
        "Question 5:\n",
        "Plot the group means with their respective confidence intervals for the heartDisease.csv data.\n"
      ],
      "metadata": {
        "id": "cT0nKnWKSSVc"
      }
    },
    {
      "cell_type": "code",
      "source": [
        "install.packages(\"Hmisc\")\n",
        "\n",
        "library(ggplot2)\n",
        "options(repr.plot.width = 5, repr.plot.height = 5)\n",
        "ggplot(heartData, aes(x = disease, y = hypoWeight)) +\n",
        "  geom_bar(stat = \"summary\", fun = mean, \n",
        "            aes(fill = disease), colour = \"red\") +\n",
        "  ylab(\"Hypothalamus Weight\") +\n",
        "  geom_errorbar(stat = \"summary\", \n",
        "                fun.data = \"mean_cl_normal\", \n",
        "                fun.args = list(conf.int = 0.95),\n",
        "                width = 0.25) +\n",
        "  theme(legend.position = \"none\") +\n",
        "  ggtitle(\"95% CIs\")"
      ],
      "metadata": {
        "colab": {
          "base_uri": "https://localhost:8080/",
          "height": 371
        },
        "id": "Bw48n7m2hgNj",
        "outputId": "7f4a2b23-114c-43f2-fa37-f16fc5f3f4f6"
      },
      "execution_count": null,
      "outputs": [
        {
          "output_type": "stream",
          "name": "stderr",
          "text": [
            "Installing package into ‘/usr/local/lib/R/site-library’\n",
            "(as ‘lib’ is unspecified)\n",
            "\n"
          ]
        },
        {
          "output_type": "display_data",
          "data": {
            "text/plain": [
              "plot without title"
            ],
            "image/png": "[encoded data removed]"
          },
          "metadata": {
            "image/png": {
              "width": 300,
              "height": 300
            }
          }
        }
      ]
    },
    {
      "cell_type": "markdown",
      "source": [
        "Question 6:\n",
        "Repeat question 2 using 20% Trimmed Means. Do you get a different conclusion? Use of yuen() is not permitted."
      ],
      "metadata": {
        "id": "asmEO0utx1q2"
      }
    },
    {
      "cell_type": "code",
      "source": [
        "install.packages(\"WRS2\")\n",
        "library(WRS2)\n",
        "winvar_no = winvar(no_disease, tr = 0.2)\n",
        "winvar_yes = winvar(yes_disease, tr = 0.2)\n",
        "\n"
      ],
      "metadata": {
        "colab": {
          "base_uri": "https://localhost:8080/"
        },
        "id": "TWyD4g-R08qs",
        "outputId": "9fdff5ba-d2c4-40d2-efaf-13024dd26c94"
      },
      "execution_count": null,
      "outputs": [
        {
          "output_type": "stream",
          "name": "stderr",
          "text": [
            "Installing package into ‘/usr/local/lib/R/site-library’\n",
            "(as ‘lib’ is unspecified)\n",
            "\n"
          ]
        }
      ]
    },
    {
      "cell_type": "code",
      "source": [
        "# trimmed means\n",
        "trimmed_no = mean(no_disease, tr = 0.2)\n",
        "trimmed_yes = mean(yes_disease, tr = 0.2)\n",
        "trimmed_no\n",
        "trimmed_yes\n",
        "\n",
        "# Hj\n",
        "h_no = N_no - 2 * floor(0.2*N_no)\n",
        "h_yes = N_yes - 2 * floor(0.2*N_yes)\n",
        "h_no\n",
        "h_yes\n",
        "\n",
        "#Dj \n",
        "\n",
        "d_no = ((N_no - 1) * winvar_no) / (h_no*(h_no - 1))\n",
        "d_yes = ((N_yes - 1) * winvar_yes) / (h_yes*(h_yes - 1))\n",
        "round(d_no, 3)\n",
        "round(d_yes, 3)\n",
        "\n",
        "# Test statistic\n",
        "q6_Test = ((trimmed_yes - trimmed_no)) / sqrt(d_yes + d_no)\n",
        "round(q6_Test, 3)\n",
        "\n",
        "# Degrees of Freedom\n",
        "a = (d_yes + d_no)^2\n",
        "b = (d_yes^2 / (h_yes - 1))\n",
        "c = (d_no^2 / (h_no - 1))\n",
        "\n",
        "q6_df =  a/(b+c) \n",
        "q6_df\n",
        "\n",
        "# tcrit\n",
        "q6_tcrit = qt(p = 0.05/2, df = q6_df)\n",
        "q6_tcrit\n",
        "\n",
        "# pval\n",
        "q6_pval = pt(q6_Test, df = q6_df, lower.tail = FALSE) * 2\n",
        "round(q6_pval, 3)\n",
        "\n",
        "# CI\n",
        "q6_lower = (trimmed_yes - trimmed_no) + q6_tcrit * (sqrt(d_yes + d_no))\n",
        "q6_upper = (trimmed_yes - trimmed_no) - q6_tcrit * (sqrt(d_yes + d_no))\n",
        "round(q6_lower, 3)\n",
        "round(q6_upper, 3)\n",
        "\n",
        "# we get the same conclusion\n"
      ],
      "metadata": {
        "colab": {
          "base_uri": "https://localhost:8080/",
          "height": 225
        },
        "id": "UCln660L3V0F",
        "outputId": "76edda10-f21a-430d-dd06-54fefc298493"
      },
      "execution_count": null,
      "outputs": [
        {
          "output_type": "display_data",
          "data": {
            "text/html": [
              "11.8571428571429"
            ],
            "text/markdown": "11.8571428571429",
            "text/latex": "11.8571428571429",
            "text/plain": [
              "[1] 11.85714"
            ]
          },
          "metadata": {}
        },
        {
          "output_type": "display_data",
          "data": {
            "text/html": [
              "14.0333333333333"
            ],
            "text/markdown": "14.0333333333333",
            "text/latex": "14.0333333333333",
            "text/plain": [
              "[1] 14.03333"
            ]
          },
          "metadata": {}
        },
        {
          "output_type": "display_data",
          "data": {
            "text/html": [
              "7"
            ],
            "text/markdown": "7",
            "text/latex": "7",
            "text/plain": [
              "[1] 7"
            ]
          },
          "metadata": {}
        },
        {
          "output_type": "display_data",
          "data": {
            "text/html": [
              "9"
            ],
            "text/markdown": "9",
            "text/latex": "9",
            "text/plain": [
              "[1] 9"
            ]
          },
          "metadata": {}
        },
        {
          "output_type": "display_data",
          "data": {
            "text/html": [
              "1.677"
            ],
            "text/markdown": "1.677",
            "text/latex": "1.677",
            "text/plain": [
              "[1] 1.677"
            ]
          },
          "metadata": {}
        },
        {
          "output_type": "display_data",
          "data": {
            "text/html": [
              "0.552"
            ],
            "text/markdown": "0.552",
            "text/latex": "0.552",
            "text/plain": [
              "[1] 0.552"
            ]
          },
          "metadata": {}
        },
        {
          "output_type": "display_data",
          "data": {
            "text/html": [
              "1.458"
            ],
            "text/markdown": "1.458",
            "text/latex": "1.458",
            "text/plain": [
              "[1] 1.458"
            ]
          },
          "metadata": {}
        },
        {
          "output_type": "display_data",
          "data": {
            "text/html": [
              "9.80291603547089"
            ],
            "text/markdown": "9.80291603547089",
            "text/latex": "9.80291603547089",
            "text/plain": [
              "[1] 9.802916"
            ]
          },
          "metadata": {}
        },
        {
          "output_type": "display_data",
          "data": {
            "text/html": [
              "-2.23422582146704"
            ],
            "text/markdown": "-2.23422582146704",
            "text/latex": "-2.23422582146704",
            "text/plain": [
              "[1] -2.234226"
            ]
          },
          "metadata": {}
        },
        {
          "output_type": "display_data",
          "data": {
            "text/html": [
              "0.176"
            ],
            "text/markdown": "0.176",
            "text/latex": "0.176",
            "text/plain": [
              "[1] 0.176"
            ]
          },
          "metadata": {}
        },
        {
          "output_type": "display_data",
          "data": {
            "text/html": [
              "-1.159"
            ],
            "text/markdown": "-1.159",
            "text/latex": "-1.159",
            "text/plain": [
              "[1] -1.159"
            ]
          },
          "metadata": {}
        },
        {
          "output_type": "display_data",
          "data": {
            "text/html": [
              "5.512"
            ],
            "text/markdown": "5.512",
            "text/latex": "5.512",
            "text/plain": [
              "[1] 5.512"
            ]
          },
          "metadata": {}
        }
      ]
    },
    {
      "cell_type": "markdown",
      "source": [
        "Question 7:\n",
        "Plot the group trimmed means with their respective confidence intervals for the heartDisease.csv data using 20% trimming.\n"
      ],
      "metadata": {
        "id": "vSBpWscI6RQP"
      }
    },
    {
      "cell_type": "code",
      "source": [
        "Group = c(no_disease, yes_disease)\n",
        "M1 = mean(heartData$hypoWeight[1:11], tr = 0.2)\n",
        "M2 = mean(heartData$hypoWeight[12:26], tr = 0.2)\n",
        "Mean = c(M1, M2)\n",
        "se = sqrt(d_no + d_yes)\n",
        "tcrit = q6_tcrit\n",
        "MOE = se * tcrit\n",
        "\n",
        "plotData = data.frame(Group, Mean, MOE)\n",
        "print(plotData)"
      ],
      "metadata": {
        "colab": {
          "base_uri": "https://localhost:8080/"
        },
        "id": "Y9SZvVjJO09f",
        "outputId": "72d47eec-7662-42e9-ce4c-03ca7916fa8c"
      },
      "execution_count": null,
      "outputs": [
        {
          "output_type": "stream",
          "name": "stdout",
          "text": [
            "   Group     Mean       MOE\n",
            "1   11.1 11.85714 -3.335663\n",
            "2   12.2 14.03333 -3.335663\n",
            "3   15.5 11.85714 -3.335663\n",
            "4   17.6 14.03333 -3.335663\n",
            "5   13.0 11.85714 -3.335663\n",
            "6    7.5 14.03333 -3.335663\n",
            "7    9.1 11.85714 -3.335663\n",
            "8    6.6 14.03333 -3.335663\n",
            "9    9.5 11.85714 -3.335663\n",
            "10  18.0 14.03333 -3.335663\n",
            "11  12.6 11.85714 -3.335663\n",
            "12  18.2 14.03333 -3.335663\n",
            "13  14.1 11.85714 -3.335663\n",
            "14  13.8 14.03333 -3.335663\n",
            "15  12.1 11.85714 -3.335663\n",
            "16  34.1 14.03333 -3.335663\n",
            "17  12.0 11.85714 -3.335663\n",
            "18  14.1 14.03333 -3.335663\n",
            "19  14.5 11.85714 -3.335663\n",
            "20  12.6 14.03333 -3.335663\n",
            "21  12.5 11.85714 -3.335663\n",
            "22  19.8 14.03333 -3.335663\n",
            "23  13.4 11.85714 -3.335663\n",
            "24  16.8 14.03333 -3.335663\n",
            "25  14.1 11.85714 -3.335663\n",
            "26  12.9 14.03333 -3.335663\n"
          ]
        }
      ]
    },
    {
      "cell_type": "markdown",
      "source": [
        "Question 8:\n",
        "Generate Q-Q plots to assess the normality assumption of the heartDisease.csv data. Should a classic t-test be run on this data?"
      ],
      "metadata": {
        "id": "tE0y9nnvJ9XF"
      }
    },
    {
      "cell_type": "code",
      "source": [
        "ggplot(heartData, aes(sample = hypoWeight)) + stat_qq(aes(colour = disease), size = 3) +\n",
        "      stat_qq_line() +\n",
        "      facet_wrap(~disease) + scale_fill_brewer(palette=\"Dark2\")"
      ],
      "metadata": {
        "colab": {
          "base_uri": "https://localhost:8080/",
          "height": 317
        },
        "id": "iewOHFFWKJk8",
        "outputId": "70694075-c3dc-4983-cba7-095c7b2e3f7f"
      },
      "execution_count": null,
      "outputs": [
        {
          "output_type": "display_data",
          "data": {
            "text/plain": [
              "plot without title"
            ],
            "image/png": "[encoded data removed]"
          },
          "metadata": {
            "image/png": {
              "width": 300,
              "height": 300
            }
          }
        }
      ]
    },
    {
      "cell_type": "markdown",
      "source": [
        "Question 9:\n",
        "Generate boxplots to assess the homogeneity of variance assumption of the heartDisease.csv data. Is that assumption reasonable? Make the boxplots pretty colours.\n"
      ],
      "metadata": {
        "id": "2MhGARhXK2x3"
      }
    },
    {
      "cell_type": "code",
      "source": [
        "ggplot(heartData,aes(x = disease, y = hypoWeight)) +\n",
        "      geom_boxplot(aes(fill = disease), color = \"#0D5184\", fill = '#FFE874')"
      ],
      "metadata": {
        "colab": {
          "base_uri": "https://localhost:8080/",
          "height": 317
        },
        "id": "kHHhdqRpLR1s",
        "outputId": "66fbabfd-c22a-4bcc-b177-7219bdf2f5ab"
      },
      "execution_count": null,
      "outputs": [
        {
          "output_type": "display_data",
          "data": {
            "text/plain": [
              "plot without title"
            ],
            "image/png": "[encoded data removed]"
          },
          "metadata": {
            "image/png": {
              "width": 300,
              "height": 300
            }
          }
        }
      ]
    },
    {
      "cell_type": "code",
      "source": [],
      "metadata": {
        "id": "u7WId_rfMFe5"
      },
      "execution_count": null,
      "outputs": []
    }
  ]
}