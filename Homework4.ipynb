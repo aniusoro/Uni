{
  "nbformat": 4,
  "nbformat_minor": 0,
  "metadata": {
    "colab": {
      "provenance": [],
      "collapsed_sections": [],
      "authorship_tag": "ABX9TyNxkBYj2kCRxbTZOQFPF3Gs",
      "include_colab_link": true
    },
    "kernelspec": {
      "name": "ir",
      "display_name": "R"
    },
    "language_info": {
      "name": "R"
    }
  },
  "cells": [
    {
      "cell_type": "markdown",
      "metadata": {
        "id": "view-in-github",
        "colab_type": "text"
      },
      "source": [
        "<a href=\"https://colab.research.google.com/github/aniusoro/Uni/blob/main/Homework4.ipynb\" target=\"_parent\"><img src=\"https://colab.research.google.com/assets/colab-badge.svg\" alt=\"Open In Colab\"/></a>"
      ]
    },
    {
      "cell_type": "markdown",
      "source": [
        "Question 1:\n",
        "Using the data set AllTimeMovies.csv, calculate a 95% confidence interval on the trimmed mean. Use 20% trimming.\n"
      ],
      "metadata": {
        "id": "P5ElY_95rOOc"
      }
    },
    {
      "cell_type": "code",
      "source": [
        "install.packages(\"WRS2\")\n",
        "library(WRS2)\n"
      ],
      "metadata": {
        "colab": {
          "base_uri": "https://localhost:8080/"
        },
        "id": "jieqyMW0schO",
        "outputId": "92bfb016-1a3e-4642-c52a-4c9c9b206c25"
      },
      "execution_count": null,
      "outputs": [
        {
          "output_type": "stream",
          "name": "stderr",
          "text": [
            "Installing package into ‘/usr/local/lib/R/site-library’\n",
            "(as ‘lib’ is unspecified)\n",
            "\n",
            "also installing the dependencies ‘Rcpp’, ‘mvtnorm’, ‘reshape’, ‘plyr’, ‘mc2d’\n",
            "\n",
            "\n"
          ]
        }
      ]
    },
    {
      "cell_type": "code",
      "source": [
        "moviedata = read.csv(\"AllTimeMovies.csv\")\n",
        "gross = moviedata$Gross\n",
        "\n",
        "# N\n",
        "q1_N = length(gross)\n",
        "q1_N\n",
        "\n",
        "# The trim\n",
        "q1_G = 0.2\n",
        "\n",
        "# The mean\n",
        "q1_M = mean(gross, tr=0.2)\n",
        "round(q1_M, 3)\n",
        "\n",
        "# The winsorized SD\n",
        "q1_sd = sqrt(winvar(gross, tr=0.2))\n",
        "\n",
        "# Standard Error of the Trimmed mean\n",
        "q1_SE = q1_sd / ((1 - 2*q1_G) * sqrt(q1_N))\n",
        "round(q1_SE,3)\n",
        "\n",
        "#Degrees of Freedom\n",
        "q1_h = q1_N - 2 * floor(q1_G * q1_N)\n",
        "\n",
        "q1_df = q1_h - 1\n",
        "\n",
        "q1_alpha = 0.05\n",
        "q1_t_crit = qt(q1_alpha/2, df = q1_df, lower.tail = FALSE)\n",
        "\n",
        "q1_lower = q1_M - q1_t_crit * q1_SE\n",
        "q1_upper = q1_M + q1_t_crit * q1_SE\n",
        "\n",
        "round(q1_lower, 3)\n",
        "round(q1_upper, 3)"
      ],
      "metadata": {
        "colab": {
          "base_uri": "https://localhost:8080/",
          "height": 104
        },
        "id": "OzniPVmkr2Hd",
        "outputId": "b1f70a37-b169-4d9a-de82-d100d3cf60f5"
      },
      "execution_count": null,
      "outputs": [
        {
          "output_type": "display_data",
          "data": {
            "text/html": [
              "79"
            ],
            "text/markdown": "79",
            "text/latex": "79",
            "text/plain": [
              "[1] 79"
            ]
          },
          "metadata": {}
        },
        {
          "output_type": "display_data",
          "data": {
            "text/html": [
              "220.061"
            ],
            "text/markdown": "220.061",
            "text/latex": "220.061",
            "text/plain": [
              "[1] 220.061"
            ]
          },
          "metadata": {}
        },
        {
          "output_type": "display_data",
          "data": {
            "text/html": [
              "7.819"
            ],
            "text/markdown": "7.819",
            "text/latex": "7.819",
            "text/plain": [
              "[1] 7.819"
            ]
          },
          "metadata": {}
        },
        {
          "output_type": "display_data",
          "data": {
            "text/html": [
              "204.341"
            ],
            "text/markdown": "204.341",
            "text/latex": "204.341",
            "text/plain": [
              "[1] 204.341"
            ]
          },
          "metadata": {}
        },
        {
          "output_type": "display_data",
          "data": {
            "text/html": [
              "235.782"
            ],
            "text/markdown": "235.782",
            "text/latex": "235.782",
            "text/plain": [
              "[1] 235.782"
            ]
          },
          "metadata": {}
        }
      ]
    },
    {
      "cell_type": "markdown",
      "source": [
        "Question 2: Using the movie data from the previous question, test H0:μ=240.19 using 20% trimmed means.\n",
        "Make sure to report:\n",
        "the test statistic\n",
        "degrees of freedom\n",
        "p-value\n",
        "whether your reject or fail to reject the H0"
      ],
      "metadata": {
        "id": "WaGZ9-4qup2Y"
      }
    },
    {
      "cell_type": "code",
      "source": [
        "# H0 : μ = 240.19\n",
        "# H1 : μ != 240.19\n",
        "\n",
        "q2_alpha = 0.05\n",
        "\n",
        "# Test Statistic\n",
        "q2_test_stat = (q1_M - 240.19) / q1_SE\n",
        "round(q2_test_stat, 3)\n",
        "\n",
        "# Degrees of freedom\n",
        "q1_df\n",
        "\n",
        "# p-value\n",
        "q2_p = pt(q2_test_stat, df = q1_df, lower.tail = FALSE) \n",
        "round((q2_p * 2), 3)\n",
        "\n",
        "# we fail to reject the null hypothesis because p value is greater than .05"
      ],
      "metadata": {
        "colab": {
          "base_uri": "https://localhost:8080/",
          "height": 69
        },
        "id": "jbJBZ-S---n5",
        "outputId": "360e4aff-a000-4458-8570-23a441de385b"
      },
      "execution_count": null,
      "outputs": [
        {
          "output_type": "display_data",
          "data": {
            "text/html": [
              "-2.574"
            ],
            "text/markdown": "-2.574",
            "text/latex": "-2.574",
            "text/plain": [
              "[1] -2.574"
            ]
          },
          "metadata": {}
        },
        {
          "output_type": "display_data",
          "data": {
            "text/html": [
              "48"
            ],
            "text/markdown": "48",
            "text/latex": "48",
            "text/plain": [
              "[1] 48"
            ]
          },
          "metadata": {}
        },
        {
          "output_type": "display_data",
          "data": {
            "text/html": [
              "0.993"
            ],
            "text/markdown": "0.993",
            "text/latex": "0.993",
            "text/plain": [
              "[1] 0.993"
            ]
          },
          "metadata": {}
        }
      ]
    },
    {
      "cell_type": "markdown",
      "source": [
        "Question 3: \n",
        "A company claims that on average, when exposed to its toothpaste, 45% of all bacteria related to gingivitis is killed. You run 10 tests and find that the percentages of bacteria killed among these tests are\n",
        "38,44,62,72,43,40,43,42,39,41\n",
        "Assuming the data comes from a normally distributed population, test the hypothesis that the average percentage is 45 with α=0.01. Calculate both a p-value and a confidence interval. Assume observations are randomly sampled from a normal distribution. Use of t.test() is not permitted.\n",
        "Make sure to report:\n",
        "the test statistic\n",
        "degrees of freedom\n",
        "Confidence interval\n",
        "p-value\n",
        "whether your reject or fail to reject the H0"
      ],
      "metadata": {
        "id": "PkWTCUM2GEzA"
      }
    },
    {
      "cell_type": "code",
      "source": [
        "# H0 : μ = 45\n",
        "# H1 : μ != 45\n",
        "\n",
        "q3_data = c(38, 44, 62, 72, 43, 40, 43, 42, 39, 41)\n",
        "\n",
        "q3_N = length(q3_data)\n",
        "\n",
        "# The mean\n",
        "q3_M = mean(q3_data)\n",
        "\n",
        "# the standard deviation\n",
        "q3_sd = sd(q3_data)\n",
        "\n",
        "# standard error\n",
        "q3_se = q3_sd / sqrt(q3_N)\n",
        "\n",
        "q3_alpha = 0.01\n",
        "\n",
        "# df\n",
        "q3_df = q3_N - 1\n",
        "q3_df\n",
        "\n",
        "# critical values\n",
        "q3_lt = qt(q3_alpha/2, q3_df)\n",
        "q3_rt = qt(q3_alpha/2, q3_df, lower.tail = FALSE)\n",
        "\n",
        "# Test statistic\n",
        "q3_ts = (q3_M - 45) / q3_se\n",
        "round(q3_ts, 3)\n",
        "\n",
        "# p value\n",
        "x = pt(q3_ts, df = q3_df, lower.tail= FALSE)\n",
        "q3_p = x * 2\n",
        "round(q3_p, 3)\n",
        "\n",
        "# Confidence interval\n",
        "round((q3_M + (q3_lt * q3_se)), 3)\n",
        "round((q3_M + (q3_rt * q3_se)), 3) \n",
        "\n",
        "# we fail to reject the null hypothesis because q3_p > a3_alpha\n",
        "\n"
      ],
      "metadata": {
        "colab": {
          "base_uri": "https://localhost:8080/",
          "height": 104
        },
        "id": "Uzcw7q7qPVWu",
        "outputId": "af80886c-ab52-441d-ce77-8bb5c8499241"
      },
      "execution_count": null,
      "outputs": [
        {
          "output_type": "display_data",
          "data": {
            "text/html": [
              "9"
            ],
            "text/markdown": "9",
            "text/latex": "9",
            "text/plain": [
              "[1] 9"
            ]
          },
          "metadata": {}
        },
        {
          "output_type": "display_data",
          "data": {
            "text/html": [
              "0.393"
            ],
            "text/markdown": "0.393",
            "text/latex": "0.393",
            "text/plain": [
              "[1] 0.393"
            ]
          },
          "metadata": {}
        },
        {
          "output_type": "display_data",
          "data": {
            "text/html": [
              "0.703"
            ],
            "text/markdown": "0.703",
            "text/latex": "0.703",
            "text/plain": [
              "[1] 0.703"
            ]
          },
          "metadata": {}
        },
        {
          "output_type": "display_data",
          "data": {
            "text/html": [
              "34.822"
            ],
            "text/markdown": "34.822",
            "text/latex": "34.822",
            "text/plain": [
              "[1] 34.822"
            ]
          },
          "metadata": {}
        },
        {
          "output_type": "display_data",
          "data": {
            "text/html": [
              "57.978"
            ],
            "text/markdown": "57.978",
            "text/latex": "57.978",
            "text/plain": [
              "[1] 57.978"
            ]
          },
          "metadata": {}
        }
      ]
    },
    {
      "cell_type": "markdown",
      "source": [
        "Question 4:\n",
        "Use the R function t.test() to calculate the previous question’s answer. Hint, R’s help() documentation is useful here."
      ],
      "metadata": {
        "id": "hJ1y-sgFRnrj"
      }
    },
    {
      "cell_type": "code",
      "source": [
        "t.test(q3_data, mu = 45, alternative = c(\"two.sided\"), conf.level = 0.99)"
      ],
      "metadata": {
        "colab": {
          "base_uri": "https://localhost:8080/",
          "height": 213
        },
        "id": "RqlhkPonYKJF",
        "outputId": "6c462413-0a5a-4465-ece2-5a05f1c07ee1"
      },
      "execution_count": null,
      "outputs": [
        {
          "output_type": "display_data",
          "data": {
            "text/plain": [
              "\n",
              "\tOne Sample t-test\n",
              "\n",
              "data:  q3_data\n",
              "t = 0.39295, df = 9, p-value = 0.7035\n",
              "alternative hypothesis: true mean is not equal to 45\n",
              "99 percent confidence interval:\n",
              " 34.82158 57.97842\n",
              "sample estimates:\n",
              "mean of x \n",
              "     46.4 \n"
            ]
          },
          "metadata": {}
        }
      ]
    },
    {
      "cell_type": "markdown",
      "source": [
        "Question 5:\n",
        "Recalculate the p-value for the previous question with the hypothesis H0:μ>45. Do not use t.test()."
      ],
      "metadata": {
        "id": "QGi_-gjDiyWL"
      }
    },
    {
      "cell_type": "code",
      "source": [
        "# H0 : μ > 45\n",
        "# H1 : μ < 45\n",
        "\n",
        "q5_crit = qt(q3_alpha, q3_df)\n",
        "\n",
        "# p value\n",
        "q5_pval = pt(q3_ts, df = q3_df)\n",
        "round(q5_pval, 3)"
      ],
      "metadata": {
        "colab": {
          "base_uri": "https://localhost:8080/",
          "height": 34
        },
        "id": "U7wwsszpjvYV",
        "outputId": "8051d25b-4ece-47fc-8537-0bfb378a3f93"
      },
      "execution_count": null,
      "outputs": [
        {
          "output_type": "display_data",
          "data": {
            "text/html": [
              "0.648"
            ],
            "text/markdown": "0.648",
            "text/latex": "0.648",
            "text/plain": [
              "[1] 0.648"
            ]
          },
          "metadata": {}
        }
      ]
    },
    {
      "cell_type": "markdown",
      "source": [
        "Question 6:\n",
        "Use the R function t.test() to calculate the previous question’s result (i.e., use it to test H0:μ>45)."
      ],
      "metadata": {
        "id": "QoPbOzsrlZBs"
      }
    },
    {
      "cell_type": "code",
      "source": [
        "t.test(q3_data, mu = 45, alternative = c(\"less\"), conf.level = 0.99)"
      ],
      "metadata": {
        "colab": {
          "base_uri": "https://localhost:8080/",
          "height": 213
        },
        "id": "2xbMSBdykfEX",
        "outputId": "2027eaca-6cfd-4d2b-9b28-c428fddcea2a"
      },
      "execution_count": null,
      "outputs": [
        {
          "output_type": "display_data",
          "data": {
            "text/plain": [
              "\n",
              "\tOne Sample t-test\n",
              "\n",
              "data:  q3_data\n",
              "t = 0.39295, df = 9, p-value = 0.6483\n",
              "alternative hypothesis: true mean is less than 45\n",
              "99 percent confidence interval:\n",
              "     -Inf 56.45214\n",
              "sample estimates:\n",
              "mean of x \n",
              "     46.4 \n"
            ]
          },
          "metadata": {}
        }
      ]
    },
    {
      "cell_type": "markdown",
      "source": [
        "Question 7:\n",
        "Some archaeologists theorize that ancient Egyptians interbred with several different immigrant populations over thousands of years. To see if there is any indication of changes in body structure that might have resulted, they measured 30 skulls of male Egyptians dated from 4000 B.C.E. and 30 others dated from 200 B.C.E.\n",
        "Thomson and Randall-Maciver, Ancient Races of the Thebaid, Oxford: Oxford University Press, 1905.\n",
        "The data can be found in “SkullsPartial.csv”. The column “mb” measures the maximal breadth of the skull.\n",
        "The data is in the “tidy format”. Find a way to calculate the means for both epochs, as well as the difference between the means. No special libraries are required for this. You have already learned methods which can help you here."
      ],
      "metadata": {
        "id": "CTb3-y-wmGw5"
      }
    },
    {
      "cell_type": "code",
      "source": [
        "skulldata = read.csv(\"SkullsPartial.csv\")\n",
        "bc_4000 = skulldata[c(1:30),c(2)]\n",
        "bc_200 = skulldata[c(31:60),c(2)]\n",
        "\n",
        "# the mean from 4000 B.C.E.\n",
        "round(mean(bc_4000), 3)\n",
        "\n",
        "# the mean from 200 B.C.E.\n",
        "round(mean(bc_200), 3)\n",
        "\n",
        "# the difference between the means\n",
        "q7_diff = mean(bc_200) - mean(bc_4000)\n",
        "round(q7_diff, 3)"
      ],
      "metadata": {
        "id": "ldi728dvmabG",
        "colab": {
          "base_uri": "https://localhost:8080/",
          "height": 69
        },
        "outputId": "1c011104-f67d-4209-c68f-7891e1326bdb"
      },
      "execution_count": null,
      "outputs": [
        {
          "output_type": "display_data",
          "data": {
            "text/html": [
              "131.367"
            ],
            "text/markdown": "131.367",
            "text/latex": "131.367",
            "text/plain": [
              "[1] 131.367"
            ]
          },
          "metadata": {}
        },
        {
          "output_type": "display_data",
          "data": {
            "text/html": [
              "135.5"
            ],
            "text/markdown": "135.5",
            "text/latex": "135.5",
            "text/plain": [
              "[1] 135.5"
            ]
          },
          "metadata": {}
        },
        {
          "output_type": "display_data",
          "data": {
            "text/html": [
              "4.133"
            ],
            "text/markdown": "4.133",
            "text/latex": "4.133",
            "text/plain": [
              "[1] 4.133"
            ]
          },
          "metadata": {}
        }
      ]
    },
    {
      "cell_type": "markdown",
      "source": [
        "Question 8:\n",
        "Using the skull data, calculate the standard deviation and variance for both epochs. You are allowed to use sd() and var()."
      ],
      "metadata": {
        "id": "r67sAEUlgcU4"
      }
    },
    {
      "cell_type": "code",
      "source": [
        "# sd for 4000 B.C.E.\n",
        "q8_sd4000 = sd(bc_4000)\n",
        "round(q8_sd4000, 3)\n",
        "\n",
        "# variance for 4000 B.C.E.\n",
        "round(q8_sd4000 ^ 2, 3)\n",
        "\n",
        "# sd for 200 B.C.E.\n",
        "q8_sd200 = sd(bc_200)\n",
        "round(q8_sd200, 3)\n",
        "\n",
        "# variance for 200 B.C.E.\n",
        "round(q8_sd200 ^ 2, 3)"
      ],
      "metadata": {
        "colab": {
          "base_uri": "https://localhost:8080/",
          "height": 86
        },
        "id": "LxSoi7A7lObm",
        "outputId": "4e2066ca-3c01-454b-edbd-0981635a6ce4"
      },
      "execution_count": null,
      "outputs": [
        {
          "output_type": "display_data",
          "data": {
            "text/html": [
              "5.129"
            ],
            "text/markdown": "5.129",
            "text/latex": "5.129",
            "text/plain": [
              "[1] 5.129"
            ]
          },
          "metadata": {}
        },
        {
          "output_type": "display_data",
          "data": {
            "text/html": [
              "26.309"
            ],
            "text/markdown": "26.309",
            "text/latex": "26.309",
            "text/plain": [
              "[1] 26.309"
            ]
          },
          "metadata": {}
        },
        {
          "output_type": "display_data",
          "data": {
            "text/html": [
              "3.919"
            ],
            "text/markdown": "3.919",
            "text/latex": "3.919",
            "text/plain": [
              "[1] 3.919"
            ]
          },
          "metadata": {}
        },
        {
          "output_type": "display_data",
          "data": {
            "text/html": [
              "15.362"
            ],
            "text/markdown": "15.362",
            "text/latex": "15.362",
            "text/plain": [
              "[1] 15.362"
            ]
          },
          "metadata": {}
        }
      ]
    },
    {
      "cell_type": "markdown",
      "source": [
        "Question 9:\n",
        "Using the skull data, calculate the pooled variance.\n"
      ],
      "metadata": {
        "id": "dos4IjDplywE"
      }
    },
    {
      "cell_type": "code",
      "source": [
        "# Pooled Variance\n",
        "bc_4000N = length(bc_4000)\n",
        "bc_200N = length(bc_200)\n",
        "\n",
        "# variances\n",
        "bc_4000_var = q8_sd4000 ^ 2\n",
        "bc_200_var = q8_sd200 ^ 2\n",
        "\n",
        "q9_pooled_var = ((bc_4000N - 1)*bc_4000_var + (bc_200N - 1)*bc_200_var) / (bc_4000N + bc_200N - 2)\n",
        "round(q9_pooled_var, 3)"
      ],
      "metadata": {
        "colab": {
          "base_uri": "https://localhost:8080/",
          "height": 34
        },
        "id": "3bdcBMIEmani",
        "outputId": "66f2e69c-7c10-4715-f9a1-4a81dcc9e8ed"
      },
      "execution_count": null,
      "outputs": [
        {
          "output_type": "display_data",
          "data": {
            "text/html": [
              "20.836"
            ],
            "text/markdown": "20.836",
            "text/latex": "20.836",
            "text/plain": [
              "[1] 20.836"
            ]
          },
          "metadata": {}
        }
      ]
    },
    {
      "cell_type": "markdown",
      "source": [
        "Question 10:\n",
        "Using the skull data, calculate the pooled standard error."
      ],
      "metadata": {
        "id": "SCJrbBl1ndYd"
      }
    },
    {
      "cell_type": "code",
      "source": [
        "#Pooled Standard Error\n",
        "q10_pooled_SE = sqrt(q9_pooled_var / bc_4000N + q9_pooled_var / bc_200N)\n",
        "round(q10_pooled_SE, 3)"
      ],
      "metadata": {
        "colab": {
          "base_uri": "https://localhost:8080/",
          "height": 34
        },
        "id": "DY4CnHcKoQIO",
        "outputId": "2929e6b9-4675-4111-87db-da7a6e8516c3"
      },
      "execution_count": null,
      "outputs": [
        {
          "output_type": "display_data",
          "data": {
            "text/html": [
              "1.179"
            ],
            "text/markdown": "1.179",
            "text/latex": "1.179",
            "text/plain": [
              "[1] 1.179"
            ]
          },
          "metadata": {}
        }
      ]
    },
    {
      "cell_type": "markdown",
      "source": [
        "Question 11:\n",
        "Calculate a 95% Confidence interval for the difference in mean skull breadth between these two epochs. Use of t.test() is not permitted."
      ],
      "metadata": {
        "id": "-mZt5ZvvpoQ7"
      }
    },
    {
      "cell_type": "code",
      "source": [
        "# df\n",
        "q11_df = (bc_4000N - 1) + (bc_200N - 1)\n",
        "\n",
        "# Critical T\n",
        "q11_alpha = 0.05\n",
        "\n",
        "q11_tcrit = qt(q11_alpha/2, df = q11_df, lower.tail = FALSE)\n",
        "\n",
        "# 95% CI on the difference\n",
        "q11_lower = (q7_diff) - q11_tcrit * q10_pooled_SE\n",
        "q11_upper = (q7_diff) + q11_tcrit * q10_pooled_SE\n",
        "round(q11_lower, 3)\n",
        "round(q11_upper, 3)"
      ],
      "metadata": {
        "colab": {
          "base_uri": "https://localhost:8080/",
          "height": 52
        },
        "id": "IjFkCuTvp7wl",
        "outputId": "711d0236-b728-4df3-ae9e-2d38d2466d6a"
      },
      "execution_count": null,
      "outputs": [
        {
          "output_type": "display_data",
          "data": {
            "text/html": [
              "1.774"
            ],
            "text/markdown": "1.774",
            "text/latex": "1.774",
            "text/plain": [
              "[1] 1.774"
            ]
          },
          "metadata": {}
        },
        {
          "output_type": "display_data",
          "data": {
            "text/html": [
              "6.493"
            ],
            "text/markdown": "6.493",
            "text/latex": "6.493",
            "text/plain": [
              "[1] 6.493"
            ]
          },
          "metadata": {}
        }
      ]
    },
    {
      "cell_type": "markdown",
      "source": [
        "Question 12:\n",
        "Test H0:μ4000−μ200=0. Use of t.test() is not permitted.\n",
        "Make sure to report:\n",
        "the test statistic\n",
        "p-value\n",
        "whether your reject or fail to reject the H0"
      ],
      "metadata": {
        "id": "-jDp_3TYq8Sf"
      }
    },
    {
      "cell_type": "code",
      "source": [
        "# H0 : μ4000 - μ200 = 0\n",
        "# H0 : μ4000 - μ200 != 0\n",
        "\n",
        "# alpha\n",
        "q12_alpha = 0.05\n",
        "\n",
        "# test statistic\n",
        "q12_tstat <- (q7_diff - 0) / q10_pooled_SE\n",
        "round(q12_tstat , 3)\n",
        "\n",
        "# p value\n",
        "q12_pval = pt(q12_tstat, df = q11_df, lower.tail = FALSE) * 2\n",
        "round(q12_pval, 3)\n",
        "\n",
        "# 0 doesn't fall within accepted range, hence we reject the null hypothesis"
      ],
      "metadata": {
        "colab": {
          "base_uri": "https://localhost:8080/",
          "height": 52
        },
        "id": "A2f9WCeJsC--",
        "outputId": "c313e3d6-04b2-4562-b611-3db5a007ccf7"
      },
      "execution_count": null,
      "outputs": [
        {
          "output_type": "display_data",
          "data": {
            "text/html": [
              "3.507"
            ],
            "text/markdown": "3.507",
            "text/latex": "3.507",
            "text/plain": [
              "[1] 3.507"
            ]
          },
          "metadata": {}
        },
        {
          "output_type": "display_data",
          "data": {
            "text/html": [
              "0.001"
            ],
            "text/markdown": "0.001",
            "text/latex": "0.001",
            "text/plain": [
              "[1] 0.001"
            ]
          },
          "metadata": {}
        }
      ]
    },
    {
      "cell_type": "markdown",
      "source": [
        "Question 13:\n",
        "A researcher states their null hypothesis about the skull data as H0:μ4000−μ200<0. Given that, answer the following questions:\n",
        "\n",
        "\n",
        "a. Is this a one or two-tailed hypothesis?\n",
        "\n",
        "\n",
        "b. How would you interpret this hypothesis in plain English?\n",
        "\n",
        "\n",
        "c. In which tail is the critical region located for this hypothesis?\n",
        "\n",
        "\n",
        "d. Given what you said in “c.”, which direction should a p-value be calculated? Left to right OR right to left?\n",
        "\n",
        "\n",
        "e. There are three other mathematically equivalent ways of writing the null hypothesis here. What are they? Your answer should take the form of “H0:________”.\n"
      ],
      "metadata": {
        "id": "PDvXczq0uBE3"
      }
    },
    {
      "cell_type": "markdown",
      "source": [
        "**13a. this is a one tailed hypothesis.**"
      ],
      "metadata": {
        "id": "2YDQAoJqurbD"
      }
    },
    {
      "cell_type": "markdown",
      "source": [
        "**13b. the researcher is hypothesizing that the difference in the means is a less than 0 (i.e. a negative number)**"
      ],
      "metadata": {
        "id": "XNeCWBtSuzed"
      }
    },
    {
      "cell_type": "markdown",
      "source": [
        "**13c. the critical region lies on the right tail.**"
      ],
      "metadata": {
        "id": "k1vZeCQavIGW"
      }
    },
    {
      "cell_type": "markdown",
      "source": [
        "**13d. it will be calculated from right to left**"
      ],
      "metadata": {
        "id": "VR2fDInqvb7O"
      }
    },
    {
      "cell_type": "markdown",
      "source": [
        "**13e. μ4000 < μ200, μ200 > 4000, μ4000 ≥ μ200,**\n"
      ],
      "metadata": {
        "id": "nsSx0pOGvjnj"
      }
    },
    {
      "cell_type": "markdown",
      "source": [
        "Question 14:\n",
        "Test H0:μ4000−μ200<0 or an equivalent version of it. Report the p-value and whether you reject the null hypothesis. Use of t.test() is not permitted."
      ],
      "metadata": {
        "id": "zsDCYCVlwxdS"
      }
    },
    {
      "cell_type": "code",
      "source": [
        "# p value\n",
        "q12_pval = pt(q12_tstat, df = q11_df, lower.tail= FALSE) \n",
        "round(q12_pval, 3)\n",
        "\n",
        "# we reject the null hypothesis"
      ],
      "metadata": {
        "colab": {
          "base_uri": "https://localhost:8080/",
          "height": 34
        },
        "id": "5_neTqyb_c0O",
        "outputId": "9889c368-ae48-41a0-9bd6-f4713876ceed"
      },
      "execution_count": null,
      "outputs": [
        {
          "output_type": "display_data",
          "data": {
            "text/html": [
              "0"
            ],
            "text/markdown": "0",
            "text/latex": "0",
            "text/plain": [
              "[1] 0"
            ]
          },
          "metadata": {}
        }
      ]
    },
    {
      "cell_type": "markdown",
      "source": [
        "Question 15:\n",
        "Create a barplot of the means for the Skull data. Give each bar 95% confidence intervals as the errorbars. Have the y-axis go from 100 to 140."
      ],
      "metadata": {
        "id": "7zQPy16axE3z"
      }
    },
    {
      "cell_type": "code",
      "source": [
        "# bar plot\n",
        "library(ggplot2)\n",
        "options(repr.plot.width = 7, repr.plot.height = 5)\n",
        "\n",
        "ggplot(skulldata, aes(x = epoch, y= mb)) +\n",
        "      geom_bar(stat = \"summary\", fun = mean,\n",
        "            aes(fill = epoch), colour = \"black\") + xlab(\"EPOCHS\") +\n",
        "  ylab(\"Maximal breadth (MB)\") +\n",
        "     scale_fill_manual(values = c(\"gold\", \"red\")) +\n",
        "  geom_errorbar(stat = \"summary\",\n",
        "                fun.data = \"mean_cl_normal\",\n",
        "                fun.args = list(conf.int = 0.95),\n",
        "                width = 0.25) +\n",
        "  theme(legend.position = \"none\")+\n",
        "  ggtitle(\"95% CIs\")+\n",
        "  coord_cartesian(ylim = c(100, 140))"
      ],
      "metadata": {
        "colab": {
          "base_uri": "https://localhost:8080/",
          "height": 371
        },
        "id": "oXIx2cKBxWu8",
        "outputId": "30cee2a8-b297-4387-aa8f-4a584a4c0fbb"
      },
      "execution_count": null,
      "outputs": [
        {
          "output_type": "stream",
          "name": "stderr",
          "text": [
            "Warning message:\n",
            "“Computation failed in `stat_summary()`:\n",
            "”\n"
          ]
        },
        {
          "output_type": "display_data",
          "data": {
            "text/plain": [
              "plot without title"
            ],
            "image/png": "[encoded data removed]"
          },
          "metadata": {
            "image/png": {
              "width": 420,
              "height": 300
            }
          }
        }
      ]
    },
    {
      "cell_type": "markdown",
      "source": [
        "Question 16:\n",
        "Suppose that the summary stats of your groundbreaking research are . . .\n",
        "x¯1=15\n",
        "x¯2=12\n",
        "s21=8\n",
        "s22=24\n",
        "n1=20\n",
        "n2=10\n",
        "Verify that s2p=13.14, T=2.14, and that a classic T-test rejects the null hypothesis of equal means with α=0.05. Compute a confidence interval for this hypothesis test.\n"
      ],
      "metadata": {
        "id": "GyBAdY6a0reH"
      }
    },
    {
      "cell_type": "code",
      "source": [
        "# s2P verification\n",
        "q16_s2p = ((10 - 1)*24 + (20 - 1)*8) / (20 + 10 - 2)\n",
        "round(q16_s2p, 2)\n",
        "\n",
        "# standard error\n",
        "q16_SE = sqrt(q16_s2p / 10 + q16_s2p /20)\n",
        "\n",
        "\n",
        "# T verification\n",
        "q16_T = ((15 - 12) - 0) / q16_SE\n",
        "round(q16_T, 2)\n",
        "\n",
        "# q16 df\n",
        "q16_df = (10 - 1) + (20 - 1)\n",
        "\n",
        "# critical value\n",
        "q16_tcrit = qt(0.05/2, df = q16_df)\n",
        "\n",
        "# p value\n",
        "q16_pval = pt(q16_T, df = q16_df, lower.tail = FALSE) * 2\n",
        "\n",
        "\n",
        "# CI\n",
        "round(((15 - 12) + q16_tcrit * q16_SE), 3)\n",
        "round(((15 - 12) - q16_tcrit * q16_SE), 3)\n",
        "\n",
        "\n"
      ],
      "metadata": {
        "colab": {
          "base_uri": "https://localhost:8080/",
          "height": 86
        },
        "id": "YLkwLvVQ4vGX",
        "outputId": "d8c709f4-6c25-450a-bea1-351061edf44e"
      },
      "execution_count": null,
      "outputs": [
        {
          "output_type": "display_data",
          "data": {
            "text/html": [
              "13.14"
            ],
            "text/markdown": "13.14",
            "text/latex": "13.14",
            "text/plain": [
              "[1] 13.14"
            ]
          },
          "metadata": {}
        },
        {
          "output_type": "display_data",
          "data": {
            "text/html": [
              "2.14"
            ],
            "text/markdown": "2.14",
            "text/latex": "2.14",
            "text/plain": [
              "[1] 2.14"
            ]
          },
          "metadata": {}
        },
        {
          "output_type": "display_data",
          "data": {
            "text/html": [
              "0.124"
            ],
            "text/markdown": "0.124",
            "text/latex": "0.124",
            "text/plain": [
              "[1] 0.124"
            ]
          },
          "metadata": {}
        },
        {
          "output_type": "display_data",
          "data": {
            "text/html": [
              "5.876"
            ],
            "text/markdown": "5.876",
            "text/latex": "5.876",
            "text/plain": [
              "[1] 5.876"
            ]
          },
          "metadata": {}
        }
      ]
    },
    {
      "cell_type": "markdown",
      "source": [
        "Question 17:\n",
        "Using the information from the previous question, plot the group means and their respective confidence intervals. Label the two groups A and B.\n",
        "Hint: To do this you will need to make a dataframe with the relevant values. Note that we don’t have the original data so you can’t use ggplot’s automated method or the ddply() function. You must build your own dataframe with the info you have (it’s actually a lot easier than it sounds - think about the early lectures we did with R talking about dataframes)."
      ],
      "metadata": {
        "id": "hX4Ek3L55xYt"
      }
    },
    {
      "cell_type": "code",
      "source": [
        "groups = c(\"A\", \"B\", \"var_1\", \"var_2\", \"N1\", \"N2\")\n",
        "results = c(15, 12, 8, 24, 20, 10)\n",
        "df = data.frame(groups, results)\n",
        "df"
      ],
      "metadata": {
        "colab": {
          "base_uri": "https://localhost:8080/",
          "height": 286
        },
        "id": "lWmOukZRDvH9",
        "outputId": "f12bf850-8aba-459f-d744-2b142df8d90d"
      },
      "execution_count": null,
      "outputs": [
        {
          "output_type": "display_data",
          "data": {
            "text/html": [
              "<table class=\"dataframe\">\n",
              "<caption>A data.frame: 6 × 2</caption>\n",
              "<thead>\n",
              "\t<tr><th scope=col>groups</th><th scope=col>results</th></tr>\n",
              "\t<tr><th scope=col>&lt;chr&gt;</th><th scope=col>&lt;dbl&gt;</th></tr>\n",
              "</thead>\n",
              "<tbody>\n",
              "\t<tr><td>A    </td><td>15</td></tr>\n",
              "\t<tr><td>B    </td><td>12</td></tr>\n",
              "\t<tr><td>var_1</td><td> 8</td></tr>\n",
              "\t<tr><td>var_2</td><td>24</td></tr>\n",
              "\t<tr><td>N1   </td><td>20</td></tr>\n",
              "\t<tr><td>N2   </td><td>10</td></tr>\n",
              "</tbody>\n",
              "</table>\n"
            ],
            "text/markdown": "\nA data.frame: 6 × 2\n\n| groups &lt;chr&gt; | results &lt;dbl&gt; |\n|---|---|\n| A     | 15 |\n| B     | 12 |\n| var_1 |  8 |\n| var_2 | 24 |\n| N1    | 20 |\n| N2    | 10 |\n\n",
            "text/latex": "A data.frame: 6 × 2\n\\begin{tabular}{ll}\n groups & results\\\\\n <chr> & <dbl>\\\\\n\\hline\n\t A     & 15\\\\\n\t B     & 12\\\\\n\t var\\_1 &  8\\\\\n\t var\\_2 & 24\\\\\n\t N1    & 20\\\\\n\t N2    & 10\\\\\n\\end{tabular}\n",
            "text/plain": [
              "  groups results\n",
              "1 A      15     \n",
              "2 B      12     \n",
              "3 var_1   8     \n",
              "4 var_2  24     \n",
              "5 N1     20     \n",
              "6 N2     10     "
            ]
          },
          "metadata": {}
        }
      ]
    },
    {
      "cell_type": "code",
      "source": [
        "\n",
        "#data frame of means\n",
        "df[1:2, c(1,2)]"
      ],
      "metadata": {
        "colab": {
          "base_uri": "https://localhost:8080/",
          "height": 161
        },
        "id": "JKSn0DRoHoO0",
        "outputId": "05ed6974-b72a-4f99-81df-c12ec8b122d6"
      },
      "execution_count": null,
      "outputs": [
        {
          "output_type": "display_data",
          "data": {
            "text/html": [
              "<table class=\"dataframe\">\n",
              "<caption>A data.frame: 2 × 2</caption>\n",
              "<thead>\n",
              "\t<tr><th></th><th scope=col>groups</th><th scope=col>results</th></tr>\n",
              "\t<tr><th></th><th scope=col>&lt;chr&gt;</th><th scope=col>&lt;dbl&gt;</th></tr>\n",
              "</thead>\n",
              "<tbody>\n",
              "\t<tr><th scope=row>1</th><td>A</td><td>15</td></tr>\n",
              "\t<tr><th scope=row>2</th><td>B</td><td>12</td></tr>\n",
              "</tbody>\n",
              "</table>\n"
            ],
            "text/markdown": "\nA data.frame: 2 × 2\n\n| <!--/--> | groups &lt;chr&gt; | results &lt;dbl&gt; |\n|---|---|---|\n| 1 | A | 15 |\n| 2 | B | 12 |\n\n",
            "text/latex": "A data.frame: 2 × 2\n\\begin{tabular}{r|ll}\n  & groups & results\\\\\n  & <chr> & <dbl>\\\\\n\\hline\n\t1 & A & 15\\\\\n\t2 & B & 12\\\\\n\\end{tabular}\n",
            "text/plain": [
              "  groups results\n",
              "1 A      15     \n",
              "2 B      12     "
            ]
          },
          "metadata": {}
        }
      ]
    },
    {
      "cell_type": "code",
      "source": [
        "library(ggplot2)\n",
        "options(repr.plot.width = 7, repr.plot.height = 5)\n",
        "\n",
        "ggplot(df[1:2, c(1,2)], aes(x = groups, y= results)) +\n",
        "      geom_bar(stat = \"summary\", fun = mean,\n",
        "            aes(fill = groups), colour = \"black\") + xlab(\"GROUPS\") +\n",
        "  ylab(\"RESULTS\") +\n",
        "     scale_fill_manual(values = c(\"gold\", \"red\")) +\n",
        "  geom_errorbar(stat = \"summary\",\n",
        "                fun.data = \"mean_cl_normal\",\n",
        "                fun.args = list(conf.int = 0.95),\n",
        "                width = 1) +\n",
        "  theme(legend.position = \"none\")+\n",
        "  ggtitle(\"95% CIs\") "
      ],
      "metadata": {
        "colab": {
          "base_uri": "https://localhost:8080/",
          "height": 371
        },
        "id": "SFRO0mJoIg5z",
        "outputId": "cedaa920-5cfa-403d-839e-66e3fec60938"
      },
      "execution_count": null,
      "outputs": [
        {
          "output_type": "stream",
          "name": "stderr",
          "text": [
            "Warning message:\n",
            "“Computation failed in `stat_summary()`:\n",
            "”\n"
          ]
        },
        {
          "output_type": "display_data",
          "data": {
            "text/plain": [
              "plot without title"
            ],
            "image/png": "[encoded data removed]"
          },
          "metadata": {
            "image/png": {
              "width": 420,
              "height": 300
            }
          }
        }
      ]
    },
    {
      "cell_type": "markdown",
      "source": [
        "Question 18:\n",
        "What is a potentially serious problem for the results seen in the previous question (hint: compare the errorbars)?\n",
        "**Answer: they have very drastic differnces in error ranges**"
      ],
      "metadata": {
        "id": "Gh0Y90HlJJVT"
      }
    },
    {
      "cell_type": "code",
      "source": [],
      "metadata": {
        "id": "xqLKsqjjhnju"
      },
      "execution_count": null,
      "outputs": []
    }
  ]
}