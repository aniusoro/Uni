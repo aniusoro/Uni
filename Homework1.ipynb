{
  "nbformat": 4,
  "nbformat_minor": 0,
  "metadata": {
    "colab": {
      "provenance": [],
      "collapsed_sections": [],
      "authorship_tag": "ABX9TyMruek/Nop/ULhE/BOtjs5z",
      "include_colab_link": true
    },
    "kernelspec": {
      "name": "ir",
      "display_name": "R"
    },
    "language_info": {
      "name": "R"
    }
  },
  "cells": [
    {
      "cell_type": "markdown",
      "metadata": {
        "id": "view-in-github",
        "colab_type": "text"
      },
      "source": [
        "<a href=\"https://colab.research.google.com/github/aniusoro/Uni/blob/main/Homework1.ipynb\" target=\"_parent\"><img src=\"https://colab.research.google.com/assets/colab-badge.svg\" alt=\"Open In Colab\"/></a>"
      ]
    },
    {
      "cell_type": "markdown",
      "source": [
        "Question 1: \n",
        "Which three variables would be measured on a nominal scale?\n",
        "**Answer: Nationality, Religious Affiliation, Favorite food**"
      ],
      "metadata": {
        "id": "nPYMaZsFNCOA"
      }
    },
    {
      "cell_type": "markdown",
      "source": [
        "Question 2: Which option from Q1 best illustrates an interval but not ratio scale? \n",
        "**Answer: Year of birth**"
      ],
      "metadata": {
        "id": "z9H3TCS-NTG4"
      }
    },
    {
      "cell_type": "markdown",
      "source": [
        "Question 3: Which two variables in Q1 are most likely to be measured by ratio scale?\n",
        "**Answer: Typing speed and Age**"
      ],
      "metadata": {
        "id": "LdvUTrHr7533"
      }
    },
    {
      "cell_type": "markdown",
      "source": [
        "Question 4: Can pbservations on an interval or ratio scale be converted to an ordinal scale? \n",
        "**Answer: Yes, they can.**"
      ],
      "metadata": {
        "id": "zK71TmDe8Wr1"
      }
    },
    {
      "cell_type": "markdown",
      "source": [
        "Question 5: To say that a variable X1 is 25% greater than a variable X2 illustrates what level of measurement?\n",
        "**Answer: Ratio scale**"
      ],
      "metadata": {
        "id": "kzh0iC0Y8nvQ"
      }
    },
    {
      "cell_type": "markdown",
      "source": [
        "Question 6: Is the measure “number of books in the library” continuous or discrete?\n",
        "**Answer: Discrete**"
      ],
      "metadata": {
        "id": "QjsN8AM79G5w"
      }
    },
    {
      "cell_type": "markdown",
      "source": [
        "Question 7: Does Q6’s measure qualify as a ratio scale?\n",
        "**Answer: Yes, ratio scale can be continuous or discrete.**"
      ],
      "metadata": {
        "id": "iMcskE6j9Twg"
      }
    },
    {
      "cell_type": "markdown",
      "source": [
        "Question 8: Create a vector with 10,000 values/elements in it (it doesn’t matter what the values are). Without displaying the contents of the vector, write some code that proves it contains 10,000 values/elements."
      ],
      "metadata": {
        "id": "kZK5gM1o9-Du"
      }
    },
    {
      "cell_type": "code",
      "source": [
        "x = 1 : 10000\n",
        "proof = length(x)\n",
        "print(proof)"
      ],
      "metadata": {
        "colab": {
          "base_uri": "https://localhost:8080/"
        },
        "id": "mc_rq2kgAmr4",
        "outputId": "e0c379d2-dadb-4154-9a32-80c102867710"
      },
      "execution_count": null,
      "outputs": [
        {
          "output_type": "stream",
          "name": "stdout",
          "text": [
            "[1] 10000\n"
          ]
        }
      ]
    },
    {
      "cell_type": "markdown",
      "source": [
        "Question 9: From the previous question, what is the first and last value/element of the vector you made?"
      ],
      "metadata": {
        "id": "hZciU_hGAv0B"
      }
    },
    {
      "cell_type": "code",
      "source": [
        "first_value = x[1]\n",
        "last_value = x[10000]\n",
        "print(first_value)\n",
        "print(last_value)"
      ],
      "metadata": {
        "colab": {
          "base_uri": "https://localhost:8080/"
        },
        "id": "fkymTbcAA6N1",
        "outputId": "7ed42e34-da94-4948-8291-fe784638ba70"
      },
      "execution_count": null,
      "outputs": [
        {
          "output_type": "stream",
          "name": "stdout",
          "text": [
            "[1] 1\n",
            "[1] 10000\n"
          ]
        }
      ]
    },
    {
      "cell_type": "markdown",
      "source": [
        "Question 10:\n",
        "Using R code, create a dataframe that contains information about your top 10 favourite songs. The dataframe should have three columns: 1) ‘Artist’ (the name of the artist/band), 2) ‘Song’ (the name of the song), 3) The name of the album the song appeared on. Display the dataframe you create."
      ],
      "metadata": {
        "id": "7GeXklkyBIoF"
      }
    },
    {
      "cell_type": "code",
      "source": [
        "Artists = c(\"Baby Keem\", \"Drake\", \"Don Toliver\", \"Kendrick Lamar\", \"Teni\", \n",
        "            \"Asake\", \"Kanye West\", \"Burna Boy\", \"BXNX fka Buju\", \"Gunna\")\n",
        "\n",
        "Songs = c(\"Family Ties\", \"Jimmy Cooks\", \"Outerspace\", \"N95\", \"Hustle\", \n",
        "         \"Dupe\", \"Moon\", \"Last Last\", \"In my mind\", \"Pushing P\")\n",
        "\n",
        "Albums = c(\"Melodic Blue\", \"Honestly Nevermind\", \"Life of a DON\", \"Mr. Morale & the Big Steppers\", \"WONDALAND\",\n",
        "           \"Mr. Money with the Vibes\", \"DONDA\", \"Love, Damini\", \"Bad Since 97\", \"DS4EVER\")\n",
        "\n",
        "df = data.frame(Artists, Songs, Albums)\n",
        "df"
      ],
      "metadata": {
        "colab": {
          "base_uri": "https://localhost:8080/",
          "height": 412
        },
        "id": "YbcYZLPFBPZd",
        "outputId": "f7782d82-549f-4fd8-84bb-cae802f19d1b"
      },
      "execution_count": null,
      "outputs": [
        {
          "output_type": "display_data",
          "data": {
            "text/html": [
              "<table class=\"dataframe\">\n",
              "<caption>A data.frame: 10 × 3</caption>\n",
              "<thead>\n",
              "\t<tr><th scope=col>Artists</th><th scope=col>Songs</th><th scope=col>Albums</th></tr>\n",
              "\t<tr><th scope=col>&lt;chr&gt;</th><th scope=col>&lt;chr&gt;</th><th scope=col>&lt;chr&gt;</th></tr>\n",
              "</thead>\n",
              "<tbody>\n",
              "\t<tr><td>Baby Keem     </td><td>Family Ties</td><td>Melodic Blue                 </td></tr>\n",
              "\t<tr><td>Drake         </td><td>Jimmy Cooks</td><td>Honestly Nevermind           </td></tr>\n",
              "\t<tr><td>Don Toliver   </td><td>Outerspace </td><td>Life of a DON                </td></tr>\n",
              "\t<tr><td>Kendrick Lamar</td><td><span style=white-space:pre-wrap>N95        </span></td><td>Mr. Morale &amp; the Big Steppers</td></tr>\n",
              "\t<tr><td>Teni          </td><td>Hustle     </td><td>WONDALAND                    </td></tr>\n",
              "\t<tr><td>Asake         </td><td>Dupe       </td><td>Mr. Money with the Vibes     </td></tr>\n",
              "\t<tr><td>Kanye West    </td><td>Moon       </td><td>DONDA                        </td></tr>\n",
              "\t<tr><td>Burna Boy     </td><td>Last Last  </td><td>Love, Damini                 </td></tr>\n",
              "\t<tr><td>BXNX fka Buju </td><td>In my mind </td><td>Bad Since 97                 </td></tr>\n",
              "\t<tr><td>Gunna         </td><td>Pushing P  </td><td>DS4EVER                      </td></tr>\n",
              "</tbody>\n",
              "</table>\n"
            ],
            "text/markdown": "\nA data.frame: 10 × 3\n\n| Artists &lt;chr&gt; | Songs &lt;chr&gt; | Albums &lt;chr&gt; |\n|---|---|---|\n| Baby Keem      | Family Ties | Melodic Blue                  |\n| Drake          | Jimmy Cooks | Honestly Nevermind            |\n| Don Toliver    | Outerspace  | Life of a DON                 |\n| Kendrick Lamar | N95         | Mr. Morale &amp; the Big Steppers |\n| Teni           | Hustle      | WONDALAND                     |\n| Asake          | Dupe        | Mr. Money with the Vibes      |\n| Kanye West     | Moon        | DONDA                         |\n| Burna Boy      | Last Last   | Love, Damini                  |\n| BXNX fka Buju  | In my mind  | Bad Since 97                  |\n| Gunna          | Pushing P   | DS4EVER                       |\n\n",
            "text/latex": "A data.frame: 10 × 3\n\\begin{tabular}{lll}\n Artists & Songs & Albums\\\\\n <chr> & <chr> & <chr>\\\\\n\\hline\n\t Baby Keem      & Family Ties & Melodic Blue                 \\\\\n\t Drake          & Jimmy Cooks & Honestly Nevermind           \\\\\n\t Don Toliver    & Outerspace  & Life of a DON                \\\\\n\t Kendrick Lamar & N95         & Mr. Morale \\& the Big Steppers\\\\\n\t Teni           & Hustle      & WONDALAND                    \\\\\n\t Asake          & Dupe        & Mr. Money with the Vibes     \\\\\n\t Kanye West     & Moon        & DONDA                        \\\\\n\t Burna Boy      & Last Last   & Love, Damini                 \\\\\n\t BXNX fka Buju  & In my mind  & Bad Since 97                 \\\\\n\t Gunna          & Pushing P   & DS4EVER                      \\\\\n\\end{tabular}\n",
            "text/plain": [
              "   Artists        Songs       Albums                       \n",
              "1  Baby Keem      Family Ties Melodic Blue                 \n",
              "2  Drake          Jimmy Cooks Honestly Nevermind           \n",
              "3  Don Toliver    Outerspace  Life of a DON                \n",
              "4  Kendrick Lamar N95         Mr. Morale & the Big Steppers\n",
              "5  Teni           Hustle      WONDALAND                    \n",
              "6  Asake          Dupe        Mr. Money with the Vibes     \n",
              "7  Kanye West     Moon        DONDA                        \n",
              "8  Burna Boy      Last Last   Love, Damini                 \n",
              "9  BXNX fka Buju  In my mind  Bad Since 97                 \n",
              "10 Gunna          Pushing P   DS4EVER                      "
            ]
          },
          "metadata": {}
        }
      ]
    },
    {
      "cell_type": "markdown",
      "source": [
        "Question 11: Use the following variables to answer the next questions. Write R code to answer them.\n",
        "x=[76,9,85,89,30]\n",
        "y=[4,5,2,4,3]"
      ],
      "metadata": {
        "id": "x4wJmx2SDNce"
      }
    },
    {
      "cell_type": "markdown",
      "source": [
        "a. ∑x"
      ],
      "metadata": {
        "id": "8C7sKvuLDwsW"
      }
    },
    {
      "cell_type": "code",
      "source": [
        "x = c(76, 9, 85, 89, 30)\n",
        "y = c(4, 5, 2, 4, 3)\n",
        "sum(x)"
      ],
      "metadata": {
        "colab": {
          "base_uri": "https://localhost:8080/",
          "height": 34
        },
        "id": "XVutPF9BD1au",
        "outputId": "b55b871d-6ecc-48ae-c569-ba63c58b3fa7"
      },
      "execution_count": null,
      "outputs": [
        {
          "output_type": "display_data",
          "data": {
            "text/html": [
              "289"
            ],
            "text/markdown": "289",
            "text/latex": "289",
            "text/plain": [
              "[1] 289"
            ]
          },
          "metadata": {}
        }
      ]
    },
    {
      "cell_type": "markdown",
      "source": [
        "b. ∑y"
      ],
      "metadata": {
        "id": "Kf1PcHsQEJ5M"
      }
    },
    {
      "cell_type": "code",
      "source": [
        "sum(y)"
      ],
      "metadata": {
        "colab": {
          "base_uri": "https://localhost:8080/",
          "height": 34
        },
        "id": "ESpJH7dUET_a",
        "outputId": "76bd053b-fc49-41ae-a167-cfd8f94ed9c0"
      },
      "execution_count": null,
      "outputs": [
        {
          "output_type": "display_data",
          "data": {
            "text/html": [
              "18"
            ],
            "text/markdown": "18",
            "text/latex": "18",
            "text/plain": [
              "[1] 18"
            ]
          },
          "metadata": {}
        }
      ]
    },
    {
      "cell_type": "markdown",
      "source": [
        "c. ∑x^2"
      ],
      "metadata": {
        "id": "ON9nSw3PEVw2"
      }
    },
    {
      "cell_type": "code",
      "source": [
        "sum(x^2)"
      ],
      "metadata": {
        "colab": {
          "base_uri": "https://localhost:8080/",
          "height": 34
        },
        "id": "0DiO5Cm8Eayx",
        "outputId": "1a1c3711-b4aa-4ad3-a5a2-095c66b3e100"
      },
      "execution_count": null,
      "outputs": [
        {
          "output_type": "display_data",
          "data": {
            "text/html": [
              "21903"
            ],
            "text/markdown": "21903",
            "text/latex": "21903",
            "text/plain": [
              "[1] 21903"
            ]
          },
          "metadata": {}
        }
      ]
    },
    {
      "cell_type": "markdown",
      "source": [
        "d. ∑y^2"
      ],
      "metadata": {
        "id": "Ko17t2RaEdmp"
      }
    },
    {
      "cell_type": "code",
      "source": [
        "sum(y^2)"
      ],
      "metadata": {
        "colab": {
          "base_uri": "https://localhost:8080/",
          "height": 34
        },
        "id": "By2B7L3REnbQ",
        "outputId": "c9045723-0feb-42c6-be00-21f53206b63e"
      },
      "execution_count": null,
      "outputs": [
        {
          "output_type": "display_data",
          "data": {
            "text/html": [
              "70"
            ],
            "text/markdown": "70",
            "text/latex": "70",
            "text/plain": [
              "[1] 70"
            ]
          },
          "metadata": {}
        }
      ]
    },
    {
      "cell_type": "markdown",
      "source": [
        "e. ∑(x−y)"
      ],
      "metadata": {
        "id": "xKXR5FQZEo1Y"
      }
    },
    {
      "cell_type": "code",
      "source": [
        "sum(x) - sum(y)"
      ],
      "metadata": {
        "colab": {
          "base_uri": "https://localhost:8080/",
          "height": 34
        },
        "id": "Um_zTc3UE4V3",
        "outputId": "cbcc05f9-222a-4bfb-e090-40b84044568b"
      },
      "execution_count": null,
      "outputs": [
        {
          "output_type": "display_data",
          "data": {
            "text/html": [
              "271"
            ],
            "text/markdown": "271",
            "text/latex": "271",
            "text/plain": [
              "[1] 271"
            ]
          },
          "metadata": {}
        }
      ]
    },
    {
      "cell_type": "markdown",
      "source": [
        "f. ∑xy"
      ],
      "metadata": {
        "id": "xlttSuFQE9qK"
      }
    },
    {
      "cell_type": "code",
      "source": [
        "xy = x * y\n",
        "sum(xy)"
      ],
      "metadata": {
        "colab": {
          "base_uri": "https://localhost:8080/",
          "height": 34
        },
        "id": "BlzBpIf_FF7e",
        "outputId": "8b31c3ac-29c6-48a7-f366-802a99a45620"
      },
      "execution_count": null,
      "outputs": [
        {
          "output_type": "display_data",
          "data": {
            "text/html": [
              "965"
            ],
            "text/markdown": "965",
            "text/latex": "965",
            "text/plain": [
              "[1] 965"
            ]
          },
          "metadata": {}
        }
      ]
    },
    {
      "cell_type": "markdown",
      "source": [
        "g.(∑x)2"
      ],
      "metadata": {
        "id": "T3XY6BqjFLjD"
      }
    },
    {
      "cell_type": "code",
      "source": [
        "(sum(x))^2"
      ],
      "metadata": {
        "colab": {
          "base_uri": "https://localhost:8080/",
          "height": 34
        },
        "id": "Zio1sUIbFX-0",
        "outputId": "19ed91b6-d814-42b7-e5cc-e9edde1baac9"
      },
      "execution_count": null,
      "outputs": [
        {
          "output_type": "display_data",
          "data": {
            "text/html": [
              "83521"
            ],
            "text/markdown": "83521",
            "text/latex": "83521",
            "text/plain": [
              "[1] 83521"
            ]
          },
          "metadata": {}
        }
      ]
    },
    {
      "cell_type": "markdown",
      "source": [
        "h. (∑y)2"
      ],
      "metadata": {
        "id": "2LPA-GRuFb0n"
      }
    },
    {
      "cell_type": "code",
      "source": [
        "(sum(y))^2"
      ],
      "metadata": {
        "colab": {
          "base_uri": "https://localhost:8080/",
          "height": 34
        },
        "id": "uXAkPgV5FitQ",
        "outputId": "ca7c0d29-7d91-45ef-b4f1-1630ac4e18ad"
      },
      "execution_count": null,
      "outputs": [
        {
          "output_type": "display_data",
          "data": {
            "text/html": [
              "324"
            ],
            "text/markdown": "324",
            "text/latex": "324",
            "text/plain": [
              "[1] 324"
            ]
          },
          "metadata": {}
        }
      ]
    },
    {
      "cell_type": "markdown",
      "source": [
        "i. (∑(x−y))2"
      ],
      "metadata": {
        "id": "tHqbESwKFlwQ"
      }
    },
    {
      "cell_type": "code",
      "source": [
        "(sum(x) - sum(y))^2"
      ],
      "metadata": {
        "colab": {
          "base_uri": "https://localhost:8080/",
          "height": 34
        },
        "id": "QIzuVlhlFrIB",
        "outputId": "81ef3253-f90b-487e-9022-2c74d8680c2f"
      },
      "execution_count": null,
      "outputs": [
        {
          "output_type": "display_data",
          "data": {
            "text/html": [
              "73441"
            ],
            "text/markdown": "73441",
            "text/latex": "73441",
            "text/plain": [
              "[1] 73441"
            ]
          },
          "metadata": {}
        }
      ]
    },
    {
      "cell_type": "markdown",
      "source": [
        "j. (∑x)(∑y)"
      ],
      "metadata": {
        "id": "LJesxLFeFzVV"
      }
    },
    {
      "cell_type": "code",
      "source": [
        "sum(x) * sum(y)"
      ],
      "metadata": {
        "colab": {
          "base_uri": "https://localhost:8080/",
          "height": 34
        },
        "id": "jxU4CLOIF3OH",
        "outputId": "7e6ea4f7-99f5-4e6d-9df8-cbf83af7be7a"
      },
      "execution_count": null,
      "outputs": [
        {
          "output_type": "display_data",
          "data": {
            "text/html": [
              "5202"
            ],
            "text/markdown": "5202",
            "text/latex": "5202",
            "text/plain": [
              "[1] 5202"
            ]
          },
          "metadata": {}
        }
      ]
    },
    {
      "cell_type": "markdown",
      "source": [
        "k. What value is x3?\n",
        "**Answer: 85**"
      ],
      "metadata": {
        "id": "GRrqAvYxF7Nh"
      }
    },
    {
      "cell_type": "markdown",
      "source": [
        "l. What value is y4?\n",
        "**Answer: 4**"
      ],
      "metadata": {
        "id": "ICq4t9bJGE4C"
      }
    },
    {
      "cell_type": "markdown",
      "source": [
        "m. Calculate ∑x/n where n= the number of elements in x."
      ],
      "metadata": {
        "id": "pW75aER2GMNa"
      }
    },
    {
      "cell_type": "code",
      "source": [
        "sum(x) / length(x)"
      ],
      "metadata": {
        "colab": {
          "base_uri": "https://localhost:8080/",
          "height": 34
        },
        "id": "uozfswRXGQaL",
        "outputId": "55031b3e-9845-4b05-d522-de2b997fa35c"
      },
      "execution_count": null,
      "outputs": [
        {
          "output_type": "display_data",
          "data": {
            "text/html": [
              "57.8"
            ],
            "text/markdown": "57.8",
            "text/latex": "57.8",
            "text/plain": [
              "[1] 57.8"
            ]
          },
          "metadata": {}
        }
      ]
    },
    {
      "cell_type": "markdown",
      "source": [
        "Question 12: Plot a histogram of the Sons’ height from the height data used in the lecture, but do it in centimeters, not inches. Use a different color scheme but keep the binwidth at 1 cm. Give the x-axis an informative label.\n"
      ],
      "metadata": {
        "id": "1kvdyHuuGYXA"
      }
    },
    {
      "cell_type": "code",
      "source": [
        "options(repr.plot.width = 7, repr.plot.height = 5)\n",
        "library(ggplot2)\n",
        "\n",
        "heightdata = read.csv(\"PearsonHeightData.csv\")"
      ],
      "metadata": {
        "id": "qbjBRUuUHojj"
      },
      "execution_count": null,
      "outputs": []
    },
    {
      "cell_type": "code",
      "source": [
        "#converting the height to centimeters\n",
        "heightdata$Height_In_cm = heightdata$Son * 2.54\n",
        "ggplot(heightdata, aes(x = Height_In_cm)) + geom_histogram(color = \"red\", fill = \"white\", binwidth = 1)"
      ],
      "metadata": {
        "colab": {
          "base_uri": "https://localhost:8080/",
          "height": 317
        },
        "id": "C5bEUOKLPRac",
        "outputId": "ae50c0c7-f99d-45a5-c0c4-9cfe288050f7"
      },
      "execution_count": null,
      "outputs": [
        {
          "output_type": "display_data",
          "data": {
            "text/plain": [
              "plot without title"
            ],
            "image/png": "[encoded data removed]"
          },
          "metadata": {
            "image/png": {
              "width": 420,
              "height": 300
            }
          }
        }
      ]
    },
    {
      "cell_type": "markdown",
      "source": [
        "Question 13:\n",
        "Calculate the median and mean (in cm) of the sons’ height."
      ],
      "metadata": {
        "id": "3hagiydvP0yg"
      }
    },
    {
      "cell_type": "code",
      "source": [
        "Median = median(heightdata$Height_In_cm)\n",
        "Mean = mean(heightdata$Height_In_cm)\n",
        "Median \n",
        "Mean"
      ],
      "metadata": {
        "colab": {
          "base_uri": "https://localhost:8080/",
          "height": 52
        },
        "id": "nA-9vv2xTIs4",
        "outputId": "98bb4400-ea75-4516-8383-bd6a9c4cef32"
      },
      "execution_count": null,
      "outputs": [
        {
          "output_type": "display_data",
          "data": {
            "text/html": [
              "174.244"
            ],
            "text/markdown": "174.244",
            "text/latex": "174.244",
            "text/plain": [
              "[1] 174.244"
            ]
          },
          "metadata": {}
        },
        {
          "output_type": "display_data",
          "data": {
            "text/html": [
              "174.457944341373"
            ],
            "text/markdown": "174.457944341373",
            "text/latex": "174.457944341373",
            "text/plain": [
              "[1] 174.4579"
            ]
          },
          "metadata": {}
        }
      ]
    },
    {
      "cell_type": "markdown",
      "source": [
        "Question 14: Determine the skew of the distribution from the following measures of central tendency. Assume the distribution is unimodal.\n",
        "\n",
        "**Answer key: Left skew -> mean < median < mode, \n",
        "right skew -> mode < median < mean,  \n",
        "symmetrica -> mean = median = mode**\n"
      ],
      "metadata": {
        "id": "LUtnCYSFTVqn"
      }
    },
    {
      "cell_type": "markdown",
      "source": [
        "a.  x¯=16,Mdn=10\n",
        "**Answer: this is right skewed**"
      ],
      "metadata": {
        "id": "oz3y8ACIXAo9"
      }
    },
    {
      "cell_type": "markdown",
      "source": [
        "b.  x¯=21,Mdn=21\n",
        "**Answer: this is symmetical**"
      ],
      "metadata": {
        "id": "5tJLHEQ0XIrl"
      }
    },
    {
      "cell_type": "markdown",
      "source": [
        "c. x¯=109,Mdn=116\n",
        "**Answer: this is left skewed**"
      ],
      "metadata": {
        "id": "G0_GtYRkXPX6"
      }
    },
    {
      "cell_type": "markdown",
      "source": [
        "d.  x¯=73,Mdn=84\n",
        "**Answer: this is left skewed**"
      ],
      "metadata": {
        "id": "mvFTSsnyXqNi"
      }
    },
    {
      "cell_type": "markdown",
      "source": [
        "e.  x¯>Mdn\n",
        "**Answer: this is right skewed**"
      ],
      "metadata": {
        "id": "HrcrpRlBYQcP"
      }
    },
    {
      "cell_type": "markdown",
      "source": [
        "f.  Mode>Mdn\n",
        "**Answer: this is left skewed**"
      ],
      "metadata": {
        "id": "GSuW6E6OYX19"
      }
    },
    {
      "cell_type": "markdown",
      "source": [
        "g.  Mdn>x\n",
        "**Answer: this is left skewed**"
      ],
      "metadata": {
        "id": "bXZ2_OURYdWY"
      }
    },
    {
      "cell_type": "markdown",
      "source": [
        "h.  x¯=Mdn=Mode\n",
        "**Answer: this is symmetrical**"
      ],
      "metadata": {
        "id": "nu0CGLhoYmwG"
      }
    },
    {
      "cell_type": "markdown",
      "source": [
        "Question 15:\n",
        "Assume that some researchers collected data on the variable ‘sex’. They coded 26 females as 1 and 15 males as 0. What is the mean of this variable ‘sex’?"
      ],
      "metadata": {
        "id": "6htiJySDY-U1"
      }
    },
    {
      "cell_type": "code",
      "source": [
        "SUM = (26*1)+(15*0)\n",
        "N = 26 + 15\n",
        "Mean = SUM / N\n",
        "Mean"
      ],
      "metadata": {
        "colab": {
          "base_uri": "https://localhost:8080/",
          "height": 34
        },
        "id": "SPOxYFrNZCpG",
        "outputId": "43e5a826-f939-47e1-eea9-92bc002caa10"
      },
      "execution_count": null,
      "outputs": [
        {
          "output_type": "display_data",
          "data": {
            "text/html": [
              "0.634146341463415"
            ],
            "text/markdown": "0.634146341463415",
            "text/latex": "0.634146341463415",
            "text/plain": [
              "[1] 0.6341463"
            ]
          },
          "metadata": {}
        }
      ]
    },
    {
      "cell_type": "markdown",
      "source": [
        "Question 16:\n",
        "Seligman, Nolen-Hecksema, Thornton, and Thornton (1990) classified participants in their study (who were members of a university swim team) as Optimists or Pessimists. They then asked them to swim their best event, and in each case they reported times that were longer than the swimmer actually earned. Half an hour later they asked them to repeat the event again. The dependent variable was Time1/Time2 so a ratio greater than 1.0 indicates faster times on the second trial. Calculate the mean for each group. Seligman et al. thought that optimists would try harder after being disappointed. Based on the means, does it look as if they were correct? The data are as follows:\n",
        "Optimists:\n",
        "0.986 1.108 1.080 0.952 0.998 1.017 1.080 1.026 1.045 0.996 0.923 1.000 1.003 0.934 1.009 1.065 1.053 1.108 0.985 1.001 0.924 0.968 1.048 1.027 1.004 0.936 1.040\n",
        "Pessimists:\n",
        "0.983 0.947 0.932 1.078 0.914 0.955 0.962 0.944 0.941 0.831 0.936 0.995 0.872 0.997 0.983 1.105 1.116 0.997 0.960 1.045 1.095 0.944 1.069 0.927 0.988 1.015 1.045 0.864 0.982 0.915 1.047"
      ],
      "metadata": {
        "id": "Of4pCw41ZopX"
      }
    },
    {
      "cell_type": "code",
      "source": [
        "Optimists = c(0.986, 1.108, 1.080, 0.952, 0.998, 1.017, 1.080, 1.026, \n",
        "              1.045, 0.996, 0.923, 1.000, 1.003, 0.934, 1.009, 1.065, 1.053, \n",
        "              1.108, 0.985, 1.001, 0.924, 0.968, 1.048, 1.027, 1.004, 0.936, \n",
        "              1.040, NA, NA, NA, NA)\n",
        "\n",
        "Pessimists = c(0.983, 0.947, 0.932, 1.078, 0.914, 0.955, 0.962, 0.944, 0.941,\n",
        "              0.831, 0.936, 0.995, 0.872, 0.997, 0.983, 1.105, 1.116, 0.997, 0.960, \n",
        "              1.045, 1.095, 0.944, 1.069, 0.927, 0.988, 1.015, 1.045, 0.864, 0.982, \n",
        "              0.915, 1.047)\n",
        "\n",
        "mean(Optimists, na.rm = TRUE)\n",
        "mean(Pessimists)\n",
        "\n",
        "# a ratio > 1.0 means that time2 was faster than time1.\n",
        "# this indicates that with a mean of 1.012 the optimists tried better on the second trial\n",
        "# after being dissapointed\n"
      ],
      "metadata": {
        "colab": {
          "base_uri": "https://localhost:8080/",
          "height": 52
        },
        "id": "FYitIu2ua4uM",
        "outputId": "ce9a195d-e777-4d75-c510-c0dfede91041"
      },
      "execution_count": null,
      "outputs": [
        {
          "output_type": "display_data",
          "data": {
            "text/html": [
              "1.0117037037037"
            ],
            "text/markdown": "1.0117037037037",
            "text/latex": "1.0117037037037",
            "text/plain": [
              "[1] 1.011704"
            ]
          },
          "metadata": {}
        },
        {
          "output_type": "display_data",
          "data": {
            "text/html": [
              "0.980129032258064"
            ],
            "text/markdown": "0.980129032258064",
            "text/latex": "0.980129032258064",
            "text/plain": [
              "[1] 0.980129"
            ]
          },
          "metadata": {}
        }
      ]
    },
    {
      "cell_type": "markdown",
      "source": [
        "Question 17:\n",
        "Describe what happens to the mean and median for the optimist data if each value has 5 added to it?"
      ],
      "metadata": {
        "id": "HyDMTHVJcCFP"
      }
    },
    {
      "cell_type": "code",
      "source": [
        "dt2 = data.frame(Optimists, Pessimists)\n",
        "dt2$Optimists_plus_5 = dt2$Optimists + 5\n",
        "mean(dt2$Optimists_plus_5, na.rm = TRUE)\n",
        "median(dt2$Optimists_plus_5, na.rm = TRUE)\n",
        "# the mean and median also had their values increase by 5"
      ],
      "metadata": {
        "colab": {
          "base_uri": "https://localhost:8080/",
          "height": 52
        },
        "id": "mZvScIcNfVWE",
        "outputId": "fcdeae6d-02fe-4d34-ef8b-6bc13ea8ce9f"
      },
      "execution_count": null,
      "outputs": [
        {
          "output_type": "display_data",
          "data": {
            "text/html": [
              "6.0117037037037"
            ],
            "text/markdown": "6.0117037037037",
            "text/latex": "6.0117037037037",
            "text/plain": [
              "[1] 6.011704"
            ]
          },
          "metadata": {}
        },
        {
          "output_type": "display_data",
          "data": {
            "text/html": [
              "6.004"
            ],
            "text/markdown": "6.004",
            "text/latex": "6.004",
            "text/plain": [
              "[1] 6.004"
            ]
          },
          "metadata": {}
        }
      ]
    },
    {
      "cell_type": "markdown",
      "source": [
        "Question 18:\n",
        "Describe what happens to the mean and median for the optimist data if each value has 2 multiplied to it?\n"
      ],
      "metadata": {
        "id": "EALUdRFYheMy"
      }
    },
    {
      "cell_type": "code",
      "source": [
        "dt2$Optimists_times_2 = dt2$Optimists * 2\n",
        "mean(dt2$Optimists_times_2, na.rm = TRUE)\n",
        "median(dt2$Optimists_times_2, na.rm = TRUE)\n",
        "\n",
        "# the mean and median also had their values multiplied by 2 as well."
      ],
      "metadata": {
        "colab": {
          "base_uri": "https://localhost:8080/",
          "height": 52
        },
        "id": "relOBhUUjUrP",
        "outputId": "8dbb0898-5f14-4757-a14e-e4a62a5cc03b"
      },
      "execution_count": null,
      "outputs": [
        {
          "output_type": "display_data",
          "data": {
            "text/html": [
              "2.02340740740741"
            ],
            "text/markdown": "2.02340740740741",
            "text/latex": "2.02340740740741",
            "text/plain": [
              "[1] 2.023407"
            ]
          },
          "metadata": {}
        },
        {
          "output_type": "display_data",
          "data": {
            "text/html": [
              "2.008"
            ],
            "text/markdown": "2.008",
            "text/latex": "2.008",
            "text/plain": [
              "[1] 2.008"
            ]
          },
          "metadata": {}
        }
      ]
    },
    {
      "cell_type": "markdown",
      "source": [
        "Question 19a. Describe the skew and modality\n",
        "**Answer: it is a positive / right skew that is unimodal**"
      ],
      "metadata": {
        "id": "7ngfXd_xj8iH"
      }
    },
    {
      "cell_type": "markdown",
      "source": [
        "Question 19b. Use inequalties to describe the the relationship between the mode, median, and mean? e.g., A > B > C\n",
        "**Answer: for positive skew, mode < median < mean**"
      ],
      "metadata": {
        "id": "7-X4UTA5b3My"
      }
    },
    {
      "cell_type": "markdown",
      "source": [
        "Question 20. State whether the mean or median would better represent a typical observation in the data and why.\n",
        "**Answer: it is best to use the medial when the data is skewed, due to how robust it is with extreme values**"
      ],
      "metadata": {
        "id": "eQ0uXBkNcJ_-"
      }
    },
    {
      "cell_type": "markdown",
      "source": [
        "Question 21. Sixty-five participants were asked how much sleep they believe they get on average. Fourteen people answered that they generally sleep about six hours; nineteen about seven hours; twelve get around four hours; nine get about three hours; and eleven get about eight hours. Calculate the mean."
      ],
      "metadata": {
        "id": "UJcBU-_sjH7T"
      }
    },
    {
      "cell_type": "code",
      "source": [
        "frequency = c(14, 19, 12, 9, 11)\n",
        "hours_slept = c(6, 7, 4, 3, 8)\n",
        "\n",
        "prod = frequency * hours_slept\n",
        "sum_of_prod = sum(prod)\n",
        "sum_of_frequency = sum(frequency)\n",
        "\n",
        "weighted_mean = (sum_of_prod / sum_of_frequency)\n",
        "weighted_mean"
      ],
      "metadata": {
        "colab": {
          "base_uri": "https://localhost:8080/",
          "height": 34
        },
        "id": "hFqDsUasj2_U",
        "outputId": "6fa90d25-c70d-483c-8942-0d631ee5f616"
      },
      "execution_count": null,
      "outputs": [
        {
          "output_type": "display_data",
          "data": {
            "text/html": [
              "5.84615384615385"
            ],
            "text/markdown": "5.84615384615385",
            "text/latex": "5.84615384615385",
            "text/plain": [
              "[1] 5.846154"
            ]
          },
          "metadata": {}
        }
      ]
    },
    {
      "cell_type": "markdown",
      "source": [
        "Question 22a. Recreate the dataframe in R"
      ],
      "metadata": {
        "id": "afVR_v7xobrM"
      }
    },
    {
      "cell_type": "code",
      "source": [
        "Year = c(2000, 2001, 2002, 2003, 2004, 2005, 2006, 2007, 2008, 2009, 2010, 2011, 2012)\n",
        "Deaths = c(231, 21357, 11685, 33819, 228802, 88003, 6605, 712, 88011, 1790, 320120, 21953, 768)\n",
        "df3 = data.frame(Year, Deaths)\n",
        "df3"
      ],
      "metadata": {
        "colab": {
          "base_uri": "https://localhost:8080/",
          "height": 523
        },
        "id": "DElgIoxjrPxv",
        "outputId": "2bd37c8d-4b6f-40e1-e5ed-5964bcf1b245"
      },
      "execution_count": null,
      "outputs": [
        {
          "output_type": "display_data",
          "data": {
            "text/html": [
              "<table class=\"dataframe\">\n",
              "<caption>A data.frame: 13 × 2</caption>\n",
              "<thead>\n",
              "\t<tr><th scope=col>Year</th><th scope=col>Deaths</th></tr>\n",
              "\t<tr><th scope=col>&lt;dbl&gt;</th><th scope=col>&lt;dbl&gt;</th></tr>\n",
              "</thead>\n",
              "<tbody>\n",
              "\t<tr><td>2000</td><td>   231</td></tr>\n",
              "\t<tr><td>2001</td><td> 21357</td></tr>\n",
              "\t<tr><td>2002</td><td> 11685</td></tr>\n",
              "\t<tr><td>2003</td><td> 33819</td></tr>\n",
              "\t<tr><td>2004</td><td>228802</td></tr>\n",
              "\t<tr><td>2005</td><td> 88003</td></tr>\n",
              "\t<tr><td>2006</td><td>  6605</td></tr>\n",
              "\t<tr><td>2007</td><td>   712</td></tr>\n",
              "\t<tr><td>2008</td><td> 88011</td></tr>\n",
              "\t<tr><td>2009</td><td>  1790</td></tr>\n",
              "\t<tr><td>2010</td><td>320120</td></tr>\n",
              "\t<tr><td>2011</td><td> 21953</td></tr>\n",
              "\t<tr><td>2012</td><td>   768</td></tr>\n",
              "</tbody>\n",
              "</table>\n"
            ],
            "text/markdown": "\nA data.frame: 13 × 2\n\n| Year &lt;dbl&gt; | Deaths &lt;dbl&gt; |\n|---|---|\n| 2000 |    231 |\n| 2001 |  21357 |\n| 2002 |  11685 |\n| 2003 |  33819 |\n| 2004 | 228802 |\n| 2005 |  88003 |\n| 2006 |   6605 |\n| 2007 |    712 |\n| 2008 |  88011 |\n| 2009 |   1790 |\n| 2010 | 320120 |\n| 2011 |  21953 |\n| 2012 |    768 |\n\n",
            "text/latex": "A data.frame: 13 × 2\n\\begin{tabular}{ll}\n Year & Deaths\\\\\n <dbl> & <dbl>\\\\\n\\hline\n\t 2000 &    231\\\\\n\t 2001 &  21357\\\\\n\t 2002 &  11685\\\\\n\t 2003 &  33819\\\\\n\t 2004 & 228802\\\\\n\t 2005 &  88003\\\\\n\t 2006 &   6605\\\\\n\t 2007 &    712\\\\\n\t 2008 &  88011\\\\\n\t 2009 &   1790\\\\\n\t 2010 & 320120\\\\\n\t 2011 &  21953\\\\\n\t 2012 &    768\\\\\n\\end{tabular}\n",
            "text/plain": [
              "   Year Deaths\n",
              "1  2000    231\n",
              "2  2001  21357\n",
              "3  2002  11685\n",
              "4  2003  33819\n",
              "5  2004 228802\n",
              "6  2005  88003\n",
              "7  2006   6605\n",
              "8  2007    712\n",
              "9  2008  88011\n",
              "10 2009   1790\n",
              "11 2010 320120\n",
              "12 2011  21953\n",
              "13 2012    768"
            ]
          },
          "metadata": {}
        }
      ]
    },
    {
      "cell_type": "markdown",
      "source": [
        "Question 22b. What percentage of deaths occurred before 2001?"
      ],
      "metadata": {
        "id": "FfiqBxLss3CP"
      }
    },
    {
      "cell_type": "code",
      "source": [
        "total_deaths = sum(Deaths)\n",
        "total_death_pre_2001 = df3[c(1), c(2)]\n",
        "percentage_pre_2001 = (total_death_pre_2001/total_deaths) * 100\n",
        "percentage_pre_2001"
      ],
      "metadata": {
        "colab": {
          "base_uri": "https://localhost:8080/",
          "height": 34
        },
        "id": "03FAWJpgtPOq",
        "outputId": "add01f74-9769-4f09-8291-a0f4362d18b7"
      },
      "execution_count": null,
      "outputs": [
        {
          "output_type": "display_data",
          "data": {
            "text/html": [
              "0.0280388805810724"
            ],
            "text/markdown": "0.0280388805810724",
            "text/latex": "0.0280388805810724",
            "text/plain": [
              "[1] 0.02803888"
            ]
          },
          "metadata": {}
        }
      ]
    },
    {
      "cell_type": "markdown",
      "source": [
        "Question 22c. What percentage of deaths occurred from 2003 to 2010 inclusive?"
      ],
      "metadata": {
        "id": "HF_wHoRW4dsn"
      }
    },
    {
      "cell_type": "code",
      "source": [
        "deaths_2003_to_2010 = sum(df3[c(4:11), c(2)])\n",
        "percentage_2003_to_2010 = (deaths_2003_to_2010/total_deaths) * 100\n",
        "percentage_2003_to_2010"
      ],
      "metadata": {
        "colab": {
          "base_uri": "https://localhost:8080/",
          "height": 34
        },
        "id": "IBpKgvkn5Sj9",
        "outputId": "cc167d30-6973-45cb-c86c-9d6fbc282eb2"
      },
      "execution_count": null,
      "outputs": [
        {
          "output_type": "display_data",
          "data": {
            "text/html": [
              "93.2034238993222"
            ],
            "text/markdown": "93.2034238993222",
            "text/latex": "93.2034238993222",
            "text/plain": [
              "[1] 93.20342"
            ]
          },
          "metadata": {}
        }
      ]
    },
    {
      "cell_type": "markdown",
      "source": [
        "Question 22d. What type of data is the number of deaths and what type of measurement scale does it use?\n",
        "**Answer: number of deaths is discrete data, and it is measured on an interval scale**"
      ],
      "metadata": {
        "id": "aq5krs-A5rWI"
      }
    },
    {
      "cell_type": "markdown",
      "source": [
        "Question 22e. Earthquakes are quantified according to the amount of energy they produce (examples are 2.1, 5.0, 6.7). What type of data is that and what type of measurement scale does it use?\n",
        "**Answer: this is continuous data on a ratio scale**"
      ],
      "metadata": {
        "id": "_3CZXi4Z7okL"
      }
    },
    {
      "cell_type": "markdown",
      "source": [
        "Question 23a. There are 100 observations in the plot below. The first point starts at [1,1]. Re-create this plot."
      ],
      "metadata": {
        "id": "EUk8kNgi9Wtv"
      }
    },
    {
      "cell_type": "code",
      "source": [
        "x = 1:100\n",
        "y = 1:100\n",
        "library(ggplot2)\n",
        "df4 = data.frame(x,y)\n",
        "ggplot(data=df4, aes(x=x, y=y)) + geom_point()"
      ],
      "metadata": {
        "colab": {
          "base_uri": "https://localhost:8080/",
          "height": 437
        },
        "id": "n-FdO2XgBMFL",
        "outputId": "fb01dcd1-98f3-4fe8-f029-d765dd73a5ba"
      },
      "execution_count": null,
      "outputs": [
        {
          "output_type": "display_data",
          "data": {
            "text/plain": [
              "plot without title"
            ],
            "image/png": "[encoded data removed]"
          },
          "metadata": {
            "image/png": {
              "width": 420,
              "height": 420
            }
          }
        }
      ]
    },
    {
      "cell_type": "markdown",
      "source": [
        "Question 23b. Re-create the plot again, but this time transform the x-axis’ data using a base-5 logarithm (log5)"
      ],
      "metadata": {
        "id": "3Aad6nGtChT4"
      }
    },
    {
      "cell_type": "code",
      "source": [
        "library(ggplot2)\n",
        "df4$x_base5 = log(x,5)\n",
        "ggplot(data=df4, aes(x=x_base5, y=y)) + geom_point()"
      ],
      "metadata": {
        "colab": {
          "base_uri": "https://localhost:8080/",
          "height": 437
        },
        "id": "TknovQShEEGJ",
        "outputId": "20f4fe6c-c180-4e9e-a9bf-0d4619b04c0c"
      },
      "execution_count": null,
      "outputs": [
        {
          "output_type": "display_data",
          "data": {
            "text/plain": [
              "plot without title"
            ],
            "image/png": "[encoded data removed]"
          },
          "metadata": {
            "image/png": {
              "width": 420,
              "height": 420
            }
          }
        }
      ]
    },
    {
      "cell_type": "markdown",
      "source": [
        "Question 23c. Re-create the plot again, but this time transform the y-axis’ data using a base-5 logarithm."
      ],
      "metadata": {
        "id": "QNWj4jstERsA"
      }
    },
    {
      "cell_type": "code",
      "source": [
        "library(ggplot2)\n",
        "df4$y_base5 = log(y,5)\n",
        "ggplot(data=df4, aes(x=x, y=y_base5)) + geom_point()"
      ],
      "metadata": {
        "colab": {
          "base_uri": "https://localhost:8080/",
          "height": 437
        },
        "id": "RfXgqoQEF46B",
        "outputId": "56410c08-4200-4957-b322-98d0fc65d477"
      },
      "execution_count": null,
      "outputs": [
        {
          "output_type": "display_data",
          "data": {
            "text/plain": [
              "plot without title"
            ],
            "image/png": "[encoded data removed]"
          },
          "metadata": {
            "image/png": {
              "width": 420,
              "height": 420
            }
          }
        }
      ]
    },
    {
      "cell_type": "markdown",
      "source": [
        "Question 23d. Re-create the plot one more time and transform both axis’ data with a base-5 logarithm."
      ],
      "metadata": {
        "id": "8yzaOjkxGCio"
      }
    },
    {
      "cell_type": "code",
      "source": [
        "library(ggplot2)\n",
        "ggplot(data=df4, aes(x=x_base5, y=y_base5)) + geom_point()"
      ],
      "metadata": {
        "colab": {
          "base_uri": "https://localhost:8080/",
          "height": 437
        },
        "id": "9gbmHEWkGLk4",
        "outputId": "759bdd62-4368-4091-ccb7-0f356c4d94f7"
      },
      "execution_count": null,
      "outputs": [
        {
          "output_type": "display_data",
          "data": {
            "text/plain": [
              "plot without title"
            ],
            "image/png": "[encoded data removed]"
          },
          "metadata": {
            "image/png": {
              "width": 420,
              "height": 420
            }
          }
        }
      ]
    },
    {
      "cell_type": "code",
      "source": [],
      "metadata": {
        "id": "huFMlo6xGUYz"
      },
      "execution_count": null,
      "outputs": []
    }
  ]
}